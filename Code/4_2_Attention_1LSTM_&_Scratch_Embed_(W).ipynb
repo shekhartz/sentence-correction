{
 "cells": [
  {
   "cell_type": "markdown",
   "metadata": {
    "id": "mG_1reu7uM74"
   },
   "source": [
    "# Encoder-Decoder Model with Attention: 1 Layer LSTM & Scratch Embedding \n",
    "# (Word Level)"
   ]
  },
  {
   "cell_type": "markdown",
   "metadata": {
    "id": "q2-EJqakEV8z"
   },
   "source": [
    "## Loading Libraries"
   ]
  },
  {
   "cell_type": "code",
   "execution_count": null,
   "metadata": {
    "id": "C8c3NwDGZSdh"
   },
   "outputs": [],
   "source": [
    "import matplotlib.pyplot as plt\n",
    "import seaborn as sns\n",
    "sns.set_theme()\n",
    "import pandas as pd\n",
    "import re\n",
    "import datetime\n",
    "import numpy as np\n",
    "from tqdm import tqdm\n",
    "from sklearn.model_selection import train_test_split\n",
    "import nltk.translate.bleu_score as bleu\n",
    "import tensorflow as tf\n",
    "from tensorflow.keras.layers import Input, Softmax, RNN, Dense, Embedding, LSTM, Flatten, Activation \n",
    "from tensorflow.keras.models import Model\n",
    "from tensorflow.keras.preprocessing.text import Tokenizer\n",
    "from tensorflow.keras.preprocessing.sequence import pad_sequences\n",
    "from tensorflow.keras.callbacks import TensorBoard\n",
    "import matplotlib.ticker as ticker\n",
    "import warnings\n",
    "warnings.filterwarnings(\"ignore\")"
   ]
  },
  {
   "cell_type": "code",
   "execution_count": null,
   "metadata": {
    "colab": {
     "base_uri": "https://localhost:8080/"
    },
    "id": "VWejJV0H_sLd",
    "outputId": "2a4c9843-9ef9-4b93-d12d-102468ce85c3"
   },
   "outputs": [
    {
     "name": "stdout",
     "output_type": "stream",
     "text": [
      "Mounted at /content/drive\n"
     ]
    }
   ],
   "source": [
    "from google.colab import drive\n",
    "drive.mount('/content/drive')"
   ]
  },
  {
   "cell_type": "markdown",
   "metadata": {
    "id": "4fnNqtyMCwm9"
   },
   "source": [
    "## Loading Dataset"
   ]
  },
  {
   "cell_type": "code",
   "execution_count": null,
   "metadata": {
    "id": "ZjnALK_l5Vpe"
   },
   "outputs": [],
   "source": [
    "data_path = '/content/drive/MyDrive/CS2/2.Datasets/'\n",
    "model_path = '/content/drive/MyDrive/CS2/3.Models/4_2_Attention-Word-Scratch/'"
   ]
  },
  {
   "cell_type": "code",
   "execution_count": null,
   "metadata": {
    "colab": {
     "base_uri": "https://localhost:8080/",
     "height": 216
    },
    "id": "8IYsmHjRufNN",
    "outputId": "dfbafa52-0197-4e7d-f997-ba76e90ce820"
   },
   "outputs": [
    {
     "name": "stdout",
     "output_type": "stream",
     "text": [
      "(101717, 2)\n"
     ]
    },
    {
     "data": {
      "text/html": [
       "<div>\n",
       "<style scoped>\n",
       "    .dataframe tbody tr th:only-of-type {\n",
       "        vertical-align: middle;\n",
       "    }\n",
       "\n",
       "    .dataframe tbody tr th {\n",
       "        vertical-align: top;\n",
       "    }\n",
       "\n",
       "    .dataframe thead th {\n",
       "        text-align: right;\n",
       "    }\n",
       "</style>\n",
       "<table border=\"1\" class=\"dataframe\">\n",
       "  <thead>\n",
       "    <tr style=\"text-align: right;\">\n",
       "      <th></th>\n",
       "      <th>input_text</th>\n",
       "      <th>output_text</th>\n",
       "    </tr>\n",
       "  </thead>\n",
       "  <tbody>\n",
       "    <tr>\n",
       "      <th>0</th>\n",
       "      <td>Ofcouse , I love cheap fashion , fast fashion ...</td>\n",
       "      <td>Of course , I love cheap , fast fashion like f...</td>\n",
       "    </tr>\n",
       "    <tr>\n",
       "      <th>1</th>\n",
       "      <td>If he want to listen to music that I do n't li...</td>\n",
       "      <td>If he wants to listen to music that I do n't l...</td>\n",
       "    </tr>\n",
       "    <tr>\n",
       "      <th>2</th>\n",
       "      <td>This happened because of the cultural differen...</td>\n",
       "      <td>This happened because of the cultural differen...</td>\n",
       "    </tr>\n",
       "    <tr>\n",
       "      <th>3</th>\n",
       "      <td>I 'm gon na earn much money to study abroad .</td>\n",
       "      <td>I 'm gon na earn enough money to study abroad .</td>\n",
       "    </tr>\n",
       "    <tr>\n",
       "      <th>4</th>\n",
       "      <td>It is not difficult for me but answer phones a...</td>\n",
       "      <td>It is not difficult for me but answering the p...</td>\n",
       "    </tr>\n",
       "  </tbody>\n",
       "</table>\n",
       "</div>"
      ],
      "text/plain": [
       "                                          input_text                                        output_text\n",
       "0  Ofcouse , I love cheap fashion , fast fashion ...  Of course , I love cheap , fast fashion like f...\n",
       "1  If he want to listen to music that I do n't li...  If he wants to listen to music that I do n't l...\n",
       "2  This happened because of the cultural differen...  This happened because of the cultural differen...\n",
       "3      I 'm gon na earn much money to study abroad .    I 'm gon na earn enough money to study abroad .\n",
       "4  It is not difficult for me but answer phones a...  It is not difficult for me but answering the p..."
      ]
     },
     "execution_count": 4,
     "metadata": {
      "tags": []
     },
     "output_type": "execute_result"
    }
   ],
   "source": [
    "data = pd.read_csv(data_path + 'final_data.csv')\n",
    "print(data.shape)\n",
    "data.head()"
   ]
  },
  {
   "cell_type": "markdown",
   "metadata": {
    "id": "NCL5fOC6C28O"
   },
   "source": [
    "## Preprocess Data"
   ]
  },
  {
   "cell_type": "code",
   "execution_count": null,
   "metadata": {
    "id": "W1ZycZ1xT_E1"
   },
   "outputs": [],
   "source": [
    "def clean(text):\n",
    "    text = re.sub('<.*>', '', text)\n",
    "    text = re.sub('\\(.*\\)', '', text)\n",
    "    text = re.sub('\\[.*\\]', '', text)\n",
    "    text = re.sub('{.*}', '', text)\n",
    "    text = re.sub(\"[-+@#^/|*(){}$~`<>=_]\",\"\",text)\n",
    "    text = text.replace(\"\\\\\",\"\")\n",
    "    text = re.sub(\"\\[\",\"\",text)\n",
    "    text = re.sub(\"\\]\",\"\",text)\n",
    "    text = re.sub(\"[0-9]\",\"\",text)\n",
    "    return text\n",
    "\n",
    "data['input_text'] = data['input_text'].apply(lambda x: clean(x))\n",
    "data['output_text'] = data['output_text'].apply(lambda x: clean(x))"
   ]
  },
  {
   "cell_type": "code",
   "execution_count": null,
   "metadata": {
    "id": "9QqElB_nKZos"
   },
   "outputs": [],
   "source": [
    "def preprocessing(data):\n",
    "   \n",
    "    data['input_text_length'] = data['input_text'].str.split().apply(len)\n",
    "    data['output_text_length'] = data['output_text'].str.split().apply(len)\n",
    "\n",
    "    data = data[data['input_text_length'] < 25]\n",
    "    data = data[data['output_text_length'] < 25]\n",
    "\n",
    "    data['output_text_in'] = '<start> ' + data['output_text'].astype(str)\n",
    "    data['output_text_out'] = data['output_text'].astype(str) + ' <end>'\n",
    "\n",
    "    data = data.drop(['input_text_length','output_text_length','output_text'], axis=1)\n",
    "    return data"
   ]
  },
  {
   "cell_type": "code",
   "execution_count": null,
   "metadata": {
    "colab": {
     "base_uri": "https://localhost:8080/",
     "height": 216
    },
    "id": "s4yTTU8cD93w",
    "outputId": "9112e5bf-6b3e-412a-b049-baad8ea90de6"
   },
   "outputs": [
    {
     "name": "stdout",
     "output_type": "stream",
     "text": [
      "Shape of Dataset: (93503, 3)\n"
     ]
    },
    {
     "data": {
      "text/html": [
       "<div>\n",
       "<style scoped>\n",
       "    .dataframe tbody tr th:only-of-type {\n",
       "        vertical-align: middle;\n",
       "    }\n",
       "\n",
       "    .dataframe tbody tr th {\n",
       "        vertical-align: top;\n",
       "    }\n",
       "\n",
       "    .dataframe thead th {\n",
       "        text-align: right;\n",
       "    }\n",
       "</style>\n",
       "<table border=\"1\" class=\"dataframe\">\n",
       "  <thead>\n",
       "    <tr style=\"text-align: right;\">\n",
       "      <th></th>\n",
       "      <th>input_text</th>\n",
       "      <th>output_text_in</th>\n",
       "      <th>output_text_out</th>\n",
       "    </tr>\n",
       "  </thead>\n",
       "  <tbody>\n",
       "    <tr>\n",
       "      <th>0</th>\n",
       "      <td>Ofcouse , I love cheap fashion , fast fashion ...</td>\n",
       "      <td>&lt;start&gt; Of course , I love cheap , fast fashio...</td>\n",
       "      <td>Of course , I love cheap , fast fashion like f...</td>\n",
       "    </tr>\n",
       "    <tr>\n",
       "      <th>1</th>\n",
       "      <td>If he want to listen to music that I do n't li...</td>\n",
       "      <td>&lt;start&gt; If he wants to listen to music that I ...</td>\n",
       "      <td>If he wants to listen to music that I do n't l...</td>\n",
       "    </tr>\n",
       "    <tr>\n",
       "      <th>2</th>\n",
       "      <td>This happened because of the cultural differen...</td>\n",
       "      <td>&lt;start&gt; This happened because of the cultural ...</td>\n",
       "      <td>This happened because of the cultural differen...</td>\n",
       "    </tr>\n",
       "    <tr>\n",
       "      <th>3</th>\n",
       "      <td>I 'm gon na earn much money to study abroad .</td>\n",
       "      <td>&lt;start&gt; I 'm gon na earn enough money to study...</td>\n",
       "      <td>I 'm gon na earn enough money to study abroad ...</td>\n",
       "    </tr>\n",
       "    <tr>\n",
       "      <th>4</th>\n",
       "      <td>It is not difficult for me but answer phones a...</td>\n",
       "      <td>&lt;start&gt; It is not difficult for me but answeri...</td>\n",
       "      <td>It is not difficult for me but answering the p...</td>\n",
       "    </tr>\n",
       "  </tbody>\n",
       "</table>\n",
       "</div>"
      ],
      "text/plain": [
       "                                          input_text  ...                                    output_text_out\n",
       "0  Ofcouse , I love cheap fashion , fast fashion ...  ...  Of course , I love cheap , fast fashion like f...\n",
       "1  If he want to listen to music that I do n't li...  ...  If he wants to listen to music that I do n't l...\n",
       "2  This happened because of the cultural differen...  ...  This happened because of the cultural differen...\n",
       "3      I 'm gon na earn much money to study abroad .  ...  I 'm gon na earn enough money to study abroad ...\n",
       "4  It is not difficult for me but answer phones a...  ...  It is not difficult for me but answering the p...\n",
       "\n",
       "[5 rows x 3 columns]"
      ]
     },
     "execution_count": 7,
     "metadata": {
      "tags": []
     },
     "output_type": "execute_result"
    }
   ],
   "source": [
    "data = preprocessing(data)\n",
    "\n",
    "data.iloc[0]['output_text_in'] = str(data.iloc[0]['output_text_in'])+' <end>'\n",
    "data.iloc[0]['output_text_out'] = str(data.iloc[0]['output_text_out'])+' <end>'\n",
    "\n",
    "print('Shape of Dataset:', data.shape)\n",
    "data.head()"
   ]
  },
  {
   "cell_type": "markdown",
   "metadata": {
    "id": "Dx2iV7_sC_aJ"
   },
   "source": [
    "## Train Test Split"
   ]
  },
  {
   "cell_type": "code",
   "execution_count": null,
   "metadata": {
    "colab": {
     "base_uri": "https://localhost:8080/"
    },
    "id": "nwq2jKcGZzt-",
    "outputId": "f6ed7e27-8160-4cc2-ee21-5fabe6cad798"
   },
   "outputs": [
    {
     "name": "stdout",
     "output_type": "stream",
     "text": [
      "Shape of Train Data: (84152, 3)\n",
      "Shape of Test Data: (9351, 3)\n"
     ]
    }
   ],
   "source": [
    "train, test = train_test_split(data, test_size=0.1, random_state=42)\n",
    "print('Shape of Train Data:', train.shape)\n",
    "print('Shape of Test Data:', test.shape)"
   ]
  },
  {
   "cell_type": "markdown",
   "metadata": {
    "id": "uiR00g4hDEtl"
   },
   "source": [
    "## Tokenization"
   ]
  },
  {
   "cell_type": "code",
   "execution_count": null,
   "metadata": {
    "colab": {
     "base_uri": "https://localhost:8080/"
    },
    "id": "cEqQKioDaFS6",
    "outputId": "89752581-2286-4b1f-f7e0-ebdab7900b8e"
   },
   "outputs": [
    {
     "name": "stdout",
     "output_type": "stream",
     "text": [
      "Input Vocab Size: 35510\n",
      "Output Vocab Size: 29350\n"
     ]
    }
   ],
   "source": [
    "tokenizer_i = Tokenizer(filters=\"\", char_level=False, lower=False)\n",
    "tokenizer_o = Tokenizer(filters=\"\", char_level=False, lower=False)\n",
    "\n",
    "tokenizer_i.fit_on_texts(train['input_text'].values)\n",
    "tokenizer_o.fit_on_texts(train['output_text_in'].values)\n",
    "\n",
    "vocab_size_input = len(tokenizer_i.word_index.keys())\n",
    "print('Input Vocab Size:', vocab_size_input)\n",
    "\n",
    "vocab_size_output = len(tokenizer_o.word_index.keys())\n",
    "print('Output Vocab Size:', vocab_size_output)"
   ]
  },
  {
   "cell_type": "markdown",
   "metadata": {
    "id": "JfknU1OTDyDe"
   },
   "source": [
    "## Data Pipeline"
   ]
  },
  {
   "cell_type": "code",
   "execution_count": null,
   "metadata": {
    "id": "MLYD6-FR7iZ3"
   },
   "outputs": [],
   "source": [
    "class Dataset:\n",
    "    def __init__(self, data, tokenizer_i, tokenizer_o, max_len_enc, max_len_dec):\n",
    "        self.encoder_inps = data['input_text'].values\n",
    "        self.decoder_inps = data['output_text_in'].values\n",
    "        self.decoder_outs = data['output_text_out'].values\n",
    "        self.tokenizer_o = tokenizer_o\n",
    "        self.tokenizer_i = tokenizer_i\n",
    "        self.max_len_enc = max_len_enc\n",
    "        self.max_len_dec = max_len_dec\n",
    "\n",
    "\n",
    "    def __getitem__(self, i):\n",
    "        self.encoder_seq = self.tokenizer_i.texts_to_sequences([self.encoder_inps[i]]) \n",
    "        self.decoder_inp_seq = self.tokenizer_o.texts_to_sequences([self.decoder_inps[i]])\n",
    "        self.decoder_out_seq = self.tokenizer_o.texts_to_sequences([self.decoder_outs[i]])\n",
    "\n",
    "        self.encoder_seq = pad_sequences(self.encoder_seq, maxlen=self.max_len_enc, dtype='int32', padding='post')\n",
    "        self.decoder_inp_seq = pad_sequences(self.decoder_inp_seq, maxlen=self.max_len_dec, dtype='int32', padding='post')\n",
    "        self.decoder_out_seq = pad_sequences(self.decoder_out_seq, maxlen=self.max_len_dec, dtype='int32', padding='post')\n",
    "        return self.encoder_seq, self.decoder_inp_seq, self.decoder_out_seq\n",
    "\n",
    "    def __len__(self):\n",
    "        return len(self.encoder_inps)\n",
    "\n",
    "    \n",
    "class Dataloder(tf.keras.utils.Sequence):    \n",
    "    def __init__(self, dataset, batch_size=1):\n",
    "        self.dataset = dataset\n",
    "        self.batch_size = batch_size\n",
    "        self.indexes = np.arange(len(self.dataset.encoder_inps))\n",
    "\n",
    "\n",
    "    def __getitem__(self, i):\n",
    "        start = i * self.batch_size\n",
    "        stop = (i + 1) * self.batch_size\n",
    "        data = []\n",
    "        for j in range(start, stop):\n",
    "            data.append(self.dataset[j])\n",
    "\n",
    "        batch = [np.squeeze(np.stack(samples, axis=1), axis=0) for samples in zip(*data)]\n",
    "        return tuple([[batch[0],batch[1]],batch[2]])\n",
    "\n",
    "    def __len__(self): \n",
    "        return len(self.indexes) // self.batch_size\n",
    "\n",
    "    def on_epoch_end(self):\n",
    "        self.indexes = np.random.permutation(self.indexes)"
   ]
  },
  {
   "cell_type": "code",
   "execution_count": null,
   "metadata": {
    "colab": {
     "base_uri": "https://localhost:8080/"
    },
    "id": "yYS7cpfD7n3S",
    "outputId": "e1ca9179-ff22-4824-aff9-c52dfc622208"
   },
   "outputs": [
    {
     "name": "stdout",
     "output_type": "stream",
     "text": [
      "Train Dataloader: (512, 25) (512, 25) (512, 25)\n",
      "Test Dataloader: (512, 25) (512, 25) (512, 25)\n"
     ]
    }
   ],
   "source": [
    "train_dataset = Dataset(train, tokenizer_i, tokenizer_o, 25, 25)\n",
    "test_dataset  = Dataset(test, tokenizer_i, tokenizer_o, 25, 25)\n",
    "\n",
    "train_dataloader = Dataloder(train_dataset, batch_size=512)\n",
    "test_dataloader = Dataloder(test_dataset, batch_size=512)\n",
    "\n",
    "print('Train Dataloader:', train_dataloader[0][0][0].shape, train_dataloader[0][0][1].shape, train_dataloader[0][1].shape)\n",
    "print('Test Dataloader:', test_dataloader[0][0][0].shape, test_dataloader[0][0][1].shape, test_dataloader[0][1].shape)"
   ]
  },
  {
   "cell_type": "markdown",
   "metadata": {
    "id": "1RHXoozdDrug"
   },
   "source": [
    "## Model Building"
   ]
  },
  {
   "cell_type": "code",
   "execution_count": null,
   "metadata": {
    "id": "aCH8qtWgDFcz"
   },
   "outputs": [],
   "source": [
    "class Encoder(tf.keras.Model):\n",
    "    '''\n",
    "    Encoder model -- That takes a input sequence and returns encoder-outputs,encoder_final_state_h,encoder_final_state_c\n",
    "    '''\n",
    "    def __init__(self,in_vocab_size,embedding_dim,enc_units,input_length):\n",
    "        super().__init__()\n",
    "        self.in_vocab_size = in_vocab_size\n",
    "        self.embedding_dim = embedding_dim\n",
    "        self.input_length = input_length\n",
    "        self.enc_units = enc_units\n",
    "\n",
    "    def build(self, input_shape):\n",
    "        self.embedding = Embedding(input_dim=self.in_vocab_size, output_dim=self.embedding_dim, input_length=self.input_length, mask_zero=True, name=\"Encoder_Embedding\")\n",
    "        self.lstm = LSTM(self.enc_units, return_state=True, return_sequences=True, name=\"Encoder_LSTM\")\n",
    "        \n",
    "    def call(self, input_sentences, training=True):\n",
    "        input_embed = self.embedding(input_sentences)\n",
    "        encoder_output, encoder_state_h, encoder_state_c = self.lstm(input_embed)\n",
    "        return encoder_output, encoder_state_h, encoder_state_c\n",
    "\n",
    "#-----------------------------------------------------------------------------------------------------------------------------------\n",
    "class Attention(tf.keras.layers.Layer):\n",
    "  '''\n",
    "  Class the calculates score based on the scoring_function using Bahdanu attention mechanism.\n",
    "  '''\n",
    "  def __init__(self,scoring_function, att_units):\n",
    "    super().__init__()\n",
    "    self.scoring_function = scoring_function\n",
    "    self.att_units = att_units\n",
    "\n",
    "    if self.scoring_function == 'dot':\n",
    "      pass\n",
    "\n",
    "    if scoring_function == 'general':\n",
    "      self.W = Dense(self.att_units)\n",
    "      \n",
    "    elif scoring_function == 'concat':\n",
    "      self.W1 = Dense(self.att_units)\n",
    "      self.W2 = Dense(self.att_units)\n",
    "      self.Va = Dense(1)\n",
    "  \n",
    "  \n",
    "  def call(self,decoder_hidden_state,encoder_output):\n",
    "    if self.scoring_function == 'dot':\n",
    "        decoder_hidden_state = tf.expand_dims(decoder_hidden_state, 2)\n",
    "        score = tf.matmul(encoder_output, decoder_hidden_state)\n",
    "\n",
    "    elif self.scoring_function == 'general':\n",
    "        decoder_hidden_state = tf.expand_dims(decoder_hidden_state, 2)\n",
    "        score = tf.matmul(self.W(encoder_output), decoder_hidden_state)\n",
    "\n",
    "    elif self.scoring_function == 'concat':\n",
    "        decoder_hidden_state = tf.expand_dims(decoder_hidden_state, 1)\n",
    "        score = self.Va(tf.nn.tanh(self.W1(decoder_hidden_state) + self.W2(encoder_output)))\n",
    "\n",
    "    attention_weight = tf.nn.softmax(score, axis=1)\n",
    "    context_vector = tf.reduce_sum(attention_weight * encoder_output, axis=1)\n",
    "    return context_vector, attention_weight\n",
    "\n",
    "#-----------------------------------------------------------------------------------------------------------------------------------\n",
    "class One_Step_Decoder(tf.keras.Model):\n",
    "  def __init__(self, tar_vocab_size, embedding_dim, input_length, dec_units, score_fun, att_units):\n",
    "      super().__init__()\n",
    "      self.tar_vocab_size = tar_vocab_size\n",
    "      self.embedding_dim = embedding_dim\n",
    "      self.input_length = input_length\n",
    "      self.dec_units= dec_units\n",
    "      self.score_fun = score_fun\n",
    "      self.att_units = att_units\n",
    "\n",
    "  def build(self, input_shape):\n",
    "        self.embedding = Embedding(input_dim=self.tar_vocab_size, output_dim=self.embedding_dim, input_length=self.input_length, mask_zero=True, name=\"Decoder_Embedding\")\n",
    "        self.lstm = LSTM(self.dec_units, return_state=True, return_sequences=True, name=\"Decoder_LSTM\")\n",
    "        self.dense = Dense(self.tar_vocab_size)\n",
    "        self.attention = Attention(self.score_fun, self.att_units)\n",
    "\n",
    "  def call(self,input_to_decoder, encoder_output, state_h, state_c):\n",
    "    \n",
    "    target_embedd = self.embedding(input_to_decoder)\n",
    "\n",
    "    context_vector, attention_weights = self.attention(state_h, encoder_output)\n",
    "    context_vector = tf.expand_dims(context_vector, 1)\n",
    "\n",
    "    decoder_input = tf.concat([target_embedd, context_vector], 2)\n",
    "\n",
    "    decoder_output, decoder_final_state_h, decoder_final_state_c = self.lstm(decoder_input, initial_state=[state_h,state_c])\n",
    "\n",
    "    output = self.dense(decoder_output)\n",
    "\n",
    "    return tf.squeeze(output), decoder_final_state_h, decoder_final_state_c, attention_weights, tf.squeeze(context_vector)\n",
    "\n",
    "#-----------------------------------------------------------------------------------------------------------------------------------\n",
    "class Decoder(tf.keras.Model):\n",
    "    def __init__(self,out_vocab_size, embedding_dim, input_length, dec_units ,score_fun, att_units):\n",
    "      super(Decoder, self).__init__()\n",
    "      self.out_vocab_size = out_vocab_size\n",
    "      self.embedding_dim = embedding_dim\n",
    "      self.input_length = input_length\n",
    "      self.dec_units = dec_units\n",
    "      self.score_fun = score_fun\n",
    "      self.att_units = att_units\n",
    "      self.one_step_decoder = One_Step_Decoder(self.out_vocab_size, self.embedding_dim, self.input_length, self.dec_units, self.score_fun, self.att_units)\n",
    "\n",
    "   \n",
    "    def call(self, input_to_decoder, encoder_output_state, decoder_hidden_state, decoder_cell_state):\n",
    "      all_outputs = tf.TensorArray(tf.float32, size=tf.shape(input_to_decoder)[1], name=\"output_arrays\")\n",
    "\n",
    "      for timestep in range(tf.shape(input_to_decoder)[1]):\n",
    "        output, decoder_hidden_state, decoder_cell_state, attention_weights, context_vector = self.one_step_decoder(input_to_decoder[:,timestep:timestep+1], encoder_output_state, decoder_hidden_state, decoder_cell_state)\n",
    "        all_outputs = all_outputs.write(timestep, output)\n",
    "\n",
    "      all_outputs = tf.transpose(all_outputs.stack(), [1, 0, 2])\n",
    "      return all_outputs\n",
    "\n",
    "#-----------------------------------------------------------------------------------------------------------------------------------\n",
    "class Encoder_Decoder(tf.keras.Model):\n",
    "  def __init__(self, encoder_inputs_length, decoder_inputs_length, input_vocab_size, output_vocab_size, embedding_dim, enc_units, dec_units, att_units, batch_size, score_fun, name='Encoder-Decoder-Attention'):\n",
    "    super().__init__(name=name)\n",
    "    self.encoder = Encoder(in_vocab_size=input_vocab_size+1, embedding_dim=embedding_dim, enc_units=enc_units, input_length=encoder_inputs_length)\n",
    "    self.decoder = Decoder(out_vocab_size=output_vocab_size+1, embedding_dim=embedding_dim, input_length=decoder_inputs_length, dec_units=dec_units, score_fun=score_fun, att_units=att_units)\n",
    "    self.batch_size = batch_size\n",
    "\n",
    "  def call(self,data):\n",
    "\n",
    "    input, output = data[0], data[1]\n",
    "\n",
    "    encoder_output, encoder_h, encoder_c = self.encoder(input)\n",
    "    decoder_output = self.decoder(output, encoder_output, encoder_h, encoder_c)\n",
    "    return decoder_output"
   ]
  },
  {
   "cell_type": "markdown",
   "metadata": {
    "id": "ioBubCAmEHWN"
   },
   "source": [
    "## Custom Loss Function"
   ]
  },
  {
   "cell_type": "code",
   "execution_count": null,
   "metadata": {
    "id": "QY_3izrXMs8y"
   },
   "outputs": [],
   "source": [
    "def loss_function(real, pred):\n",
    "    mask = tf.math.logical_not(tf.math.equal(real, 0))\n",
    "    loss_object = tf.keras.losses.SparseCategoricalCrossentropy(from_logits=True, reduction='none')\n",
    "    loss_ = loss_object(real, pred)\n",
    "    mask = tf.cast(mask, dtype=loss_.dtype)\n",
    "    loss_ *= mask\n",
    "    return tf.reduce_mean(loss_)"
   ]
  },
  {
   "cell_type": "markdown",
   "metadata": {
    "id": "11PwkigioLFN"
   },
   "source": [
    "## Model Training"
   ]
  },
  {
   "cell_type": "code",
   "execution_count": null,
   "metadata": {
    "id": "rO1R0QrVn3t3"
   },
   "outputs": [],
   "source": [
    "lr = tf.keras.callbacks.ReduceLROnPlateau(monitor='val_loss', factor=0.99, patience=100)\n",
    "es = tf.keras.callbacks.EarlyStopping(patience=3, verbose=1, min_delta=0.001, monitor='val_loss', mode='min', restore_best_weights=True)\n",
    "\n",
    "train_steps = train.shape[0]//512\n",
    "valid_steps = test.shape[0]//512\n",
    "\n",
    "model  = Encoder_Decoder(encoder_inputs_length=25,\n",
    "                          decoder_inputs_length=25,\n",
    "                          input_vocab_size=vocab_size_input,\n",
    "                          output_vocab_size=vocab_size_output, \n",
    "                          embedding_dim=300, \n",
    "                          enc_units=64, \n",
    "                          dec_units=64, \n",
    "                          att_units=64,\n",
    "                          batch_size=512,\n",
    "                          score_fun='dot')\n",
    "\n",
    "model.compile(optimizer=tf.keras.optimizers.Adam(),loss=loss_function)"
   ]
  },
  {
   "cell_type": "markdown",
   "metadata": {
    "id": "84Bu7-RWRT9N"
   },
   "source": [
    "40 Epoch"
   ]
  },
  {
   "cell_type": "code",
   "execution_count": null,
   "metadata": {
    "colab": {
     "base_uri": "https://localhost:8080/"
    },
    "id": "1bXjrmvoeviz",
    "outputId": "76fe6bdb-cee4-47aa-cabc-ea4c5a8a0929"
   },
   "outputs": [
    {
     "name": "stdout",
     "output_type": "stream",
     "text": [
      "Epoch 1/40\n",
      "164/164 [==============================] - 128s 747ms/step - loss: 3.6338 - val_loss: 3.0872\n",
      "Epoch 2/40\n",
      "164/164 [==============================] - 121s 741ms/step - loss: 3.0231 - val_loss: 2.9271\n",
      "Epoch 3/40\n",
      "164/164 [==============================] - 121s 741ms/step - loss: 2.8560 - val_loss: 2.7758\n",
      "Epoch 4/40\n",
      "164/164 [==============================] - 122s 746ms/step - loss: 2.7168 - val_loss: 2.6320\n",
      "Epoch 5/40\n",
      "164/164 [==============================] - 121s 738ms/step - loss: 2.5650 - val_loss: 2.4841\n",
      "Epoch 6/40\n",
      "164/164 [==============================] - 122s 742ms/step - loss: 2.4299 - val_loss: 2.3620\n",
      "Epoch 7/40\n",
      "164/164 [==============================] - 121s 741ms/step - loss: 2.3216 - val_loss: 2.2635\n",
      "Epoch 8/40\n",
      "164/164 [==============================] - 121s 740ms/step - loss: 2.2298 - val_loss: 2.1775\n",
      "Epoch 9/40\n",
      "164/164 [==============================] - 121s 738ms/step - loss: 2.1449 - val_loss: 2.0938\n",
      "Epoch 10/40\n",
      "164/164 [==============================] - 122s 742ms/step - loss: 2.0642 - val_loss: 2.0151\n",
      "Epoch 11/40\n",
      "164/164 [==============================] - 121s 736ms/step - loss: 1.9881 - val_loss: 1.9402\n",
      "Epoch 12/40\n",
      "164/164 [==============================] - 121s 737ms/step - loss: 1.9157 - val_loss: 1.8667\n",
      "Epoch 13/40\n",
      "164/164 [==============================] - 122s 743ms/step - loss: 1.8444 - val_loss: 1.7983\n",
      "Epoch 14/40\n",
      "164/164 [==============================] - 120s 732ms/step - loss: 1.7739 - val_loss: 1.7257\n",
      "Epoch 15/40\n",
      "164/164 [==============================] - 121s 738ms/step - loss: 1.7059 - val_loss: 1.6589\n",
      "Epoch 16/40\n",
      "164/164 [==============================] - 120s 731ms/step - loss: 1.6400 - val_loss: 1.5943\n",
      "Epoch 17/40\n",
      "164/164 [==============================] - 120s 732ms/step - loss: 1.5743 - val_loss: 1.5289\n",
      "Epoch 18/40\n",
      "164/164 [==============================] - 121s 739ms/step - loss: 1.5112 - val_loss: 1.4657\n",
      "Epoch 19/40\n",
      "164/164 [==============================] - 120s 731ms/step - loss: 1.4507 - val_loss: 1.4061\n",
      "Epoch 20/40\n",
      "164/164 [==============================] - 120s 732ms/step - loss: 1.3928 - val_loss: 1.3501\n",
      "Epoch 21/40\n",
      "164/164 [==============================] - 121s 739ms/step - loss: 1.3367 - val_loss: 1.2952\n",
      "Epoch 22/40\n",
      "164/164 [==============================] - 120s 732ms/step - loss: 1.2849 - val_loss: 1.2438\n",
      "Epoch 23/40\n",
      "164/164 [==============================] - 120s 732ms/step - loss: 1.2353 - val_loss: 1.1980\n",
      "Epoch 24/40\n",
      "164/164 [==============================] - 121s 738ms/step - loss: 1.1880 - val_loss: 1.1516\n",
      "Epoch 25/40\n",
      "164/164 [==============================] - 119s 728ms/step - loss: 1.1436 - val_loss: 1.1090\n",
      "Epoch 26/40\n",
      "164/164 [==============================] - 121s 736ms/step - loss: 1.1032 - val_loss: 1.0677\n",
      "Epoch 27/40\n",
      "164/164 [==============================] - 119s 728ms/step - loss: 1.0656 - val_loss: 1.0382\n",
      "Epoch 28/40\n",
      "164/164 [==============================] - 119s 729ms/step - loss: 1.0295 - val_loss: 0.9972\n",
      "Epoch 29/40\n",
      "164/164 [==============================] - 120s 733ms/step - loss: 0.9939 - val_loss: 0.9626\n",
      "Epoch 30/40\n",
      "164/164 [==============================] - 119s 726ms/step - loss: 0.9615 - val_loss: 0.9340\n",
      "Epoch 31/40\n",
      "164/164 [==============================] - 119s 727ms/step - loss: 0.9314 - val_loss: 0.9054\n",
      "Epoch 32/40\n",
      "164/164 [==============================] - 121s 736ms/step - loss: 0.9017 - val_loss: 0.8757\n",
      "Epoch 33/40\n",
      "164/164 [==============================] - 119s 729ms/step - loss: 0.8752 - val_loss: 0.8494\n",
      "Epoch 34/40\n",
      "164/164 [==============================] - 120s 735ms/step - loss: 0.8486 - val_loss: 0.8251\n",
      "Epoch 35/40\n",
      "164/164 [==============================] - 120s 730ms/step - loss: 0.8243 - val_loss: 0.7999\n",
      "Epoch 36/40\n",
      "164/164 [==============================] - 120s 730ms/step - loss: 0.8018 - val_loss: 0.7780\n",
      "Epoch 37/40\n",
      "164/164 [==============================] - 121s 736ms/step - loss: 0.7799 - val_loss: 0.7594\n",
      "Epoch 38/40\n",
      "164/164 [==============================] - 119s 727ms/step - loss: 0.7567 - val_loss: 0.7346\n",
      "Epoch 39/40\n",
      "164/164 [==============================] - 120s 731ms/step - loss: 0.7344 - val_loss: 0.7129\n",
      "Epoch 40/40\n",
      "164/164 [==============================] - 121s 738ms/step - loss: 0.7149 - val_loss: 0.7000\n"
     ]
    }
   ],
   "source": [
    "with tf.device('/device:GPU:0'):\n",
    "    history40 = model.fit_generator(train_dataloader, steps_per_epoch=train_steps, epochs=40, validation_data=train_dataloader, validation_steps=train_steps, callbacks=[lr,es])"
   ]
  },
  {
   "cell_type": "code",
   "execution_count": null,
   "metadata": {
    "id": "GQ7fAhM17hx2"
   },
   "outputs": [],
   "source": [
    "model.save_weights(model_path + 'att40/' + 'attention40', save_format='tf') "
   ]
  },
  {
   "cell_type": "code",
   "execution_count": null,
   "metadata": {
    "colab": {
     "base_uri": "https://localhost:8080/",
     "height": 301
    },
    "id": "HfutJC3DXqId",
    "outputId": "434ae8fc-8014-430e-b87a-dbf54052adcd"
   },
   "outputs": [
    {
     "data": {
      "image/png": "[encoded data removed]",
      "text/plain": [
       "<Figure size 432x288 with 1 Axes>"
      ]
     },
     "metadata": {
      "tags": []
     },
     "output_type": "display_data"
    }
   ],
   "source": [
    "plt.plot(history40.history['loss'])\n",
    "plt.plot(history40.history['val_loss'])\n",
    "plt.title('model loss')\n",
    "plt.ylabel('loss')\n",
    "plt.xlabel('epoch')\n",
    "plt.legend(['train', 'test'], loc='upper right')\n",
    "plt.show()"
   ]
  },
  {
   "cell_type": "code",
   "execution_count": null,
   "metadata": {
    "colab": {
     "base_uri": "https://localhost:8080/"
    },
    "id": "ElR2P237InDo",
    "outputId": "9b606948-8a6e-4de6-8332-e367a27deb50"
   },
   "outputs": [
    {
     "name": "stdout",
     "output_type": "stream",
     "text": [
      "Model: \"Encoder-Decoder-Attention\"\n",
      "_________________________________________________________________\n",
      "Layer (type)                 Output Shape              Param #   \n",
      "=================================================================\n",
      "encoder_1 (Encoder)          multiple                  10746740  \n",
      "_________________________________________________________________\n",
      "decoder_1 (Decoder)          multiple                  10822939  \n",
      "=================================================================\n",
      "Total params: 21,569,679\n",
      "Trainable params: 21,569,679\n",
      "Non-trainable params: 0\n",
      "_________________________________________________________________\n"
     ]
    }
   ],
   "source": [
    "model.summary()"
   ]
  },
  {
   "cell_type": "markdown",
   "metadata": {
    "id": "ZkVcYdPyRbEE"
   },
   "source": [
    "80 Epoch"
   ]
  },
  {
   "cell_type": "code",
   "execution_count": null,
   "metadata": {
    "colab": {
     "base_uri": "https://localhost:8080/"
    },
    "id": "sy7OtaovIttl",
    "outputId": "7693f49c-f9e1-45df-ef48-3929dfc437d5"
   },
   "outputs": [
    {
     "name": "stdout",
     "output_type": "stream",
     "text": [
      "Epoch 1/40\n",
      "164/164 [==============================] - 119s 729ms/step - loss: 0.6972 - val_loss: 0.6780\n",
      "Epoch 2/40\n",
      "164/164 [==============================] - 121s 736ms/step - loss: 0.6791 - val_loss: 0.6609\n",
      "Epoch 3/40\n",
      "164/164 [==============================] - 120s 729ms/step - loss: 0.6627 - val_loss: 0.6439\n",
      "Epoch 4/40\n",
      "164/164 [==============================] - 121s 738ms/step - loss: 0.6470 - val_loss: 0.6308\n",
      "Epoch 5/40\n",
      "164/164 [==============================] - 122s 742ms/step - loss: 0.6306 - val_loss: 0.6129\n",
      "Epoch 6/40\n",
      "164/164 [==============================] - 120s 729ms/step - loss: 0.6132 - val_loss: 0.5958\n",
      "Epoch 7/40\n",
      "164/164 [==============================] - 121s 738ms/step - loss: 0.5975 - val_loss: 0.5820\n",
      "Epoch 8/40\n",
      "164/164 [==============================] - 120s 733ms/step - loss: 0.5839 - val_loss: 0.5691\n",
      "Epoch 9/40\n",
      "164/164 [==============================] - 120s 732ms/step - loss: 0.5719 - val_loss: 0.5571\n",
      "Epoch 10/40\n",
      "164/164 [==============================] - 121s 736ms/step - loss: 0.5570 - val_loss: 0.5426\n",
      "Epoch 11/40\n",
      "164/164 [==============================] - 134s 819ms/step - loss: 0.5437 - val_loss: 0.5304\n",
      "Epoch 12/40\n",
      "164/164 [==============================] - 120s 730ms/step - loss: 0.5317 - val_loss: 0.5206\n",
      "Epoch 13/40\n",
      "164/164 [==============================] - 122s 744ms/step - loss: 0.5216 - val_loss: 0.5076\n",
      "Epoch 14/40\n",
      "164/164 [==============================] - 120s 734ms/step - loss: 0.5107 - val_loss: 0.5006\n",
      "Epoch 15/40\n",
      "164/164 [==============================] - 120s 734ms/step - loss: 0.5006 - val_loss: 0.4885\n",
      "Epoch 16/40\n",
      "164/164 [==============================] - 120s 732ms/step - loss: 0.4895 - val_loss: 0.4787\n",
      "Epoch 17/40\n",
      "164/164 [==============================] - 120s 735ms/step - loss: 0.4780 - val_loss: 0.4671\n",
      "Epoch 18/40\n",
      "164/164 [==============================] - 120s 732ms/step - loss: 0.4672 - val_loss: 0.4587\n",
      "Epoch 19/40\n",
      "164/164 [==============================] - 121s 736ms/step - loss: 0.4604 - val_loss: 0.4506\n",
      "Epoch 20/40\n",
      "164/164 [==============================] - 119s 728ms/step - loss: 0.4533 - val_loss: 0.4485\n",
      "Epoch 21/40\n",
      "164/164 [==============================] - 120s 734ms/step - loss: 0.4460 - val_loss: 0.4357\n",
      "Epoch 22/40\n",
      "164/164 [==============================] - 119s 729ms/step - loss: 0.4347 - val_loss: 0.4251\n",
      "Epoch 23/40\n",
      "164/164 [==============================] - 120s 729ms/step - loss: 0.4266 - val_loss: 0.4243\n",
      "Epoch 24/40\n",
      "164/164 [==============================] - 135s 823ms/step - loss: 0.4199 - val_loss: 0.4136\n",
      "Epoch 25/40\n",
      "164/164 [==============================] - 120s 732ms/step - loss: 0.4113 - val_loss: 0.4045\n",
      "Epoch 26/40\n",
      "164/164 [==============================] - 119s 729ms/step - loss: 0.4032 - val_loss: 0.3960\n",
      "Epoch 27/40\n",
      "164/164 [==============================] - 120s 732ms/step - loss: 0.3953 - val_loss: 0.3933\n",
      "Epoch 28/40\n",
      "164/164 [==============================] - 120s 730ms/step - loss: 0.3901 - val_loss: 0.3844\n",
      "Epoch 29/40\n",
      "164/164 [==============================] - 120s 730ms/step - loss: 0.3833 - val_loss: 0.3786\n",
      "Epoch 30/40\n",
      "164/164 [==============================] - 120s 731ms/step - loss: 0.3785 - val_loss: 0.3747\n",
      "Epoch 31/40\n",
      "164/164 [==============================] - 119s 729ms/step - loss: 0.3740 - val_loss: 0.3714\n",
      "Epoch 32/40\n",
      "164/164 [==============================] - 120s 730ms/step - loss: 0.3684 - val_loss: 0.3637\n",
      "Epoch 33/40\n",
      "164/164 [==============================] - 120s 735ms/step - loss: 0.3673 - val_loss: 0.3675\n",
      "Epoch 34/40\n",
      "164/164 [==============================] - 121s 736ms/step - loss: 0.3623 - val_loss: 0.3551\n",
      "Epoch 35/40\n",
      "164/164 [==============================] - 120s 730ms/step - loss: 0.3535 - val_loss: 0.3516\n",
      "Epoch 36/40\n",
      "164/164 [==============================] - 120s 733ms/step - loss: 0.3472 - val_loss: 0.3437\n",
      "Epoch 37/40\n",
      "164/164 [==============================] - 120s 732ms/step - loss: 0.3405 - val_loss: 0.3387\n",
      "Epoch 38/40\n",
      "164/164 [==============================] - 120s 735ms/step - loss: 0.3353 - val_loss: 0.3349\n",
      "Epoch 39/40\n",
      "164/164 [==============================] - 120s 730ms/step - loss: 0.3321 - val_loss: 0.3320\n",
      "Epoch 40/40\n",
      "164/164 [==============================] - 120s 731ms/step - loss: 0.3286 - val_loss: 0.3279\n"
     ]
    }
   ],
   "source": [
    "with tf.device('/device:GPU:0'): \n",
    "    history80 = model.fit_generator(train_dataloader, steps_per_epoch=train_steps, epochs=40, validation_data=train_dataloader, validation_steps=train_steps, callbacks=[lr,es])"
   ]
  },
  {
   "cell_type": "code",
   "execution_count": null,
   "metadata": {
    "id": "e-Umg4B8pChw"
   },
   "outputs": [],
   "source": [
    "model.save_weights(model_path + 'att80/' + 'attention80', save_format='tf') "
   ]
  },
  {
   "cell_type": "code",
   "execution_count": null,
   "metadata": {
    "colab": {
     "base_uri": "https://localhost:8080/",
     "height": 301
    },
    "id": "uS8jiMzm9QIK",
    "outputId": "756a3116-d0f9-47f2-c00b-75fd05e445ea"
   },
   "outputs": [
    {
     "data": {
      "image/png": "[encoded data removed]",
      "text/plain": [
       "<Figure size 432x288 with 1 Axes>"
      ]
     },
     "metadata": {
      "tags": []
     },
     "output_type": "display_data"
    }
   ],
   "source": [
    "plt.plot(history80.history['loss'])\n",
    "plt.plot(history80.history['val_loss'])\n",
    "plt.title('model loss')\n",
    "plt.ylabel('loss')\n",
    "plt.xlabel('epoch')\n",
    "plt.legend(['train', 'test'], loc='upper right')\n",
    "plt.show()"
   ]
  },
  {
   "cell_type": "markdown",
   "metadata": {
    "id": "mEzFezwiRfTr"
   },
   "source": [
    "90 Epoch"
   ]
  },
  {
   "cell_type": "code",
   "execution_count": null,
   "metadata": {
    "id": "UvVxF9gz1yIY"
   },
   "outputs": [],
   "source": [
    "optimizer = tf.keras.optimizers.Adam(0.01)\n",
    "\n",
    "lr = tf.keras.callbacks.ReduceLROnPlateau(monitor='val_loss', factor=0.99, patience=100)\n",
    "es = tf.keras.callbacks.EarlyStopping(patience=3, verbose=1, min_delta=0.001, monitor='val_loss', mode='min', restore_best_weights=True)\n",
    "\n",
    "train_steps = train.shape[0]//512\n",
    "valid_steps = test.shape[0]//512\n",
    "\n",
    "model  = Encoder_Decoder(encoder_inputs_length=25,\n",
    "                          decoder_inputs_length=25,\n",
    "                          input_vocab_size=vocab_size_input,\n",
    "                          output_vocab_size=vocab_size_output, \n",
    "                          embedding_dim=300, \n",
    "                          enc_units=64, \n",
    "                          dec_units=64, \n",
    "                          att_units=64,\n",
    "                          batch_size=512,\n",
    "                          score_fun='dot')\n",
    "\n",
    "model.compile(optimizer=optimizer,loss=loss_function)"
   ]
  },
  {
   "cell_type": "code",
   "execution_count": null,
   "metadata": {
    "colab": {
     "base_uri": "https://localhost:8080/"
    },
    "id": "45uKHcdy1f6Y",
    "outputId": "ff0edfd9-ca33-4c4a-c27d-cb571db7e5ad"
   },
   "outputs": [
    {
     "data": {
      "text/plain": [
       "<tensorflow.python.training.tracking.util.CheckpointLoadStatus at 0x7f19f557c950>"
      ]
     },
     "execution_count": 46,
     "metadata": {
      "tags": []
     },
     "output_type": "execute_result"
    }
   ],
   "source": [
    "model.load_weights(model_path + 'att80/' + 'attention80')"
   ]
  },
  {
   "cell_type": "code",
   "execution_count": null,
   "metadata": {
    "colab": {
     "base_uri": "https://localhost:8080/"
    },
    "id": "xjsaV9ZU2Ahw",
    "outputId": "53e39de6-7094-45a8-8950-8db5e2a4b53d"
   },
   "outputs": [
    {
     "name": "stdout",
     "output_type": "stream",
     "text": [
      "Epoch 1/10\n",
      "164/164 [==============================] - 127s 742ms/step - loss: 0.3248 - val_loss: 0.3241\n",
      "Epoch 2/10\n",
      "164/164 [==============================] - 119s 729ms/step - loss: 0.3231 - val_loss: 0.3199\n",
      "Epoch 3/10\n",
      "164/164 [==============================] - 120s 733ms/step - loss: 0.3173 - val_loss: 0.3150\n",
      "Epoch 4/10\n",
      "164/164 [==============================] - 120s 732ms/step - loss: 0.3130 - val_loss: 0.3157\n",
      "Epoch 5/10\n",
      "164/164 [==============================] - 119s 726ms/step - loss: 0.3112 - val_loss: 0.3106\n",
      "Epoch 6/10\n",
      "164/164 [==============================] - 120s 732ms/step - loss: 0.3082 - val_loss: 0.3088\n",
      "Epoch 7/10\n",
      "164/164 [==============================] - 120s 733ms/step - loss: 0.3061 - val_loss: 0.3049\n",
      "Epoch 8/10\n",
      "164/164 [==============================] - 118s 723ms/step - loss: 0.3039 - val_loss: 0.3018\n",
      "Epoch 9/10\n",
      "164/164 [==============================] - 120s 733ms/step - loss: 0.2966 - val_loss: 0.2970\n",
      "Epoch 10/10\n",
      "164/164 [==============================] - 120s 730ms/step - loss: 0.2929 - val_loss: 0.2954\n"
     ]
    }
   ],
   "source": [
    "with tf.device('/device:GPU:0'): \n",
    "    history90 = model.fit_generator(train_dataloader, steps_per_epoch=train_steps, epochs=10, validation_data=train_dataloader, validation_steps=train_steps, callbacks=[lr,es])"
   ]
  },
  {
   "cell_type": "code",
   "execution_count": null,
   "metadata": {
    "id": "DqTXMDER64D4"
   },
   "outputs": [],
   "source": [
    "model.save_weights(model_path + 'att90/' + 'attention90', save_format='tf') "
   ]
  },
  {
   "cell_type": "code",
   "execution_count": null,
   "metadata": {
    "colab": {
     "base_uri": "https://localhost:8080/",
     "height": 301
    },
    "id": "xfkvMO-b-3tc",
    "outputId": "deb4f301-a4c3-4429-9d05-a898d437cc7b"
   },
   "outputs": [
    {
     "data": {
      "image/png": "[encoded data removed]",
      "text/plain": [
       "<Figure size 432x288 with 1 Axes>"
      ]
     },
     "metadata": {
      "tags": []
     },
     "output_type": "display_data"
    }
   ],
   "source": [
    "plt.plot(history90.history['loss'])\n",
    "plt.plot(history90.history['val_loss'])\n",
    "plt.title('model loss')\n",
    "plt.ylabel('loss')\n",
    "plt.xlabel('epoch')\n",
    "plt.legend(['train', 'test'], loc='upper right')\n",
    "plt.show()"
   ]
  },
  {
   "cell_type": "markdown",
   "metadata": {
    "id": "FNVP_UgJRkY8"
   },
   "source": [
    "100 Epoch"
   ]
  },
  {
   "cell_type": "code",
   "execution_count": null,
   "metadata": {
    "id": "PGNLxPRg7CWT"
   },
   "outputs": [],
   "source": [
    "optimizer = tf.keras.optimizers.Adam(0.0001)\n",
    "\n",
    "lr = tf.keras.callbacks.ReduceLROnPlateau(monitor='val_loss', factor=0.99, patience=100)\n",
    "es = tf.keras.callbacks.EarlyStopping(patience=3, verbose=1, min_delta=0.001, monitor='val_loss', mode='min', restore_best_weights=True)\n",
    "\n",
    "train_steps = train.shape[0]//512\n",
    "valid_steps = test.shape[0]//512\n",
    "\n",
    "model  = Encoder_Decoder(encoder_inputs_length=25,\n",
    "                          decoder_inputs_length=25,\n",
    "                          input_vocab_size=vocab_size_input,\n",
    "                          output_vocab_size=vocab_size_output, \n",
    "                          embedding_dim=300, \n",
    "                          enc_units=64, \n",
    "                          dec_units=64, \n",
    "                          att_units=64,\n",
    "                          batch_size=512,\n",
    "                          score_fun='dot')\n",
    "\n",
    "model.compile(optimizer=optimizer,loss=loss_function)"
   ]
  },
  {
   "cell_type": "code",
   "execution_count": null,
   "metadata": {
    "colab": {
     "base_uri": "https://localhost:8080/"
    },
    "id": "aHO5yVFs7F6_",
    "outputId": "2b6dc8b1-404b-4e2b-a7e6-015fe831e250"
   },
   "outputs": [
    {
     "data": {
      "text/plain": [
       "<tensorflow.python.training.tracking.util.CheckpointLoadStatus at 0x7f225aca7650>"
      ]
     },
     "execution_count": 16,
     "metadata": {
      "tags": []
     },
     "output_type": "execute_result"
    }
   ],
   "source": [
    "model.load_weights(model_path + 'att90/' + 'attention90')"
   ]
  },
  {
   "cell_type": "code",
   "execution_count": null,
   "metadata": {
    "colab": {
     "base_uri": "https://localhost:8080/"
    },
    "id": "d2Tkknqz7MrF",
    "outputId": "c64ca1e5-53c2-4820-d79d-9248454d7b04"
   },
   "outputs": [
    {
     "name": "stdout",
     "output_type": "stream",
     "text": [
      "Epoch 1/10\n",
      "164/164 [==============================] - 129s 728ms/step - loss: 0.2897 - val_loss: 0.2906\n",
      "Epoch 2/10\n",
      "164/164 [==============================] - 118s 719ms/step - loss: 0.2860 - val_loss: 0.2873\n",
      "Epoch 3/10\n",
      "164/164 [==============================] - 117s 716ms/step - loss: 0.2822 - val_loss: 0.2828\n",
      "Epoch 4/10\n",
      "164/164 [==============================] - 116s 710ms/step - loss: 0.2785 - val_loss: 0.2799\n",
      "Epoch 5/10\n",
      "164/164 [==============================] - 117s 714ms/step - loss: 0.2758 - val_loss: 0.2799\n",
      "Epoch 6/10\n",
      "164/164 [==============================] - 117s 714ms/step - loss: 0.2744 - val_loss: 0.2760\n",
      "Epoch 7/10\n",
      "164/164 [==============================] - 117s 715ms/step - loss: 0.2726 - val_loss: 0.2742\n",
      "Epoch 8/10\n",
      "164/164 [==============================] - 117s 711ms/step - loss: 0.2698 - val_loss: 0.2710\n",
      "Epoch 9/10\n",
      "164/164 [==============================] - 116s 710ms/step - loss: 0.2671 - val_loss: 0.2717\n",
      "Epoch 10/10\n",
      "164/164 [==============================] - 117s 712ms/step - loss: 0.2660 - val_loss: 0.2710\n"
     ]
    }
   ],
   "source": [
    "with tf.device('/device:GPU:0'): \n",
    "    history100 = model.fit_generator(train_dataloader, steps_per_epoch=train_steps, epochs=10, validation_data=train_dataloader, validation_steps=train_steps, callbacks=[lr,es])"
   ]
  },
  {
   "cell_type": "code",
   "execution_count": null,
   "metadata": {
    "id": "MkrPUmfMCIJo"
   },
   "outputs": [],
   "source": [
    "model.save_weights(model_path + 'att100/' + 'attention100', save_format='tf') "
   ]
  },
  {
   "cell_type": "code",
   "execution_count": null,
   "metadata": {
    "colab": {
     "base_uri": "https://localhost:8080/",
     "height": 301
    },
    "id": "aAdgqf8e_Kk8",
    "outputId": "b62c0e24-0845-424c-b50b-6e4815927ada"
   },
   "outputs": [
    {
     "data": {
      "image/png": "[encoded data removed]",
      "text/plain": [
       "<Figure size 432x288 with 1 Axes>"
      ]
     },
     "metadata": {
      "needs_background": "light",
      "tags": []
     },
     "output_type": "display_data"
    }
   ],
   "source": [
    "plt.plot(history100.history['loss'])\n",
    "plt.plot(history100.history['val_loss'])\n",
    "plt.title('model loss')\n",
    "plt.ylabel('loss')\n",
    "plt.xlabel('epoch')\n",
    "plt.legend(['train', 'test'], loc='upper right')\n",
    "plt.show()"
   ]
  },
  {
   "cell_type": "markdown",
   "metadata": {
    "id": "MkRbyKeU1Drq"
   },
   "source": [
    "110 Epoch"
   ]
  },
  {
   "cell_type": "code",
   "execution_count": null,
   "metadata": {
    "id": "wzyEx2NX1DA_"
   },
   "outputs": [],
   "source": [
    "optimizer = tf.keras.optimizers.Adam()\n",
    "\n",
    "lr = tf.keras.callbacks.ReduceLROnPlateau(monitor='val_loss', factor=0.99, patience=100)\n",
    "es = tf.keras.callbacks.EarlyStopping(patience=3, verbose=1, min_delta=0.001, monitor='val_loss', mode='min', restore_best_weights=True)\n",
    "\n",
    "train_steps = train.shape[0]//512\n",
    "valid_steps = test.shape[0]//512\n",
    "\n",
    "model  = Encoder_Decoder(encoder_inputs_length=25,\n",
    "                          decoder_inputs_length=25,\n",
    "                          input_vocab_size=vocab_size_input,\n",
    "                          output_vocab_size=vocab_size_output, \n",
    "                          embedding_dim=300, \n",
    "                          enc_units=64, \n",
    "                          dec_units=64, \n",
    "                          att_units=64,\n",
    "                          batch_size=512,\n",
    "                          score_fun='dot')\n",
    "\n",
    "model.compile(optimizer=optimizer,loss=loss_function)"
   ]
  },
  {
   "cell_type": "code",
   "execution_count": null,
   "metadata": {
    "colab": {
     "base_uri": "https://localhost:8080/"
    },
    "id": "rHQphR6s1JCe",
    "outputId": "b0940489-7797-4954-920b-699530c26f2c"
   },
   "outputs": [
    {
     "data": {
      "text/plain": [
       "<tensorflow.python.training.tracking.util.CheckpointLoadStatus at 0x7f1d1ae22bd0>"
      ]
     },
     "execution_count": 15,
     "metadata": {
      "tags": []
     },
     "output_type": "execute_result"
    }
   ],
   "source": [
    "model.load_weights(model_path + 'att100/' + 'attention100')"
   ]
  },
  {
   "cell_type": "code",
   "execution_count": null,
   "metadata": {
    "colab": {
     "base_uri": "https://localhost:8080/"
    },
    "id": "dMk2-CwD1T5N",
    "outputId": "8ad403f2-3d72-4e7d-c370-4afa930872c6"
   },
   "outputs": [
    {
     "name": "stdout",
     "output_type": "stream",
     "text": [
      "Epoch 1/10\n",
      "164/164 [==============================] - 136s 738ms/step - loss: 0.2639 - val_loss: 0.2667\n",
      "Epoch 2/10\n",
      "164/164 [==============================] - 119s 724ms/step - loss: 0.2610 - val_loss: 0.2630\n",
      "Epoch 3/10\n",
      "164/164 [==============================] - 118s 721ms/step - loss: 0.2572 - val_loss: 0.2633\n",
      "Epoch 4/10\n",
      "164/164 [==============================] - 119s 727ms/step - loss: 0.2559 - val_loss: 0.2559\n",
      "Epoch 5/10\n",
      "164/164 [==============================] - 119s 726ms/step - loss: 0.2532 - val_loss: 0.2577\n",
      "Epoch 6/10\n",
      "164/164 [==============================] - 118s 723ms/step - loss: 0.2518 - val_loss: 0.2584\n",
      "Epoch 7/10\n",
      "164/164 [==============================] - 119s 729ms/step - loss: 0.2481 - val_loss: 0.2508\n",
      "Epoch 8/10\n",
      "164/164 [==============================] - 118s 721ms/step - loss: 0.2451 - val_loss: 0.2484\n",
      "Epoch 9/10\n",
      "164/164 [==============================] - 119s 726ms/step - loss: 0.2423 - val_loss: 0.2483\n",
      "Epoch 10/10\n",
      "164/164 [==============================] - 119s 724ms/step - loss: 0.2412 - val_loss: 0.2455\n"
     ]
    }
   ],
   "source": [
    "with tf.device('/device:GPU:0'): \n",
    "    history110 = model.fit_generator(train_dataloader, steps_per_epoch=train_steps, epochs=10, validation_data=train_dataloader, validation_steps=train_steps, callbacks=[lr,es])"
   ]
  },
  {
   "cell_type": "code",
   "execution_count": null,
   "metadata": {
    "colab": {
     "base_uri": "https://localhost:8080/",
     "height": 301
    },
    "id": "n66ajr5r1e-z",
    "outputId": "48820060-43b1-46d5-e4c2-920979091383"
   },
   "outputs": [
    {
     "data": {
      "image/png": "[encoded data removed]",
      "text/plain": [
       "<Figure size 432x288 with 1 Axes>"
      ]
     },
     "metadata": {
      "needs_background": "light",
      "tags": []
     },
     "output_type": "display_data"
    }
   ],
   "source": [
    "plt.plot(history110.history['loss'])\n",
    "plt.plot(history110.history['val_loss'])\n",
    "plt.title('model loss')\n",
    "plt.ylabel('loss')\n",
    "plt.xlabel('epoch')\n",
    "plt.legend(['train', 'test'], loc='upper right')\n",
    "plt.show()"
   ]
  },
  {
   "cell_type": "code",
   "execution_count": null,
   "metadata": {
    "colab": {
     "base_uri": "https://localhost:8080/"
    },
    "id": "2qXD1YuA6Scv",
    "outputId": "a1d88489-a450-4d9d-8774-28a1c9aff888"
   },
   "outputs": [
    {
     "name": "stdout",
     "output_type": "stream",
     "text": [
      "Epoch 1/10\n",
      "164/164 [==============================] - 117s 716ms/step - loss: 0.2404 - val_loss: 0.2446\n",
      "Epoch 2/10\n",
      "164/164 [==============================] - 119s 727ms/step - loss: 0.2393 - val_loss: 0.2427\n",
      "Epoch 3/10\n",
      "164/164 [==============================] - 118s 721ms/step - loss: 0.2394 - val_loss: 0.2458\n",
      "Epoch 4/10\n",
      "164/164 [==============================] - 134s 817ms/step - loss: 0.2422 - val_loss: 0.2430\n",
      "Epoch 5/10\n",
      "164/164 [==============================] - 119s 725ms/step - loss: 0.2374 - val_loss: 0.2400\n",
      "Epoch 6/10\n",
      "164/164 [==============================] - 118s 719ms/step - loss: 0.2325 - val_loss: 0.2350\n",
      "Epoch 7/10\n",
      "164/164 [==============================] - 133s 812ms/step - loss: 0.2282 - val_loss: 0.2350\n",
      "Epoch 8/10\n",
      "164/164 [==============================] - 118s 719ms/step - loss: 0.2264 - val_loss: 0.2349\n",
      "Epoch 9/10\n",
      "164/164 [==============================] - 118s 723ms/step - loss: 0.2255 - val_loss: 0.2310\n",
      "Epoch 10/10\n",
      "164/164 [==============================] - 118s 721ms/step - loss: 0.2236 - val_loss: 0.2271\n"
     ]
    }
   ],
   "source": [
    "with tf.device('/device:GPU:0'): \n",
    "    history120 = model.fit_generator(train_dataloader, steps_per_epoch=train_steps, epochs=10, validation_data=train_dataloader, validation_steps=train_steps, callbacks=[lr,es])"
   ]
  },
  {
   "cell_type": "code",
   "execution_count": null,
   "metadata": {
    "colab": {
     "base_uri": "https://localhost:8080/",
     "height": 301
    },
    "id": "lyTwQDnf-v78",
    "outputId": "4016b947-2d3e-4247-821e-a0512b9004ef"
   },
   "outputs": [
    {
     "data": {
      "image/png": "[encoded data removed]",
      "text/plain": [
       "<Figure size 432x288 with 1 Axes>"
      ]
     },
     "metadata": {
      "needs_background": "light",
      "tags": []
     },
     "output_type": "display_data"
    }
   ],
   "source": [
    "plt.plot(history120.history['loss'])\n",
    "plt.plot(history120.history['val_loss'])\n",
    "plt.title('model loss')\n",
    "plt.ylabel('loss')\n",
    "plt.xlabel('epoch')\n",
    "plt.legend(['train', 'test'], loc='upper right')\n",
    "plt.show()"
   ]
  },
  {
   "cell_type": "code",
   "execution_count": null,
   "metadata": {
    "colab": {
     "base_uri": "https://localhost:8080/"
    },
    "id": "abiB-yUy_fBH",
    "outputId": "4ed6f204-8d58-45cd-f485-78b4611d9fce"
   },
   "outputs": [
    {
     "name": "stdout",
     "output_type": "stream",
     "text": [
      "Epoch 1/10\n",
      "164/164 [==============================] - 119s 728ms/step - loss: 0.2321 - val_loss: 0.2329\n",
      "Epoch 2/10\n",
      "164/164 [==============================] - 117s 714ms/step - loss: 0.2287 - val_loss: 0.2301\n",
      "Epoch 3/10\n",
      "164/164 [==============================] - 119s 723ms/step - loss: 0.2217 - val_loss: 0.2247\n",
      "Epoch 4/10\n",
      "164/164 [==============================] - 119s 725ms/step - loss: 0.2183 - val_loss: 0.2212\n",
      "Epoch 5/10\n",
      "164/164 [==============================] - 118s 719ms/step - loss: 0.2156 - val_loss: 0.2222\n",
      "Epoch 6/10\n",
      "164/164 [==============================] - 118s 720ms/step - loss: 0.2133 - val_loss: 0.2185\n",
      "Epoch 7/10\n",
      "164/164 [==============================] - 119s 726ms/step - loss: 0.2122 - val_loss: 0.2190\n",
      "Epoch 8/10\n",
      "164/164 [==============================] - 118s 719ms/step - loss: 0.2317 - val_loss: 0.2406\n",
      "Epoch 9/10\n",
      "164/164 [==============================] - 119s 725ms/step - loss: 0.2275 - val_loss: 0.2250\n",
      "Restoring model weights from the end of the best epoch.\n",
      "Epoch 00009: early stopping\n"
     ]
    }
   ],
   "source": [
    "with tf.device('/device:GPU:0'): \n",
    "    history130 = model.fit_generator(train_dataloader, steps_per_epoch=train_steps, epochs=10, validation_data=train_dataloader, validation_steps=train_steps, callbacks=[lr,es])"
   ]
  },
  {
   "cell_type": "code",
   "execution_count": null,
   "metadata": {
    "colab": {
     "base_uri": "https://localhost:8080/",
     "height": 301
    },
    "id": "DvczqaiuD53L",
    "outputId": "0820a7e4-f0b1-4e7a-c305-63c3e9fc29e9"
   },
   "outputs": [
    {
     "data": {
      "image/png": "[encoded data removed]",
      "text/plain": [
       "<Figure size 432x288 with 1 Axes>"
      ]
     },
     "metadata": {
      "needs_background": "light",
      "tags": []
     },
     "output_type": "display_data"
    }
   ],
   "source": [
    "plt.plot(history130.history['loss'])\n",
    "plt.plot(history130.history['val_loss'])\n",
    "plt.title('model loss')\n",
    "plt.ylabel('loss')\n",
    "plt.xlabel('epoch')\n",
    "plt.legend(['train', 'test'], loc='upper right')\n",
    "plt.show()"
   ]
  },
  {
   "cell_type": "markdown",
   "metadata": {
    "id": "eBrkUqtNT6Pn"
   },
   "source": [
    "## Model Prediction"
   ]
  },
  {
   "cell_type": "code",
   "execution_count": null,
   "metadata": {
    "id": "MP3kLZoPMvSu"
   },
   "outputs": [],
   "source": [
    "def predict(input_sentence):\n",
    "\n",
    "  batch_size = 1 \n",
    "  DECODER_SEQ_LEN = 25\n",
    "  predict_word_idx = np.zeros((1, 1))\n",
    "  predict_word_idx[0,0] = 1\n",
    "  predicted_sentence = ''\n",
    "\n",
    "  input_sequence=tokenizer_i.texts_to_sequences([input_sentence])\n",
    "  inputs=pad_sequences(input_sequence,maxlen=25,padding='post')\n",
    "  inputs=tf.convert_to_tensor(inputs)\n",
    "\n",
    "  enc_output, state_h, state_c = model.layers[0](inputs)\n",
    "\n",
    "  for i in range(DECODER_SEQ_LEN):\n",
    "      dec_output, state_h, state_c, attention_weights, context_vector = model.layers[1].one_step_decoder(predict_word_idx, enc_output, state_h, state_c)\n",
    "      predict_word_idx = np.reshape(np.argmax(dec_output), (1, 1))\n",
    "      predicted_sentence += ' ' + tokenizer_o.index_word[int(predict_word_idx)]\n",
    "\n",
    "      if tokenizer_o.word_index['<end>'] == predict_word_idx:\n",
    "          return predicted_sentence\n",
    "      dec_input = tf.expand_dims([predict_word_idx],0)\n",
    "  return predicted_sentence\n",
    "\n",
    "#----------------------------------------------------------------------------------------------------\n",
    "import nltk.translate.bleu_score as bleu\n",
    "\n",
    "def get_BLEU(model, train, test):\n",
    "    total_bleu=0\n",
    "    input_range = 100\n",
    "    for i in range(0,input_range):\n",
    "        output_sentence = ' '.join(train['output_text_out'].iloc[i].split()[:-1])\n",
    "        predicted_sentence = ' '.join(predict(train['input_text'].iloc[i]).split()[:-1])\n",
    "        output_sentence = [output_sentence.split()]\n",
    "        predicted_sentence = predicted_sentence.split()\n",
    "        bleu_score = bleu.sentence_bleu(output_sentence, predicted_sentence)\n",
    "        total_bleu += bleu_score\n",
    "    train_avg_bleu = total_bleu/input_range\n",
    "\n",
    "    total_bleu=0\n",
    "    input_range = 100\n",
    "    for i in range(0,input_range):\n",
    "        output_sentence = ' '.join(test['output_text_out'].iloc[i].split()[:-1])\n",
    "        predicted_sentence = ' '.join(predict(test['input_text'].iloc[i]).split()[:-1])\n",
    "        output_sentence = [output_sentence.split()]\n",
    "        predicted_sentence = predicted_sentence.split()\n",
    "        bleu_score = bleu.sentence_bleu(output_sentence, predicted_sentence)\n",
    "        total_bleu += bleu_score\n",
    "    test_avg_bleu = total_bleu/input_range\n",
    "\n",
    "    print('Train BLEU Score:', train_avg_bleu)\n",
    "    print('Test BLEU Score:', test_avg_bleu)"
   ]
  },
  {
   "cell_type": "code",
   "execution_count": null,
   "metadata": {
    "colab": {
     "base_uri": "https://localhost:8080/"
    },
    "id": "RiDL6T7-X1XZ",
    "outputId": "2b6c0870-aebc-445b-ac60-70aca7733e24"
   },
   "outputs": [
    {
     "name": "stdout",
     "output_type": "stream",
     "text": [
      "SUMMARY OF AVERAGE BLEU SCORE AT EPOCHS\n",
      "--------------------------------------------------\n",
      "Epoch 40\n",
      "Train BLEU Score: 0.5002942961089942\n",
      "Test BLEU Score: 0.42947934300616775\n",
      "==================================================\n",
      "Epoch 80\n",
      "Train BLEU Score: 0.7162684853943179\n",
      "Test BLEU Score: 0.43488871708642035\n",
      "==================================================\n",
      "Epoch 90\n",
      "Train BLEU Score: 0.7629772712505434\n",
      "Test BLEU Score: 0.4607488004938597\n",
      "==================================================\n",
      "Epoch 100\n",
      "Train BLEU Score: 0.743112537162625\n",
      "Test BLEU Score: 0.445549023670435\n",
      "==================================================\n"
     ]
    }
   ],
   "source": [
    "print('SUMMARY OF AVERAGE BLEU SCORE AT EPOCHS')\n",
    "print('-'*50)\n",
    "\n",
    "print('Epoch 40')\n",
    "model.load_weights(model_path + 'att40/' + 'attention40')\n",
    "get_BLEU(model, train, test)\n",
    "print('='*50)\n",
    "\n",
    "print('Epoch 80')\n",
    "model.load_weights(model_path + 'att80/' + 'attention80')\n",
    "get_BLEU(model, train, test)\n",
    "print('='*50)\n",
    "\n",
    "print('Epoch 90')\n",
    "model.load_weights(model_path + 'att90/' + 'attention90')\n",
    "get_BLEU(model, train, test)\n",
    "print('='*50)\n",
    "\n",
    "print('Epoch 100')\n",
    "model.load_weights(model_path + 'att100/' + 'attention100')\n",
    "get_BLEU(model, train, test)\n",
    "print('='*50)"
   ]
  },
  {
   "cell_type": "code",
   "execution_count": null,
   "metadata": {
    "colab": {
     "base_uri": "https://localhost:8080/"
    },
    "id": "b8-NKfe0X4ob",
    "outputId": "108be2dc-30d6-490e-9703-5c119c394d90"
   },
   "outputs": [
    {
     "data": {
      "text/plain": [
       "<tensorflow.python.training.tracking.util.CheckpointLoadStatus at 0x7f201306ce50>"
      ]
     },
     "execution_count": 17,
     "metadata": {
      "tags": []
     },
     "output_type": "execute_result"
    }
   ],
   "source": [
    "model.load_weights(model_path + 'att90/' + 'attention90')"
   ]
  },
  {
   "cell_type": "markdown",
   "metadata": {
    "id": "tPQozge-CrOY"
   },
   "source": [
    "Train"
   ]
  },
  {
   "cell_type": "code",
   "execution_count": null,
   "metadata": {
    "colab": {
     "base_uri": "https://localhost:8080/"
    },
    "id": "AfrLtOZO_G6V",
    "outputId": "6b1cfa96-2f52-4e7a-c20a-32e10c94ede4"
   },
   "outputs": [
    {
     "name": "stdout",
     "output_type": "stream",
     "text": [
      "Input Text: At the party , the member has variety job .\n",
      "Output Text: At the party , the members have a variety of jobs .\n",
      "Predicted Text: At the party , the members have a variety of jobs .\n",
      "========================================================================================================================\n",
      "Input Text: Thank you NY .\n",
      "Output Text: Thank you , NY !\n",
      "Predicted Text: Thank you :\n",
      "========================================================================================================================\n",
      "Input Text: Few last days have been strange .\n",
      "Output Text: The last few days have been strange .\n",
      "Predicted Text: A last few days have been strange .\n",
      "========================================================================================================================\n",
      "Input Text: I 've started feeling lately that I have n't figured out what kind of relationships I 'm seeking for with people around me .\n",
      "Output Text: I 've started feeling lately that I have n't figured out what kind of relationships I 'm seeking with the people around me .\n",
      "Predicted Text: I 've started feeling lately that I have n't figured out what kind of relationships I 'm seeking with the people around me .\n",
      "========================================================================================================================\n",
      "Input Text: We also often listen to the CD which includes the conversation amongst native speakers .\n",
      "Output Text: We also often listened to the CD which includes conversation amongst native speakers .\n",
      "Predicted Text: We also often listened to the CD which includes conversation amongst native speakers .\n",
      "========================================================================================================================\n"
     ]
    }
   ],
   "source": [
    "for i in range(len(train[:5])):\n",
    "    print(\"Input Text:\", train['input_text'].iloc[i])\n",
    "    print(\"Output Text:\", ' '.join(train['output_text_out'].iloc[i].split()[:-1]))\n",
    "    print(\"Predicted Text:\", ' '.join(predict(train['input_text'].iloc[i]).split()[:-1]))\n",
    "    print('='*120)"
   ]
  },
  {
   "cell_type": "markdown",
   "metadata": {
    "id": "r3ykogr_Ct1H"
   },
   "source": [
    "Test"
   ]
  },
  {
   "cell_type": "code",
   "execution_count": null,
   "metadata": {
    "colab": {
     "base_uri": "https://localhost:8080/"
    },
    "id": "qT56tjoEU0ek",
    "outputId": "f0dae52c-0409-4303-9610-f6ffd6d113a4"
   },
   "outputs": [
    {
     "name": "stdout",
     "output_type": "stream",
     "text": [
      "Input Text: Have you ever over the wall of school ?\n",
      "Output Text: Have you ever climbed over the wall at school ?\n",
      "Predicted Text: Have you ever taken by the wall of school ?\n",
      "========================================================================================================================\n",
      "Input Text: It is so narrow that I have to keep my body very fit everytime .\n",
      "Output Text: It is so narrow that I have to keep my body very fit all the time .\n",
      "Predicted Text: It is so fast that I have to keep my thoughts very paid back our teeth .\n",
      "========================================================================================================================\n",
      "Input Text: You can check the maintenance is finished or not at twitter .\n",
      "Output Text: You can check whether the maintenance is finished or not on twitter .\n",
      "Predicted Text: You can check the maintenance is finished or not at Twitter .\n",
      "========================================================================================================================\n",
      "Input Text: Anyone who gets higher than  scores can pass it .\n",
      "Output Text: Anyone who gets higher than a , passes it or passes the exam .\n",
      "Predicted Text: recommend : he gets higher than I have passed it .\n",
      "========================================================================================================================\n",
      "Input Text: I talked with Rie about our job , but it was a short time .\n",
      "Output Text: I talked with Rie about our job , but it was just for a short time .\n",
      "Predicted Text: I talked with documentaries , whenever the job times , it was a short time .\n",
      "========================================================================================================================\n"
     ]
    }
   ],
   "source": [
    "for i in range(len(test[:5])):\n",
    "    print(\"Input Text:\", test['input_text'].iloc[i])\n",
    "    print(\"Output Text:\", ' '.join(test['output_text_out'].iloc[i].split()[:-1]))\n",
    "    print(\"Predicted Text:\", ' '.join(predict(test['input_text'].iloc[i]).split()[:-1]))\n",
    "    print('='*120)"
   ]
  }
 ],
 "metadata": {
  "colab": {
   "collapsed_sections": [],
   "name": "4_2_Attention_1LSTM_&_Scratch_Embed_(W).ipynb",
   "provenance": [],
   "toc_visible": true
  },
  "kernelspec": {
   "display_name": "Python 3",
   "language": "python",
   "name": "python3"
  },
  "language_info": {
   "codemirror_mode": {
    "name": "ipython",
    "version": 3
   },
   "file_extension": ".py",
   "mimetype": "text/x-python",
   "name": "python",
   "nbconvert_exporter": "python",
   "pygments_lexer": "ipython3",
   "version": "3.8.8"
  }
 },
 "nbformat": 4,
 "nbformat_minor": 1
}
