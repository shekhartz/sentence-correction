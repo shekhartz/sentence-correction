{
 "cells": [
  {
   "cell_type": "markdown",
   "metadata": {
    "id": "mG_1reu7uM74"
   },
   "source": [
    "# Encoder-Decoder Model with Attention: 1 Layer LSTM & Fasttext Embedding\n",
    "# (Word Level)"
   ]
  },
  {
   "cell_type": "markdown",
   "metadata": {
    "id": "q2-EJqakEV8z"
   },
   "source": [
    "## Loading Libraries"
   ]
  },
  {
   "cell_type": "code",
   "execution_count": null,
   "metadata": {
    "id": "C8c3NwDGZSdh"
   },
   "outputs": [],
   "source": [
    "import matplotlib.pyplot as plt\n",
    "import seaborn as sns\n",
    "sns.set_theme()\n",
    "import pandas as pd\n",
    "import re\n",
    "import datetime\n",
    "import numpy as np\n",
    "from tqdm import tqdm\n",
    "from sklearn.model_selection import train_test_split\n",
    "import nltk.translate.bleu_score as bleu\n",
    "import tensorflow as tf\n",
    "from tensorflow.keras.layers import Input, Softmax, RNN, Dense, Embedding, LSTM, Flatten, Activation \n",
    "from tensorflow.keras.models import Model\n",
    "from tensorflow.keras.preprocessing.text import Tokenizer\n",
    "from tensorflow.keras.preprocessing.sequence import pad_sequences\n",
    "from tensorflow.keras.callbacks import TensorBoard\n",
    "import matplotlib.ticker as ticker\n",
    "import warnings\n",
    "warnings.filterwarnings(\"ignore\")"
   ]
  },
  {
   "cell_type": "code",
   "execution_count": null,
   "metadata": {
    "colab": {
     "base_uri": "https://localhost:8080/"
    },
    "id": "VWejJV0H_sLd",
    "outputId": "6fd83757-af84-4646-8ece-b68321134619"
   },
   "outputs": [
    {
     "name": "stdout",
     "output_type": "stream",
     "text": [
      "Mounted at /content/drive\n"
     ]
    }
   ],
   "source": [
    "from google.colab import drive\n",
    "drive.mount('/content/drive')"
   ]
  },
  {
   "cell_type": "markdown",
   "metadata": {
    "id": "4fnNqtyMCwm9"
   },
   "source": [
    "## Loading Dataset"
   ]
  },
  {
   "cell_type": "code",
   "execution_count": null,
   "metadata": {
    "id": "ZjnALK_l5Vpe"
   },
   "outputs": [],
   "source": [
    "data_path = '/content/drive/MyDrive/CS2/2.Datasets/'\n",
    "model_path = '/content/drive/MyDrive/CS2/3.Models/4_3_Attention-Word-Fasttext/'"
   ]
  },
  {
   "cell_type": "code",
   "execution_count": null,
   "metadata": {
    "colab": {
     "base_uri": "https://localhost:8080/",
     "height": 216
    },
    "id": "8IYsmHjRufNN",
    "outputId": "3ee7fcff-9762-4858-fd2d-d5d1ad879a59"
   },
   "outputs": [
    {
     "name": "stdout",
     "output_type": "stream",
     "text": [
      "(101717, 2)\n"
     ]
    },
    {
     "data": {
      "text/html": [
       "<div>\n",
       "<style scoped>\n",
       "    .dataframe tbody tr th:only-of-type {\n",
       "        vertical-align: middle;\n",
       "    }\n",
       "\n",
       "    .dataframe tbody tr th {\n",
       "        vertical-align: top;\n",
       "    }\n",
       "\n",
       "    .dataframe thead th {\n",
       "        text-align: right;\n",
       "    }\n",
       "</style>\n",
       "<table border=\"1\" class=\"dataframe\">\n",
       "  <thead>\n",
       "    <tr style=\"text-align: right;\">\n",
       "      <th></th>\n",
       "      <th>input_text</th>\n",
       "      <th>output_text</th>\n",
       "    </tr>\n",
       "  </thead>\n",
       "  <tbody>\n",
       "    <tr>\n",
       "      <th>0</th>\n",
       "      <td>Ofcouse , I love cheap fashion , fast fashion ...</td>\n",
       "      <td>Of course , I love cheap , fast fashion like f...</td>\n",
       "    </tr>\n",
       "    <tr>\n",
       "      <th>1</th>\n",
       "      <td>If he want to listen to music that I do n't li...</td>\n",
       "      <td>If he wants to listen to music that I do n't l...</td>\n",
       "    </tr>\n",
       "    <tr>\n",
       "      <th>2</th>\n",
       "      <td>This happened because of the cultural differen...</td>\n",
       "      <td>This happened because of the cultural differen...</td>\n",
       "    </tr>\n",
       "    <tr>\n",
       "      <th>3</th>\n",
       "      <td>I 'm gon na earn much money to study abroad .</td>\n",
       "      <td>I 'm gon na earn enough money to study abroad .</td>\n",
       "    </tr>\n",
       "    <tr>\n",
       "      <th>4</th>\n",
       "      <td>It is not difficult for me but answer phones a...</td>\n",
       "      <td>It is not difficult for me but answering the p...</td>\n",
       "    </tr>\n",
       "  </tbody>\n",
       "</table>\n",
       "</div>"
      ],
      "text/plain": [
       "                                          input_text                                        output_text\n",
       "0  Ofcouse , I love cheap fashion , fast fashion ...  Of course , I love cheap , fast fashion like f...\n",
       "1  If he want to listen to music that I do n't li...  If he wants to listen to music that I do n't l...\n",
       "2  This happened because of the cultural differen...  This happened because of the cultural differen...\n",
       "3      I 'm gon na earn much money to study abroad .    I 'm gon na earn enough money to study abroad .\n",
       "4  It is not difficult for me but answer phones a...  It is not difficult for me but answering the p..."
      ]
     },
     "execution_count": 4,
     "metadata": {
      "tags": []
     },
     "output_type": "execute_result"
    }
   ],
   "source": [
    "data = pd.read_csv(data_path + 'final_data.csv')\n",
    "print(data.shape)\n",
    "data.head()"
   ]
  },
  {
   "cell_type": "markdown",
   "metadata": {
    "id": "NCL5fOC6C28O"
   },
   "source": [
    "## Preprocess Data"
   ]
  },
  {
   "cell_type": "code",
   "execution_count": null,
   "metadata": {
    "id": "W1ZycZ1xT_E1"
   },
   "outputs": [],
   "source": [
    "def clean(text):\n",
    "    text = re.sub('<.*>', '', text)\n",
    "    text = re.sub('\\(.*\\)', '', text)\n",
    "    text = re.sub('\\[.*\\]', '', text)\n",
    "    text = re.sub('{.*}', '', text)\n",
    "    text = re.sub(\"[-+@#^/|*(){}$~`<>=_]\",\"\",text)\n",
    "    text = text.replace(\"\\\\\",\"\")\n",
    "    text = re.sub(\"\\[\",\"\",text)\n",
    "    text = re.sub(\"\\]\",\"\",text)\n",
    "    text = re.sub(\"[0-9]\",\"\",text)\n",
    "    return text\n",
    "\n",
    "data['input_text'] = data['input_text'].apply(lambda x: clean(x))\n",
    "data['output_text'] = data['output_text'].apply(lambda x: clean(x))"
   ]
  },
  {
   "cell_type": "code",
   "execution_count": null,
   "metadata": {
    "id": "9QqElB_nKZos"
   },
   "outputs": [],
   "source": [
    "def preprocessing(data):\n",
    "   \n",
    "    data['input_text_length'] = data['input_text'].str.split().apply(len)\n",
    "    data['output_text_length'] = data['output_text'].str.split().apply(len)\n",
    "\n",
    "    data = data[data['input_text_length'] < 25]\n",
    "    data = data[data['output_text_length'] < 25]\n",
    "\n",
    "    data['output_text_in'] = '<start> ' + data['output_text'].astype(str)\n",
    "    data['output_text_out'] = data['output_text'].astype(str) + ' <end>'\n",
    "\n",
    "    data = data.drop(['input_text_length','output_text_length','output_text'], axis=1)\n",
    "    return data"
   ]
  },
  {
   "cell_type": "code",
   "execution_count": null,
   "metadata": {
    "colab": {
     "base_uri": "https://localhost:8080/",
     "height": 216
    },
    "id": "s4yTTU8cD93w",
    "outputId": "0058f136-2a43-4071-ded8-0f23d8565de1"
   },
   "outputs": [
    {
     "name": "stdout",
     "output_type": "stream",
     "text": [
      "Shape of Dataset: (93503, 3)\n"
     ]
    },
    {
     "data": {
      "text/html": [
       "<div>\n",
       "<style scoped>\n",
       "    .dataframe tbody tr th:only-of-type {\n",
       "        vertical-align: middle;\n",
       "    }\n",
       "\n",
       "    .dataframe tbody tr th {\n",
       "        vertical-align: top;\n",
       "    }\n",
       "\n",
       "    .dataframe thead th {\n",
       "        text-align: right;\n",
       "    }\n",
       "</style>\n",
       "<table border=\"1\" class=\"dataframe\">\n",
       "  <thead>\n",
       "    <tr style=\"text-align: right;\">\n",
       "      <th></th>\n",
       "      <th>input_text</th>\n",
       "      <th>output_text_in</th>\n",
       "      <th>output_text_out</th>\n",
       "    </tr>\n",
       "  </thead>\n",
       "  <tbody>\n",
       "    <tr>\n",
       "      <th>0</th>\n",
       "      <td>Ofcouse , I love cheap fashion , fast fashion ...</td>\n",
       "      <td>&lt;start&gt; Of course , I love cheap , fast fashio...</td>\n",
       "      <td>Of course , I love cheap , fast fashion like f...</td>\n",
       "    </tr>\n",
       "    <tr>\n",
       "      <th>1</th>\n",
       "      <td>If he want to listen to music that I do n't li...</td>\n",
       "      <td>&lt;start&gt; If he wants to listen to music that I ...</td>\n",
       "      <td>If he wants to listen to music that I do n't l...</td>\n",
       "    </tr>\n",
       "    <tr>\n",
       "      <th>2</th>\n",
       "      <td>This happened because of the cultural differen...</td>\n",
       "      <td>&lt;start&gt; This happened because of the cultural ...</td>\n",
       "      <td>This happened because of the cultural differen...</td>\n",
       "    </tr>\n",
       "    <tr>\n",
       "      <th>3</th>\n",
       "      <td>I 'm gon na earn much money to study abroad .</td>\n",
       "      <td>&lt;start&gt; I 'm gon na earn enough money to study...</td>\n",
       "      <td>I 'm gon na earn enough money to study abroad ...</td>\n",
       "    </tr>\n",
       "    <tr>\n",
       "      <th>4</th>\n",
       "      <td>It is not difficult for me but answer phones a...</td>\n",
       "      <td>&lt;start&gt; It is not difficult for me but answeri...</td>\n",
       "      <td>It is not difficult for me but answering the p...</td>\n",
       "    </tr>\n",
       "  </tbody>\n",
       "</table>\n",
       "</div>"
      ],
      "text/plain": [
       "                                          input_text  ...                                    output_text_out\n",
       "0  Ofcouse , I love cheap fashion , fast fashion ...  ...  Of course , I love cheap , fast fashion like f...\n",
       "1  If he want to listen to music that I do n't li...  ...  If he wants to listen to music that I do n't l...\n",
       "2  This happened because of the cultural differen...  ...  This happened because of the cultural differen...\n",
       "3      I 'm gon na earn much money to study abroad .  ...  I 'm gon na earn enough money to study abroad ...\n",
       "4  It is not difficult for me but answer phones a...  ...  It is not difficult for me but answering the p...\n",
       "\n",
       "[5 rows x 3 columns]"
      ]
     },
     "execution_count": 7,
     "metadata": {
      "tags": []
     },
     "output_type": "execute_result"
    }
   ],
   "source": [
    "data = preprocessing(data)\n",
    "\n",
    "data.iloc[0]['output_text_in'] = str(data.iloc[0]['output_text_in'])+' <end>'\n",
    "data.iloc[0]['output_text_out'] = str(data.iloc[0]['output_text_out'])+' <end>'\n",
    "\n",
    "print('Shape of Dataset:', data.shape)\n",
    "data.head()"
   ]
  },
  {
   "cell_type": "markdown",
   "metadata": {
    "id": "Dx2iV7_sC_aJ"
   },
   "source": [
    "## Train Test Split"
   ]
  },
  {
   "cell_type": "code",
   "execution_count": null,
   "metadata": {
    "colab": {
     "base_uri": "https://localhost:8080/"
    },
    "id": "nwq2jKcGZzt-",
    "outputId": "e9681289-f95e-4db6-aa93-acfd4099a674"
   },
   "outputs": [
    {
     "name": "stdout",
     "output_type": "stream",
     "text": [
      "Shape of Train Data: (84152, 3)\n",
      "Shape of Test Data: (9351, 3)\n"
     ]
    }
   ],
   "source": [
    "train, test = train_test_split(data, test_size=0.1, random_state=42)\n",
    "print('Shape of Train Data:', train.shape)\n",
    "print('Shape of Test Data:', test.shape)"
   ]
  },
  {
   "cell_type": "markdown",
   "metadata": {
    "id": "uiR00g4hDEtl"
   },
   "source": [
    "## Tokenization"
   ]
  },
  {
   "cell_type": "code",
   "execution_count": null,
   "metadata": {
    "colab": {
     "base_uri": "https://localhost:8080/"
    },
    "id": "cEqQKioDaFS6",
    "outputId": "8d827841-ec13-4514-b828-5393e36b764b"
   },
   "outputs": [
    {
     "name": "stdout",
     "output_type": "stream",
     "text": [
      "Input Vocab Size: 35510\n",
      "Output Vocab Size: 29350\n"
     ]
    }
   ],
   "source": [
    "tokenizer_i = Tokenizer(filters=\"\", char_level=False, lower=False)\n",
    "tokenizer_o = Tokenizer(filters=\"\", char_level=False, lower=False)\n",
    "\n",
    "tokenizer_i.fit_on_texts(train['input_text'].values)\n",
    "tokenizer_o.fit_on_texts(train['output_text_in'].values)\n",
    "\n",
    "vocab_size_input = len(tokenizer_i.word_index.keys())\n",
    "print('Input Vocab Size:', vocab_size_input)\n",
    "\n",
    "vocab_size_output = len(tokenizer_o.word_index.keys())\n",
    "print('Output Vocab Size:', vocab_size_output)"
   ]
  },
  {
   "cell_type": "code",
   "execution_count": null,
   "metadata": {
    "id": "db8sgXK6dHZ0"
   },
   "outputs": [],
   "source": [
    "input_vocab = tokenizer_i.word_index\n",
    "output_vocab = tokenizer_o.word_index"
   ]
  },
  {
   "cell_type": "markdown",
   "metadata": {
    "id": "aFL5Yw4ndN9e"
   },
   "source": [
    "## Fasttext Embedding"
   ]
  },
  {
   "cell_type": "code",
   "execution_count": null,
   "metadata": {
    "colab": {
     "base_uri": "https://localhost:8080/"
    },
    "id": "iazPYMw2c8Cu",
    "outputId": "c5f96af7-a072-4c37-d2a4-5dac3fe68f2e"
   },
   "outputs": [
    {
     "name": "stdout",
     "output_type": "stream",
     "text": [
      "--2021-08-12 03:06:04--  https://dl.fbaipublicfiles.com/fasttext/vectors-english/wiki-news-300d-1M.vec.zip\n",
      "Resolving dl.fbaipublicfiles.com (dl.fbaipublicfiles.com)... 104.22.74.142, 172.67.9.4, 104.22.75.142, ...\n",
      "Connecting to dl.fbaipublicfiles.com (dl.fbaipublicfiles.com)|104.22.74.142|:443... connected.\n",
      "HTTP request sent, awaiting response... 200 OK\n",
      "Length: 681808098 (650M) [application/zip]\n",
      "Saving to: ‘wiki-news-300d-1M.vec.zip’\n",
      "\n",
      "wiki-news-300d-1M.v 100%[===================>] 650.22M  13.0MB/s    in 51s     \n",
      "\n",
      "2021-08-12 03:06:55 (12.8 MB/s) - ‘wiki-news-300d-1M.vec.zip’ saved [681808098/681808098]\n",
      "\n",
      "Archive:  wiki-news-300d-1M.vec.zip\n",
      "  inflating: wiki-news-300d-1M.vec   \n"
     ]
    }
   ],
   "source": [
    "!wget https://dl.fbaipublicfiles.com/fasttext/vectors-english/wiki-news-300d-1M.vec.zip\n",
    "!unzip wiki-news-300d-1M.vec.zip"
   ]
  },
  {
   "cell_type": "code",
   "execution_count": null,
   "metadata": {
    "colab": {
     "base_uri": "https://localhost:8080/"
    },
    "id": "qyYLrLlHc_e0",
    "outputId": "3fa11df8-a9a6-4c86-867d-668983442543"
   },
   "outputs": [
    {
     "name": "stdout",
     "output_type": "stream",
     "text": [
      "Loaded word vectors = 999995\n",
      "Shape of Encoder Embedding Matrix = (35511, 300)\n",
      "Shape of Decoder Embedding Matrix = (29351, 300)\n"
     ]
    }
   ],
   "source": [
    "# load the whole embedding into memory\n",
    "embeddings_index = dict()\n",
    "f = open('wiki-news-300d-1M.vec') \n",
    "for line in f:\n",
    "\tvalues = line.split()\n",
    "\tword = values[0]\n",
    "\tcoefs = np.asarray(values[1:], dtype='float32')\n",
    "\tembeddings_index[word] = coefs\n",
    "f.close()\n",
    "print('Loaded word vectors =', len(embeddings_index))\n",
    "\n",
    "# create a weight matrix for words in training docs\n",
    "encoder_embedding_matrix_fast = np.zeros((len(input_vocab)+1, 300))\n",
    "for word, i in input_vocab.items():\n",
    "\tembedding_vector = embeddings_index.get(word)\n",
    "\tif embedding_vector is not None:\n",
    "\t\tencoder_embedding_matrix_fast[i] = embedding_vector\n",
    "print('Shape of Encoder Embedding Matrix =', encoder_embedding_matrix_fast.shape)\n",
    "\n",
    "# create a weight matrix for words in training docs\n",
    "decoder_embedding_matrix_fast = np.zeros((len(output_vocab)+1, 300))\n",
    "for word, i in output_vocab.items():\n",
    "\tembedding_vector = embeddings_index.get(word)\n",
    "\tif embedding_vector is not None:\n",
    "\t\tdecoder_embedding_matrix_fast[i] = embedding_vector\n",
    "print('Shape of Decoder Embedding Matrix =', decoder_embedding_matrix_fast.shape)"
   ]
  },
  {
   "cell_type": "markdown",
   "metadata": {
    "id": "JfknU1OTDyDe"
   },
   "source": [
    "## Data Pipeline"
   ]
  },
  {
   "cell_type": "code",
   "execution_count": null,
   "metadata": {
    "id": "MLYD6-FR7iZ3"
   },
   "outputs": [],
   "source": [
    "class Dataset:\n",
    "    def __init__(self, data, tokenizer_i, tokenizer_o, max_len_enc, max_len_dec):\n",
    "        self.encoder_inps = data['input_text'].values\n",
    "        self.decoder_inps = data['output_text_in'].values\n",
    "        self.decoder_outs = data['output_text_out'].values\n",
    "        self.tokenizer_o = tokenizer_o\n",
    "        self.tokenizer_i = tokenizer_i\n",
    "        self.max_len_enc = max_len_enc\n",
    "        self.max_len_dec = max_len_dec\n",
    "\n",
    "\n",
    "    def __getitem__(self, i):\n",
    "        self.encoder_seq = self.tokenizer_i.texts_to_sequences([self.encoder_inps[i]]) \n",
    "        self.decoder_inp_seq = self.tokenizer_o.texts_to_sequences([self.decoder_inps[i]])\n",
    "        self.decoder_out_seq = self.tokenizer_o.texts_to_sequences([self.decoder_outs[i]])\n",
    "\n",
    "        self.encoder_seq = pad_sequences(self.encoder_seq, maxlen=self.max_len_enc, dtype='int32', padding='post')\n",
    "        self.decoder_inp_seq = pad_sequences(self.decoder_inp_seq, maxlen=self.max_len_dec, dtype='int32', padding='post')\n",
    "        self.decoder_out_seq = pad_sequences(self.decoder_out_seq, maxlen=self.max_len_dec, dtype='int32', padding='post')\n",
    "        return self.encoder_seq, self.decoder_inp_seq, self.decoder_out_seq\n",
    "\n",
    "    def __len__(self):\n",
    "        return len(self.encoder_inps)\n",
    "\n",
    "    \n",
    "class Dataloder(tf.keras.utils.Sequence):    \n",
    "    def __init__(self, dataset, batch_size=1):\n",
    "        self.dataset = dataset\n",
    "        self.batch_size = batch_size\n",
    "        self.indexes = np.arange(len(self.dataset.encoder_inps))\n",
    "\n",
    "\n",
    "    def __getitem__(self, i):\n",
    "        start = i * self.batch_size\n",
    "        stop = (i + 1) * self.batch_size\n",
    "        data = []\n",
    "        for j in range(start, stop):\n",
    "            data.append(self.dataset[j])\n",
    "\n",
    "        batch = [np.squeeze(np.stack(samples, axis=1), axis=0) for samples in zip(*data)]\n",
    "        return tuple([[batch[0],batch[1]],batch[2]])\n",
    "\n",
    "    def __len__(self): \n",
    "        return len(self.indexes) // self.batch_size\n",
    "\n",
    "    def on_epoch_end(self):\n",
    "        self.indexes = np.random.permutation(self.indexes)"
   ]
  },
  {
   "cell_type": "code",
   "execution_count": null,
   "metadata": {
    "colab": {
     "base_uri": "https://localhost:8080/"
    },
    "id": "yYS7cpfD7n3S",
    "outputId": "3d01df5b-1317-4234-e7c8-e1402552fe49"
   },
   "outputs": [
    {
     "name": "stdout",
     "output_type": "stream",
     "text": [
      "Train Dataloader: (512, 25) (512, 25) (512, 25)\n",
      "Test Dataloader: (512, 25) (512, 25) (512, 25)\n"
     ]
    }
   ],
   "source": [
    "train_dataset = Dataset(train, tokenizer_i, tokenizer_o, 25, 25)\n",
    "test_dataset  = Dataset(test, tokenizer_i, tokenizer_o, 25, 25)\n",
    "\n",
    "train_dataloader = Dataloder(train_dataset, batch_size=512)\n",
    "test_dataloader = Dataloder(test_dataset, batch_size=512)\n",
    "\n",
    "print('Train Dataloader:', train_dataloader[0][0][0].shape, train_dataloader[0][0][1].shape, train_dataloader[0][1].shape)\n",
    "print('Test Dataloader:', test_dataloader[0][0][0].shape, test_dataloader[0][0][1].shape, test_dataloader[0][1].shape)"
   ]
  },
  {
   "cell_type": "markdown",
   "metadata": {
    "id": "1RHXoozdDrug"
   },
   "source": [
    "## Model Building"
   ]
  },
  {
   "cell_type": "code",
   "execution_count": null,
   "metadata": {
    "id": "aCH8qtWgDFcz"
   },
   "outputs": [],
   "source": [
    "class Encoder(tf.keras.Model):\n",
    "    '''\n",
    "    Encoder model -- That takes a input sequence and returns encoder-outputs,encoder_final_state_h,encoder_final_state_c\n",
    "    '''\n",
    "    def __init__(self,in_vocab_size,embedding_dim,enc_units,input_length):\n",
    "        super().__init__()\n",
    "        self.in_vocab_size = in_vocab_size\n",
    "        self.embedding_dim = embedding_dim\n",
    "        self.input_length = input_length\n",
    "        self.enc_units = enc_units\n",
    "\n",
    "    def build(self, input_shape):\n",
    "        self.embedding = Embedding(input_dim=self.in_vocab_size, output_dim=self.embedding_dim, input_length=self.input_length, mask_zero=True, weights=[encoder_embedding_matrix_fast], trainable=False, name=\"Encoder_Embedding\")\n",
    "        self.lstm = LSTM(self.enc_units, return_state=True, return_sequences=True, name=\"Encoder_LSTM\")\n",
    "        \n",
    "    def call(self, input_sentences, training=True):\n",
    "        input_embed = self.embedding(input_sentences)\n",
    "        encoder_output, encoder_state_h, encoder_state_c = self.lstm(input_embed)\n",
    "        return encoder_output, encoder_state_h, encoder_state_c\n",
    "\n",
    "#-----------------------------------------------------------------------------------------------------------------------------------\n",
    "class Attention(tf.keras.layers.Layer):\n",
    "  '''\n",
    "  Class the calculates score based on the scoring_function using Bahdanu attention mechanism.\n",
    "  '''\n",
    "  def __init__(self,scoring_function, att_units):\n",
    "    super().__init__()\n",
    "    self.scoring_function = scoring_function\n",
    "    self.att_units = att_units\n",
    "\n",
    "    if self.scoring_function == 'dot':\n",
    "      pass\n",
    "\n",
    "    if scoring_function == 'general':\n",
    "      self.W = Dense(self.att_units)\n",
    "      \n",
    "    elif scoring_function == 'concat':\n",
    "      self.W1 = Dense(self.att_units)\n",
    "      self.W2 = Dense(self.att_units)\n",
    "      self.Va = Dense(1)\n",
    "  \n",
    "  \n",
    "  def call(self,decoder_hidden_state,encoder_output):\n",
    "    if self.scoring_function == 'dot':\n",
    "        decoder_hidden_state = tf.expand_dims(decoder_hidden_state, 2)\n",
    "        score = tf.matmul(encoder_output, decoder_hidden_state)\n",
    "\n",
    "    elif self.scoring_function == 'general':\n",
    "        decoder_hidden_state = tf.expand_dims(decoder_hidden_state, 2)\n",
    "        score = tf.matmul(self.W(encoder_output), decoder_hidden_state)\n",
    "\n",
    "    elif self.scoring_function == 'concat':\n",
    "        decoder_hidden_state = tf.expand_dims(decoder_hidden_state, 1)\n",
    "        score = self.Va(tf.nn.tanh(self.W1(decoder_hidden_state) + self.W2(encoder_output)))\n",
    "\n",
    "    attention_weight = tf.nn.softmax(score, axis=1)\n",
    "    context_vector = tf.reduce_sum(attention_weight * encoder_output, axis=1)\n",
    "    return context_vector, attention_weight\n",
    "\n",
    "#-----------------------------------------------------------------------------------------------------------------------------------\n",
    "class One_Step_Decoder(tf.keras.Model):\n",
    "  def __init__(self, tar_vocab_size, embedding_dim, input_length, dec_units, score_fun, att_units):\n",
    "      super().__init__()\n",
    "      self.tar_vocab_size = tar_vocab_size\n",
    "      self.embedding_dim = embedding_dim\n",
    "      self.input_length = input_length\n",
    "      self.dec_units= dec_units\n",
    "      self.score_fun = score_fun\n",
    "      self.att_units = att_units\n",
    "\n",
    "  def build(self, input_shape):\n",
    "        self.embedding = Embedding(input_dim=self.tar_vocab_size, output_dim=self.embedding_dim, input_length=self.input_length, mask_zero=True, weights=[decoder_embedding_matrix_fast], trainable=False, name=\"Decoder_Embedding\")\n",
    "        self.lstm = LSTM(self.dec_units, return_state=True, return_sequences=True, name=\"Decoder_LSTM\")\n",
    "        self.dense = Dense(self.tar_vocab_size)\n",
    "        self.attention = Attention(self.score_fun, self.att_units)\n",
    "\n",
    "  def call(self,input_to_decoder, encoder_output, state_h, state_c):\n",
    "    \n",
    "    target_embedd = self.embedding(input_to_decoder)\n",
    "\n",
    "    context_vector, attention_weights = self.attention(state_h, encoder_output)\n",
    "    context_vector = tf.expand_dims(context_vector, 1)\n",
    "\n",
    "    decoder_input = tf.concat([target_embedd, context_vector], 2)\n",
    "\n",
    "    decoder_output, decoder_final_state_h, decoder_final_state_c = self.lstm(decoder_input, initial_state=[state_h,state_c])\n",
    "\n",
    "    output = self.dense(decoder_output)\n",
    "\n",
    "    return tf.squeeze(output), decoder_final_state_h, decoder_final_state_c, attention_weights, tf.squeeze(context_vector)\n",
    "\n",
    "#-----------------------------------------------------------------------------------------------------------------------------------\n",
    "class Decoder(tf.keras.Model):\n",
    "    def __init__(self,out_vocab_size, embedding_dim, input_length, dec_units ,score_fun, att_units):\n",
    "      super(Decoder, self).__init__()\n",
    "      self.out_vocab_size = out_vocab_size\n",
    "      self.embedding_dim = embedding_dim\n",
    "      self.input_length = input_length\n",
    "      self.dec_units = dec_units\n",
    "      self.score_fun = score_fun\n",
    "      self.att_units = att_units\n",
    "      self.one_step_decoder = One_Step_Decoder(self.out_vocab_size, self.embedding_dim, self.input_length, self.dec_units, self.score_fun, self.att_units)\n",
    "\n",
    "   \n",
    "    def call(self, input_to_decoder, encoder_output_state, decoder_hidden_state, decoder_cell_state):\n",
    "      all_outputs = tf.TensorArray(tf.float32, size=tf.shape(input_to_decoder)[1], name=\"output_arrays\")\n",
    "\n",
    "      for timestep in range(tf.shape(input_to_decoder)[1]):\n",
    "        output, decoder_hidden_state, decoder_cell_state, attention_weights, context_vector = self.one_step_decoder(input_to_decoder[:,timestep:timestep+1], encoder_output_state, decoder_hidden_state, decoder_cell_state)\n",
    "        all_outputs = all_outputs.write(timestep, output)\n",
    "\n",
    "      all_outputs = tf.transpose(all_outputs.stack(), [1, 0, 2])\n",
    "      return all_outputs\n",
    "\n",
    "#-----------------------------------------------------------------------------------------------------------------------------------\n",
    "class Encoder_Decoder(tf.keras.Model):\n",
    "  def __init__(self, encoder_inputs_length, decoder_inputs_length, input_vocab_size, output_vocab_size, embedding_dim, enc_units, dec_units, att_units, batch_size, score_fun, name='Encoder-Decoder-Attention'):\n",
    "    super().__init__(name=name)\n",
    "    self.encoder = Encoder(in_vocab_size=input_vocab_size+1, embedding_dim=embedding_dim, enc_units=enc_units, input_length=encoder_inputs_length)\n",
    "    self.decoder = Decoder(out_vocab_size=output_vocab_size+1, embedding_dim=embedding_dim, input_length=decoder_inputs_length, dec_units=dec_units, score_fun=score_fun, att_units=att_units)\n",
    "    self.batch_size = batch_size\n",
    "\n",
    "  def call(self,data):\n",
    "\n",
    "    input, output = data[0], data[1]\n",
    "\n",
    "    encoder_output, encoder_h, encoder_c = self.encoder(input)\n",
    "    decoder_output = self.decoder(output, encoder_output, encoder_h, encoder_c)\n",
    "    return decoder_output"
   ]
  },
  {
   "cell_type": "markdown",
   "metadata": {
    "id": "ioBubCAmEHWN"
   },
   "source": [
    "## Custom Loss Function"
   ]
  },
  {
   "cell_type": "code",
   "execution_count": null,
   "metadata": {
    "id": "QY_3izrXMs8y"
   },
   "outputs": [],
   "source": [
    "def loss_function(real, pred):\n",
    "    mask = tf.math.logical_not(tf.math.equal(real, 0))\n",
    "    loss_object = tf.keras.losses.SparseCategoricalCrossentropy(from_logits=True, reduction='none')\n",
    "    loss_ = loss_object(real, pred)\n",
    "    mask = tf.cast(mask, dtype=loss_.dtype)\n",
    "    loss_ *= mask\n",
    "    return tf.reduce_mean(loss_)"
   ]
  },
  {
   "cell_type": "markdown",
   "metadata": {
    "id": "11PwkigioLFN"
   },
   "source": [
    "## Model Training"
   ]
  },
  {
   "cell_type": "code",
   "execution_count": null,
   "metadata": {
    "id": "rO1R0QrVn3t3"
   },
   "outputs": [],
   "source": [
    "lr = tf.keras.callbacks.ReduceLROnPlateau(monitor='val_loss', factor=0.99, patience=100)\n",
    "es = tf.keras.callbacks.EarlyStopping(patience=3, verbose=1, min_delta=0.001, monitor='val_loss', mode='min', restore_best_weights=True)\n",
    "\n",
    "train_steps = train.shape[0]//512\n",
    "valid_steps = test.shape[0]//512\n",
    "\n",
    "model  = Encoder_Decoder(encoder_inputs_length=25,\n",
    "                          decoder_inputs_length=25,\n",
    "                          input_vocab_size=vocab_size_input,\n",
    "                          output_vocab_size=vocab_size_output, \n",
    "                          embedding_dim=300, \n",
    "                          enc_units=256, \n",
    "                          dec_units=256, \n",
    "                          att_units=256,\n",
    "                          batch_size=512,\n",
    "                          score_fun='dot')\n",
    "\n",
    "model.compile(optimizer=tf.keras.optimizers.Adam(),loss=loss_function)"
   ]
  },
  {
   "cell_type": "markdown",
   "metadata": {
    "id": "9OyEf-mTP19_"
   },
   "source": [
    "20 Epoch"
   ]
  },
  {
   "cell_type": "code",
   "execution_count": null,
   "metadata": {
    "colab": {
     "base_uri": "https://localhost:8080/"
    },
    "id": "1bXjrmvoeviz",
    "outputId": "fb9156f4-07eb-4732-edb9-f35eb2ba8681"
   },
   "outputs": [
    {
     "name": "stdout",
     "output_type": "stream",
     "text": [
      "Epoch 1/20\n",
      "164/164 [==============================] - 127s 743ms/step - loss: 3.2075 - val_loss: 2.9430\n",
      "Epoch 2/20\n",
      "164/164 [==============================] - 120s 734ms/step - loss: 2.9280 - val_loss: 2.8667\n",
      "Epoch 3/20\n",
      "164/164 [==============================] - 120s 734ms/step - loss: 2.7913 - val_loss: 2.6812\n",
      "Epoch 4/20\n",
      "164/164 [==============================] - 121s 736ms/step - loss: 2.5940 - val_loss: 2.4662\n",
      "Epoch 5/20\n",
      "164/164 [==============================] - 120s 734ms/step - loss: 2.3684 - val_loss: 2.2426\n",
      "Epoch 6/20\n",
      "164/164 [==============================] - 120s 734ms/step - loss: 2.1649 - val_loss: 2.0588\n",
      "Epoch 7/20\n",
      "164/164 [==============================] - 119s 729ms/step - loss: 1.9987 - val_loss: 1.9087\n",
      "Epoch 8/20\n",
      "164/164 [==============================] - 120s 732ms/step - loss: 1.8603 - val_loss: 1.7764\n",
      "Epoch 9/20\n",
      "164/164 [==============================] - 121s 736ms/step - loss: 1.7280 - val_loss: 1.6438\n",
      "Epoch 10/20\n",
      "164/164 [==============================] - 120s 731ms/step - loss: 1.5970 - val_loss: 1.5104\n",
      "Epoch 11/20\n",
      "164/164 [==============================] - 120s 730ms/step - loss: 1.4650 - val_loss: 1.3820\n",
      "Epoch 12/20\n",
      "164/164 [==============================] - 121s 737ms/step - loss: 1.3435 - val_loss: 1.2696\n",
      "Epoch 13/20\n",
      "164/164 [==============================] - 119s 729ms/step - loss: 1.2369 - val_loss: 1.1759\n",
      "Epoch 14/20\n",
      "164/164 [==============================] - 120s 731ms/step - loss: 1.1491 - val_loss: 1.0909\n",
      "Epoch 15/20\n",
      "164/164 [==============================] - 120s 733ms/step - loss: 1.0747 - val_loss: 1.0232\n",
      "Epoch 16/20\n",
      "164/164 [==============================] - 120s 730ms/step - loss: 1.0129 - val_loss: 0.9676\n",
      "Epoch 17/20\n",
      "164/164 [==============================] - 120s 734ms/step - loss: 0.9577 - val_loss: 0.9185\n",
      "Epoch 18/20\n",
      "164/164 [==============================] - 119s 730ms/step - loss: 0.9092 - val_loss: 0.8652\n",
      "Epoch 19/20\n",
      "164/164 [==============================] - 120s 733ms/step - loss: 0.8640 - val_loss: 0.8235\n",
      "Epoch 20/20\n",
      "164/164 [==============================] - 121s 736ms/step - loss: 0.8245 - val_loss: 0.7873\n"
     ]
    }
   ],
   "source": [
    "with tf.device('/device:GPU:0'):\n",
    "    history20 = model.fit_generator(train_dataloader, steps_per_epoch=train_steps, epochs=20, validation_data=train_dataloader, validation_steps=train_steps, callbacks=[lr,es])"
   ]
  },
  {
   "cell_type": "code",
   "execution_count": null,
   "metadata": {
    "id": "GQ7fAhM17hx2"
   },
   "outputs": [],
   "source": [
    "model.save_weights(model_path + 'att20/' + 'attention20', save_format='tf') "
   ]
  },
  {
   "cell_type": "code",
   "execution_count": null,
   "metadata": {
    "colab": {
     "base_uri": "https://localhost:8080/",
     "height": 301
    },
    "id": "HfutJC3DXqId",
    "outputId": "a6664622-aed6-4a0c-a9f1-d2f53c6ca2ba"
   },
   "outputs": [
    {
     "data": {
      "image/png": "[encoded data removed]",
      "text/plain": [
       "<Figure size 432x288 with 1 Axes>"
      ]
     },
     "metadata": {
      "needs_background": "light",
      "tags": []
     },
     "output_type": "display_data"
    }
   ],
   "source": [
    "plt.plot(history20.history['loss'])\n",
    "plt.plot(history20.history['val_loss'])\n",
    "plt.title('model loss')\n",
    "plt.ylabel('loss')\n",
    "plt.xlabel('epoch')\n",
    "plt.legend(['train', 'test'], loc='upper right')\n",
    "plt.show()"
   ]
  },
  {
   "cell_type": "code",
   "execution_count": null,
   "metadata": {
    "colab": {
     "base_uri": "https://localhost:8080/"
    },
    "id": "ElR2P237InDo",
    "outputId": "5dbba171-9511-45f5-faac-5990e0d2d501"
   },
   "outputs": [
    {
     "name": "stdout",
     "output_type": "stream",
     "text": [
      "Model: \"Encoder-Decoder-Attention\"\n",
      "_________________________________________________________________\n",
      "Layer (type)                 Output Shape              Param #   \n",
      "=================================================================\n",
      "encoder_2 (Encoder)          multiple                  11223668  \n",
      "_________________________________________________________________\n",
      "decoder_2 (Decoder)          multiple                  17181019  \n",
      "=================================================================\n",
      "Total params: 28,404,687\n",
      "Trainable params: 8,946,087\n",
      "Non-trainable params: 19,458,600\n",
      "_________________________________________________________________\n"
     ]
    }
   ],
   "source": [
    "model.summary()"
   ]
  },
  {
   "cell_type": "markdown",
   "metadata": {
    "id": "2rHPW4o1P9hU"
   },
   "source": [
    "40 Epoch"
   ]
  },
  {
   "cell_type": "code",
   "execution_count": null,
   "metadata": {
    "colab": {
     "base_uri": "https://localhost:8080/"
    },
    "id": "sy7OtaovIttl",
    "outputId": "7d972651-b380-468a-9dd5-c280379c0d7b"
   },
   "outputs": [
    {
     "name": "stdout",
     "output_type": "stream",
     "text": [
      "Epoch 1/20\n",
      "164/164 [==============================] - 121s 739ms/step - loss: 0.7883 - val_loss: 0.7539\n",
      "Epoch 2/20\n",
      "164/164 [==============================] - 121s 738ms/step - loss: 0.7573 - val_loss: 0.7268\n",
      "Epoch 3/20\n",
      "164/164 [==============================] - 120s 732ms/step - loss: 0.7264 - val_loss: 0.6938\n",
      "Epoch 4/20\n",
      "164/164 [==============================] - 121s 736ms/step - loss: 0.6982 - val_loss: 0.6683\n",
      "Epoch 5/20\n",
      "164/164 [==============================] - 121s 738ms/step - loss: 0.6749 - val_loss: 0.6505\n",
      "Epoch 6/20\n",
      "164/164 [==============================] - 120s 733ms/step - loss: 0.6529 - val_loss: 0.6261\n",
      "Epoch 7/20\n",
      "164/164 [==============================] - 121s 737ms/step - loss: 0.6303 - val_loss: 0.6074\n",
      "Epoch 8/20\n",
      "164/164 [==============================] - 120s 733ms/step - loss: 0.6130 - val_loss: 0.5944\n",
      "Epoch 9/20\n",
      "164/164 [==============================] - 120s 734ms/step - loss: 0.5962 - val_loss: 0.5761\n",
      "Epoch 10/20\n",
      "164/164 [==============================] - 120s 734ms/step - loss: 0.5805 - val_loss: 0.5639\n",
      "Epoch 11/20\n",
      "164/164 [==============================] - 120s 731ms/step - loss: 0.5673 - val_loss: 0.5476\n",
      "Epoch 12/20\n",
      "164/164 [==============================] - 120s 733ms/step - loss: 0.5663 - val_loss: 0.5409\n",
      "Epoch 13/20\n",
      "164/164 [==============================] - 121s 736ms/step - loss: 0.5430 - val_loss: 0.5252\n",
      "Epoch 14/20\n",
      "164/164 [==============================] - 120s 731ms/step - loss: 0.5315 - val_loss: 0.5185\n",
      "Epoch 15/20\n",
      "164/164 [==============================] - 120s 735ms/step - loss: 0.5199 - val_loss: 0.5059\n",
      "Epoch 16/20\n",
      "164/164 [==============================] - 120s 734ms/step - loss: 0.5131 - val_loss: 0.5002\n",
      "Epoch 17/20\n",
      "164/164 [==============================] - 130s 792ms/step - loss: 0.5016 - val_loss: 0.4875\n",
      "Epoch 18/20\n",
      "164/164 [==============================] - 121s 737ms/step - loss: 0.4917 - val_loss: 0.4779\n",
      "Epoch 19/20\n",
      "164/164 [==============================] - 121s 738ms/step - loss: 0.4837 - val_loss: 0.4687\n",
      "Epoch 20/20\n",
      "164/164 [==============================] - 120s 731ms/step - loss: 0.4762 - val_loss: 0.4645\n"
     ]
    }
   ],
   "source": [
    "with tf.device('/device:GPU:0'): \n",
    "    history40 = model.fit_generator(train_dataloader, steps_per_epoch=train_steps, epochs=20, validation_data=train_dataloader, validation_steps=train_steps, callbacks=[lr,es])"
   ]
  },
  {
   "cell_type": "code",
   "execution_count": null,
   "metadata": {
    "id": "7iwvxADRyA6b"
   },
   "outputs": [],
   "source": [
    "model.save_weights(model_path + 'att40/' + 'attention40', save_format='tf') "
   ]
  },
  {
   "cell_type": "code",
   "execution_count": null,
   "metadata": {
    "colab": {
     "base_uri": "https://localhost:8080/",
     "height": 301
    },
    "id": "lyIftI2OyEIy",
    "outputId": "954edeb1-99df-4fc0-aa0e-746b76866c22"
   },
   "outputs": [
    {
     "data": {
      "image/png": "[encoded data removed]",
      "text/plain": [
       "<Figure size 432x288 with 1 Axes>"
      ]
     },
     "metadata": {
      "needs_background": "light",
      "tags": []
     },
     "output_type": "display_data"
    }
   ],
   "source": [
    "plt.plot(history40.history['loss'])\n",
    "plt.plot(history40.history['val_loss'])\n",
    "plt.title('model loss')\n",
    "plt.ylabel('loss')\n",
    "plt.xlabel('epoch')\n",
    "plt.legend(['train', 'test'], loc='upper right')\n",
    "plt.show()"
   ]
  },
  {
   "cell_type": "markdown",
   "metadata": {
    "id": "3-1QSXiSQECt"
   },
   "source": [
    "60 Epoch"
   ]
  },
  {
   "cell_type": "code",
   "execution_count": null,
   "metadata": {
    "colab": {
     "base_uri": "https://localhost:8080/"
    },
    "id": "uNJrPDdozre8",
    "outputId": "2b616b5c-e5b4-4706-919a-da114b941ef1"
   },
   "outputs": [
    {
     "name": "stdout",
     "output_type": "stream",
     "text": [
      "Epoch 1/20\n",
      "164/164 [==============================] - 120s 734ms/step - loss: 0.4671 - val_loss: 0.4528\n",
      "Epoch 2/20\n",
      "164/164 [==============================] - 120s 733ms/step - loss: 0.4589 - val_loss: 0.4463\n",
      "Epoch 3/20\n",
      "164/164 [==============================] - 121s 738ms/step - loss: 0.4531 - val_loss: 0.4428\n",
      "Epoch 4/20\n",
      "164/164 [==============================] - 120s 731ms/step - loss: 0.4461 - val_loss: 0.4356\n",
      "Epoch 5/20\n",
      "164/164 [==============================] - 120s 735ms/step - loss: 0.4441 - val_loss: 0.4292\n",
      "Epoch 6/20\n",
      "164/164 [==============================] - 120s 734ms/step - loss: 0.4346 - val_loss: 0.4209\n",
      "Epoch 7/20\n",
      "164/164 [==============================] - 120s 735ms/step - loss: 0.4247 - val_loss: 0.4172\n",
      "Epoch 8/20\n",
      "164/164 [==============================] - 121s 738ms/step - loss: 0.4200 - val_loss: 0.4076\n",
      "Epoch 9/20\n",
      "164/164 [==============================] - 120s 734ms/step - loss: 0.4120 - val_loss: 0.4002\n",
      "Epoch 10/20\n",
      "164/164 [==============================] - 121s 736ms/step - loss: 0.4079 - val_loss: 0.3995\n",
      "Epoch 11/20\n",
      "164/164 [==============================] - 121s 737ms/step - loss: 0.4032 - val_loss: 0.3976\n",
      "Epoch 12/20\n",
      "164/164 [==============================] - 120s 735ms/step - loss: 0.3986 - val_loss: 0.3868\n",
      "Epoch 13/20\n",
      "164/164 [==============================] - 120s 733ms/step - loss: 0.3893 - val_loss: 0.3822\n",
      "Epoch 14/20\n",
      "164/164 [==============================] - 121s 737ms/step - loss: 0.3880 - val_loss: 0.3806\n",
      "Epoch 15/20\n",
      "164/164 [==============================] - 120s 734ms/step - loss: 0.3843 - val_loss: 0.3711\n",
      "Epoch 16/20\n",
      "164/164 [==============================] - 120s 734ms/step - loss: 0.3751 - val_loss: 0.3656\n",
      "Epoch 17/20\n",
      "164/164 [==============================] - 120s 730ms/step - loss: 0.3687 - val_loss: 0.3606\n",
      "Epoch 18/20\n",
      "164/164 [==============================] - 120s 732ms/step - loss: 0.3681 - val_loss: 0.3555\n",
      "Epoch 19/20\n",
      "164/164 [==============================] - 120s 735ms/step - loss: 0.3597 - val_loss: 0.3526\n",
      "Epoch 20/20\n",
      "164/164 [==============================] - 120s 730ms/step - loss: 0.3554 - val_loss: 0.3500\n"
     ]
    }
   ],
   "source": [
    "with tf.device('/device:GPU:0'): \n",
    "    history60 = model.fit_generator(train_dataloader, steps_per_epoch=train_steps, epochs=20, validation_data=train_dataloader, validation_steps=train_steps, callbacks=[lr,es])"
   ]
  },
  {
   "cell_type": "code",
   "execution_count": null,
   "metadata": {
    "id": "GTZg0DTHz8rF"
   },
   "outputs": [],
   "source": [
    "model.save_weights(model_path + 'att60/' + 'attention60', save_format='tf') "
   ]
  },
  {
   "cell_type": "code",
   "execution_count": null,
   "metadata": {
    "colab": {
     "base_uri": "https://localhost:8080/",
     "height": 301
    },
    "id": "WH5I05P1z_mJ",
    "outputId": "5ed7ffd9-9dbf-4afb-982d-ca21bb363a60"
   },
   "outputs": [
    {
     "data": {
      "image/png": "[encoded data removed]",
      "text/plain": [
       "<Figure size 432x288 with 1 Axes>"
      ]
     },
     "metadata": {
      "needs_background": "light",
      "tags": []
     },
     "output_type": "display_data"
    }
   ],
   "source": [
    "plt.plot(history60.history['loss'])\n",
    "plt.plot(history60.history['val_loss'])\n",
    "plt.title('model loss')\n",
    "plt.ylabel('loss')\n",
    "plt.xlabel('epoch')\n",
    "plt.legend(['train', 'test'], loc='upper right')\n",
    "plt.show()"
   ]
  },
  {
   "cell_type": "markdown",
   "metadata": {
    "id": "zFTaS0A2QIBh"
   },
   "source": [
    "80 Epoch"
   ]
  },
  {
   "cell_type": "code",
   "execution_count": null,
   "metadata": {
    "colab": {
     "base_uri": "https://localhost:8080/"
    },
    "id": "DLQyYzwr0H3x",
    "outputId": "ef5ce48a-7496-479c-ea3a-d78b3ececc7f"
   },
   "outputs": [
    {
     "name": "stdout",
     "output_type": "stream",
     "text": [
      "Epoch 1/20\n",
      "164/164 [==============================] - 121s 737ms/step - loss: 0.3523 - val_loss: 0.3411\n",
      "Epoch 2/20\n",
      "164/164 [==============================] - 119s 729ms/step - loss: 0.3465 - val_loss: 0.3384\n",
      "Epoch 3/20\n",
      "164/164 [==============================] - 120s 730ms/step - loss: 0.3404 - val_loss: 0.3318\n",
      "Epoch 4/20\n",
      "164/164 [==============================] - 120s 735ms/step - loss: 0.3388 - val_loss: 0.3356\n",
      "Epoch 5/20\n",
      "164/164 [==============================] - 120s 731ms/step - loss: 0.3346 - val_loss: 0.3271\n",
      "Epoch 6/20\n",
      "164/164 [==============================] - 120s 733ms/step - loss: 0.3354 - val_loss: 0.3242\n",
      "Epoch 7/20\n",
      "164/164 [==============================] - 120s 730ms/step - loss: 0.3259 - val_loss: 0.3164\n",
      "Epoch 8/20\n",
      "164/164 [==============================] - 120s 730ms/step - loss: 0.3187 - val_loss: 0.3142\n",
      "Epoch 9/20\n",
      "164/164 [==============================] - 121s 737ms/step - loss: 0.3157 - val_loss: 0.3118\n",
      "Epoch 10/20\n",
      "164/164 [==============================] - 121s 736ms/step - loss: 0.3160 - val_loss: 0.3094\n",
      "Epoch 11/20\n",
      "164/164 [==============================] - 120s 734ms/step - loss: 0.3098 - val_loss: 0.3008\n",
      "Epoch 12/20\n",
      "164/164 [==============================] - 121s 736ms/step - loss: 0.3029 - val_loss: 0.2964\n",
      "Epoch 13/20\n",
      "164/164 [==============================] - 119s 729ms/step - loss: 0.3004 - val_loss: 0.2943\n",
      "Epoch 14/20\n",
      "164/164 [==============================] - 120s 734ms/step - loss: 0.3097 - val_loss: 0.3331\n",
      "Epoch 15/20\n",
      "164/164 [==============================] - 120s 733ms/step - loss: 0.3076 - val_loss: 0.2898\n",
      "Epoch 16/20\n",
      "164/164 [==============================] - 120s 732ms/step - loss: 0.2922 - val_loss: 0.2902\n",
      "Epoch 17/20\n",
      "164/164 [==============================] - 120s 731ms/step - loss: 0.2854 - val_loss: 0.2765\n",
      "Epoch 18/20\n",
      "164/164 [==============================] - 120s 732ms/step - loss: 0.2796 - val_loss: 0.2756\n",
      "Epoch 19/20\n",
      "164/164 [==============================] - 120s 731ms/step - loss: 0.2760 - val_loss: 0.2776\n",
      "Epoch 20/20\n",
      "164/164 [==============================] - 120s 732ms/step - loss: 0.2767 - val_loss: 0.2689\n"
     ]
    }
   ],
   "source": [
    "with tf.device('/device:GPU:0'): \n",
    "    history80 = model.fit_generator(train_dataloader, steps_per_epoch=train_steps, epochs=20, validation_data=train_dataloader, validation_steps=train_steps, callbacks=[lr,es])"
   ]
  },
  {
   "cell_type": "code",
   "execution_count": null,
   "metadata": {
    "id": "e-Umg4B8pChw"
   },
   "outputs": [],
   "source": [
    "model.save_weights(model_path + 'att80/' + 'attention80', save_format='tf') "
   ]
  },
  {
   "cell_type": "code",
   "execution_count": null,
   "metadata": {
    "colab": {
     "base_uri": "https://localhost:8080/",
     "height": 301
    },
    "id": "uS8jiMzm9QIK",
    "outputId": "2a0e1305-5c40-4bcc-b928-f7b30b891c1b"
   },
   "outputs": [
    {
     "data": {
      "image/png": "[encoded data removed]",
      "text/plain": [
       "<Figure size 432x288 with 1 Axes>"
      ]
     },
     "metadata": {
      "needs_background": "light",
      "tags": []
     },
     "output_type": "display_data"
    }
   ],
   "source": [
    "plt.plot(history80.history['loss'])\n",
    "plt.plot(history80.history['val_loss'])\n",
    "plt.title('model loss')\n",
    "plt.ylabel('loss')\n",
    "plt.xlabel('epoch')\n",
    "plt.legend(['train', 'test'], loc='upper right')\n",
    "plt.show()"
   ]
  },
  {
   "cell_type": "markdown",
   "metadata": {
    "id": "ZJbz6L2xQNku"
   },
   "source": [
    "90 Epoch"
   ]
  },
  {
   "cell_type": "code",
   "execution_count": null,
   "metadata": {
    "colab": {
     "base_uri": "https://localhost:8080/"
    },
    "id": "xjsaV9ZU2Ahw",
    "outputId": "d69f6ee7-d040-4e9c-cef6-2d979e100e04"
   },
   "outputs": [
    {
     "name": "stdout",
     "output_type": "stream",
     "text": [
      "Epoch 1/10\n",
      "164/164 [==============================] - 137s 780ms/step - loss: 0.2873 - val_loss: 0.3225\n",
      "Epoch 2/10\n",
      "164/164 [==============================] - 125s 766ms/step - loss: 0.2821 - val_loss: 0.2683\n",
      "Epoch 3/10\n",
      "164/164 [==============================] - 125s 761ms/step - loss: 0.2673 - val_loss: 0.2670\n",
      "Epoch 4/10\n",
      "164/164 [==============================] - 125s 760ms/step - loss: 0.2613 - val_loss: 0.2541\n",
      "Epoch 5/10\n",
      "164/164 [==============================] - 125s 763ms/step - loss: 0.2558 - val_loss: 0.2552\n",
      "Epoch 6/10\n",
      "164/164 [==============================] - 125s 760ms/step - loss: 0.2532 - val_loss: 0.2480\n",
      "Epoch 7/10\n",
      "164/164 [==============================] - 125s 764ms/step - loss: 0.2536 - val_loss: 0.2506\n",
      "Epoch 8/10\n",
      "164/164 [==============================] - 125s 763ms/step - loss: 0.2524 - val_loss: 0.2493\n",
      "Epoch 9/10\n",
      "164/164 [==============================] - 124s 760ms/step - loss: 0.2468 - val_loss: 0.2422\n",
      "Epoch 10/10\n",
      "164/164 [==============================] - 125s 762ms/step - loss: 0.2445 - val_loss: 0.2389\n"
     ]
    }
   ],
   "source": [
    "with tf.device('/device:GPU:0'): \n",
    "    history90 = model.fit_generator(train_dataloader, steps_per_epoch=train_steps, epochs=10, validation_data=train_dataloader, validation_steps=train_steps, callbacks=[lr,es])"
   ]
  },
  {
   "cell_type": "code",
   "execution_count": null,
   "metadata": {
    "id": "DqTXMDER64D4"
   },
   "outputs": [],
   "source": [
    "model.save_weights(model_path + 'att90/' + 'attention90', save_format='tf') "
   ]
  },
  {
   "cell_type": "code",
   "execution_count": null,
   "metadata": {
    "colab": {
     "base_uri": "https://localhost:8080/",
     "height": 301
    },
    "id": "xfkvMO-b-3tc",
    "outputId": "9b49fdce-e34b-4751-d2ac-1c89943c49b7"
   },
   "outputs": [
    {
     "data": {
      "image/png": "[encoded data removed]",
      "text/plain": [
       "<Figure size 432x288 with 1 Axes>"
      ]
     },
     "metadata": {
      "needs_background": "light",
      "tags": []
     },
     "output_type": "display_data"
    }
   ],
   "source": [
    "plt.plot(history90.history['loss'])\n",
    "plt.plot(history90.history['val_loss'])\n",
    "plt.title('model loss')\n",
    "plt.ylabel('loss')\n",
    "plt.xlabel('epoch')\n",
    "plt.legend(['train', 'test'], loc='upper right')\n",
    "plt.show()"
   ]
  },
  {
   "cell_type": "markdown",
   "metadata": {
    "id": "QAagBihbxH0S"
   },
   "source": [
    "100 Epoch"
   ]
  },
  {
   "cell_type": "code",
   "execution_count": null,
   "metadata": {
    "colab": {
     "base_uri": "https://localhost:8080/"
    },
    "id": "C3fM3vsUakJA",
    "outputId": "b1b58643-fd5a-4509-b119-c457e3f1bd36"
   },
   "outputs": [
    {
     "name": "stdout",
     "output_type": "stream",
     "text": [
      "Epoch 1/10\n",
      "164/164 [==============================] - 126s 769ms/step - loss: 0.2396 - val_loss: 0.2354\n",
      "Epoch 2/10\n",
      "164/164 [==============================] - 126s 769ms/step - loss: 0.2343 - val_loss: 0.2294\n",
      "Epoch 3/10\n",
      "164/164 [==============================] - 125s 763ms/step - loss: 0.2486 - val_loss: 0.2319\n",
      "Epoch 4/10\n",
      "164/164 [==============================] - 125s 763ms/step - loss: 0.2381 - val_loss: 0.2319\n",
      "Epoch 5/10\n",
      "164/164 [==============================] - 125s 763ms/step - loss: 0.2326 - val_loss: 0.2283\n",
      "Epoch 6/10\n",
      "164/164 [==============================] - 124s 756ms/step - loss: 0.2272 - val_loss: 0.2254\n",
      "Epoch 7/10\n",
      "164/164 [==============================] - 124s 758ms/step - loss: 0.2282 - val_loss: 0.2181\n",
      "Epoch 8/10\n",
      "164/164 [==============================] - 125s 762ms/step - loss: 0.2214 - val_loss: 0.2198\n",
      "Epoch 9/10\n",
      "164/164 [==============================] - 124s 758ms/step - loss: 0.2210 - val_loss: 0.2115\n",
      "Epoch 10/10\n",
      "164/164 [==============================] - 124s 757ms/step - loss: 0.2219 - val_loss: 0.2117\n"
     ]
    }
   ],
   "source": [
    "with tf.device('/device:GPU:0'): \n",
    "    history100 = model.fit_generator(train_dataloader, steps_per_epoch=train_steps, epochs=10, validation_data=train_dataloader, validation_steps=train_steps, callbacks=[lr,es])"
   ]
  },
  {
   "cell_type": "code",
   "execution_count": null,
   "metadata": {
    "id": "ABlZjrRkayS0"
   },
   "outputs": [],
   "source": [
    "model.save_weights(model_path + 'att100/' + 'attention100', save_format='tf') "
   ]
  },
  {
   "cell_type": "code",
   "execution_count": null,
   "metadata": {
    "colab": {
     "base_uri": "https://localhost:8080/",
     "height": 301
    },
    "id": "JEjFqaJpfvJL",
    "outputId": "17ca38d1-149c-4537-fb1c-d8ceee8151d9"
   },
   "outputs": [
    {
     "data": {
      "image/png": "[encoded data removed]",
      "text/plain": [
       "<Figure size 432x288 with 1 Axes>"
      ]
     },
     "metadata": {
      "needs_background": "light",
      "tags": []
     },
     "output_type": "display_data"
    }
   ],
   "source": [
    "plt.plot(history100.history['loss'])\n",
    "plt.plot(history100.history['val_loss'])\n",
    "plt.title('model loss')\n",
    "plt.ylabel('loss')\n",
    "plt.xlabel('epoch')\n",
    "plt.legend(['train', 'test'], loc='upper right')\n",
    "plt.show()"
   ]
  },
  {
   "cell_type": "markdown",
   "metadata": {
    "id": "igiFdInUxMU-"
   },
   "source": [
    "110 Epoch"
   ]
  },
  {
   "cell_type": "code",
   "execution_count": null,
   "metadata": {
    "colab": {
     "base_uri": "https://localhost:8080/"
    },
    "id": "cedrnyc7f_5P",
    "outputId": "fbe99c8c-f469-4f3c-90fd-20f1d5111891"
   },
   "outputs": [
    {
     "name": "stdout",
     "output_type": "stream",
     "text": [
      "Epoch 1/10\n",
      "164/164 [==============================] - 125s 764ms/step - loss: 0.2097 - val_loss: 0.2068\n",
      "Epoch 2/10\n",
      "164/164 [==============================] - 125s 761ms/step - loss: 0.2086 - val_loss: 0.2053\n",
      "Epoch 3/10\n",
      "164/164 [==============================] - 124s 755ms/step - loss: 0.2052 - val_loss: 0.2059\n",
      "Epoch 4/10\n",
      "164/164 [==============================] - 125s 761ms/step - loss: 0.2009 - val_loss: 0.1983\n",
      "Epoch 5/10\n",
      "164/164 [==============================] - 124s 757ms/step - loss: 0.2022 - val_loss: 0.2062\n",
      "Epoch 6/10\n",
      "164/164 [==============================] - 124s 760ms/step - loss: 0.2014 - val_loss: 0.1978\n",
      "Epoch 7/10\n",
      "164/164 [==============================] - 124s 757ms/step - loss: 0.1978 - val_loss: 0.1940\n",
      "Epoch 8/10\n",
      "164/164 [==============================] - 124s 760ms/step - loss: 0.2024 - val_loss: 0.2006\n",
      "Epoch 9/10\n",
      "164/164 [==============================] - 124s 757ms/step - loss: 0.2047 - val_loss: 0.2195\n",
      "Epoch 10/10\n",
      "164/164 [==============================] - 124s 760ms/step - loss: 0.1976 - val_loss: 0.1946\n",
      "Restoring model weights from the end of the best epoch.\n",
      "Epoch 00010: early stopping\n"
     ]
    }
   ],
   "source": [
    "with tf.device('/device:GPU:0'): \n",
    "    history110 = model.fit_generator(train_dataloader, steps_per_epoch=train_steps, epochs=10, validation_data=train_dataloader, validation_steps=train_steps, callbacks=[lr,es])"
   ]
  },
  {
   "cell_type": "code",
   "execution_count": null,
   "metadata": {
    "colab": {
     "base_uri": "https://localhost:8080/",
     "height": 301
    },
    "id": "C5d-s54e0AxU",
    "outputId": "e6275ec0-fae4-4a46-f763-f8c58a1c52a9"
   },
   "outputs": [
    {
     "data": {
      "image/png": "[encoded data removed]",
      "text/plain": [
       "<Figure size 432x288 with 1 Axes>"
      ]
     },
     "metadata": {
      "needs_background": "light",
      "tags": []
     },
     "output_type": "display_data"
    }
   ],
   "source": [
    "plt.plot(history110.history['loss'])\n",
    "plt.plot(history110.history['val_loss'])\n",
    "plt.title('model loss')\n",
    "plt.ylabel('loss')\n",
    "plt.xlabel('epoch')\n",
    "plt.legend(['train', 'test'], loc='upper right')\n",
    "plt.show()"
   ]
  },
  {
   "cell_type": "markdown",
   "metadata": {
    "id": "eBrkUqtNT6Pn"
   },
   "source": [
    "## Model Prediction"
   ]
  },
  {
   "cell_type": "code",
   "execution_count": null,
   "metadata": {
    "id": "MP3kLZoPMvSu"
   },
   "outputs": [],
   "source": [
    "def predict(input_sentence):\n",
    "\n",
    "  batch_size = 1 \n",
    "  DECODER_SEQ_LEN = 25\n",
    "  predict_word_idx = np.zeros((1, 1))\n",
    "  predict_word_idx[0,0] = 1\n",
    "  predicted_sentence = ''\n",
    "\n",
    "  input_sequence=tokenizer_i.texts_to_sequences([input_sentence])\n",
    "  inputs=pad_sequences(input_sequence,maxlen=25,padding='post')\n",
    "  inputs=tf.convert_to_tensor(inputs)\n",
    "\n",
    "  enc_output, state_h, state_c = model.layers[0](inputs)\n",
    "\n",
    "  for i in range(DECODER_SEQ_LEN):\n",
    "      dec_output, state_h, state_c, attention_weights, context_vector = model.layers[1].one_step_decoder(predict_word_idx, enc_output, state_h, state_c)\n",
    "      predict_word_idx = np.reshape(np.argmax(dec_output), (1, 1))\n",
    "      predicted_sentence += ' ' + tokenizer_o.index_word[int(predict_word_idx)]\n",
    "\n",
    "      if tokenizer_o.word_index['<end>'] == predict_word_idx:\n",
    "          return predicted_sentence\n",
    "      dec_input = tf.expand_dims([predict_word_idx],0)\n",
    "  return predicted_sentence\n",
    "\n",
    "#----------------------------------------------------------------------------------------------------\n",
    "import nltk.translate.bleu_score as bleu\n",
    "\n",
    "def get_BLEU(model, train, test):\n",
    "    total_bleu=0\n",
    "    input_range = 100\n",
    "    for i in range(0,input_range):\n",
    "        output_sentence = ' '.join(train['output_text_out'].iloc[i].split()[:-1])\n",
    "        predicted_sentence = ' '.join(predict(train['input_text'].iloc[i]).split()[:-1])\n",
    "        output_sentence = [output_sentence.split()]\n",
    "        predicted_sentence = predicted_sentence.split()\n",
    "        bleu_score = bleu.sentence_bleu(output_sentence, predicted_sentence)\n",
    "        total_bleu += bleu_score\n",
    "    train_avg_bleu = total_bleu/input_range\n",
    "\n",
    "    total_bleu=0\n",
    "    input_range = 100\n",
    "    for i in range(0,input_range):\n",
    "        output_sentence = ' '.join(test['output_text_out'].iloc[i].split()[:-1])\n",
    "        predicted_sentence = ' '.join(predict(test['input_text'].iloc[i]).split()[:-1])\n",
    "        output_sentence = [output_sentence.split()]\n",
    "        predicted_sentence = predicted_sentence.split()\n",
    "        bleu_score = bleu.sentence_bleu(output_sentence, predicted_sentence)\n",
    "        total_bleu += bleu_score\n",
    "    test_avg_bleu = total_bleu/input_range\n",
    "\n",
    "    print('Train BLEU Score:', train_avg_bleu)\n",
    "    print('Test BLEU Score:', test_avg_bleu)"
   ]
  },
  {
   "cell_type": "code",
   "execution_count": null,
   "metadata": {
    "colab": {
     "base_uri": "https://localhost:8080/"
    },
    "id": "dICovABoT_8a",
    "outputId": "d1a1a217-2281-469c-9025-23eea7c86b2c"
   },
   "outputs": [
    {
     "name": "stdout",
     "output_type": "stream",
     "text": [
      "SUMMARY OF AVERAGE BLEU SCORE AT EPOCHS\n",
      "--------------------------------------------------\n",
      "Epoch 20\n",
      "Train BLEU Score: 0.5058198414171543\n",
      "Test BLEU Score: 0.4762655447244908\n",
      "==================================================\n",
      "Epoch 40\n",
      "Train BLEU Score: 0.6076822725152745\n",
      "Test BLEU Score: 0.5206825956932373\n",
      "==================================================\n",
      "Epoch 60\n",
      "Train BLEU Score: 0.6285549680070726\n",
      "Test BLEU Score: 0.5232126867765783\n",
      "==================================================\n",
      "Epoch 80\n",
      "Train BLEU Score: 0.6925298712804873\n",
      "Test BLEU Score: 0.5003788725388416\n",
      "==================================================\n",
      "Epoch 90\n",
      "Train BLEU Score: 0.6924748784932001\n",
      "Test BLEU Score: 0.493802554025446\n",
      "==================================================\n"
     ]
    }
   ],
   "source": [
    "print('SUMMARY OF AVERAGE BLEU SCORE AT EPOCHS')\n",
    "print('-'*50)\n",
    "\n",
    "print('Epoch 20')\n",
    "model.load_weights(model_path + 'att20/' + 'attention20')\n",
    "get_BLEU(model, train, test)\n",
    "print('='*50)\n",
    "\n",
    "print('Epoch 40')\n",
    "model.load_weights(model_path + 'att40/' + 'attention40')\n",
    "get_BLEU(model, train, test)\n",
    "print('='*50)\n",
    "\n",
    "print('Epoch 60')\n",
    "model.load_weights(model_path + 'att60/' + 'attention60')\n",
    "get_BLEU(model, train, test)\n",
    "print('='*50)\n",
    "\n",
    "print('Epoch 80')\n",
    "model.load_weights(model_path + 'att80/' + 'attention80')\n",
    "get_BLEU(model, train, test)\n",
    "print('='*50)\n",
    "\n",
    "print('Epoch 90')\n",
    "model.load_weights(model_path + 'att90/' + 'attention90')\n",
    "get_BLEU(model, train, test)\n",
    "print('='*50)"
   ]
  },
  {
   "cell_type": "code",
   "execution_count": null,
   "metadata": {
    "colab": {
     "base_uri": "https://localhost:8080/"
    },
    "id": "UMeA6YqTUCvh",
    "outputId": "1d028d82-70fb-4496-9e66-d4b3d885ea46"
   },
   "outputs": [
    {
     "data": {
      "text/plain": [
       "<tensorflow.python.training.tracking.util.CheckpointLoadStatus at 0x7f42a8b4a4d0>"
      ]
     },
     "execution_count": 20,
     "metadata": {
      "tags": []
     },
     "output_type": "execute_result"
    }
   ],
   "source": [
    "model.load_weights(model_path + 'att60/' + 'attention60')"
   ]
  },
  {
   "cell_type": "markdown",
   "metadata": {
    "id": "tPqvca0TTzaW"
   },
   "source": [
    "Train"
   ]
  },
  {
   "cell_type": "code",
   "execution_count": null,
   "metadata": {
    "colab": {
     "base_uri": "https://localhost:8080/"
    },
    "id": "0kZ0TvO_T4cI",
    "outputId": "29467883-ed78-4775-ba98-586887373b19"
   },
   "outputs": [
    {
     "name": "stdout",
     "output_type": "stream",
     "text": [
      "Input Text: At the party , the member has variety job .\n",
      "Output Text: At the party , the members have a variety of jobs .\n",
      "Predicted Text: At the party , the members have a variety job .\n",
      "========================================================================================================================\n",
      "Input Text: Thank you NY .\n",
      "Output Text: Thank you , NY !\n",
      "Predicted Text: Thank you .\n",
      "========================================================================================================================\n",
      "Input Text: Few last days have been strange .\n",
      "Output Text: The last few days have been strange .\n",
      "Predicted Text: A few days have been a strange .\n",
      "========================================================================================================================\n",
      "Input Text: I 've started feeling lately that I have n't figured out what kind of relationships I 'm seeking for with people around me .\n",
      "Output Text: I 've started feeling lately that I have n't figured out what kind of relationships I 'm seeking with the people around me .\n",
      "Predicted Text: I 've started feeling lately that I have n't figured out what kind of relationships I 'm seeking with with people around me .\n",
      "========================================================================================================================\n",
      "Input Text: We also often listen to the CD which includes the conversation amongst native speakers .\n",
      "Output Text: We also often listened to the CD which includes conversation amongst native speakers .\n",
      "Predicted Text: We also often listen to the CD which includes the conversation amongst native speakers .\n",
      "========================================================================================================================\n"
     ]
    }
   ],
   "source": [
    "for i in range(len(train[:5])):\n",
    "    print(\"Input Text:\", train['input_text'].iloc[i])\n",
    "    print(\"Output Text:\", ' '.join(train['output_text_out'].iloc[i].split()[:-1]))\n",
    "    print(\"Predicted Text:\", ' '.join(predict(train['input_text'].iloc[i]).split()[:-1]))\n",
    "    print('='*120)"
   ]
  },
  {
   "cell_type": "markdown",
   "metadata": {
    "id": "xfdi0T3hYraI"
   },
   "source": [
    "Test"
   ]
  },
  {
   "cell_type": "code",
   "execution_count": null,
   "metadata": {
    "colab": {
     "base_uri": "https://localhost:8080/"
    },
    "id": "qT56tjoEU0ek",
    "outputId": "9ddc1682-abb6-4687-9508-ceb3dc269a3f"
   },
   "outputs": [
    {
     "name": "stdout",
     "output_type": "stream",
     "text": [
      "Input Text: Have you ever over the wall of school ?\n",
      "Output Text: Have you ever climbed over the wall at school ?\n",
      "Predicted Text: Have you ever over the wall of school ?\n",
      "====================================================================================================\n",
      "Input Text: It is so narrow that I have to keep my body very fit everytime .\n",
      "Output Text: It is so narrow that I have to keep my body very fit all the time .\n",
      "Predicted Text: It is so narrow because I have to keep my body very fast .\n",
      "====================================================================================================\n",
      "Input Text: You can check the maintenance is finished or not at twitter .\n",
      "Output Text: You can check whether the maintenance is finished or not on twitter .\n",
      "Predicted Text: You can check the maintenance is finished or not on twitter .\n",
      "====================================================================================================\n",
      "Input Text: Anyone who gets higher than  scores can pass it .\n",
      "Output Text: Anyone who gets higher than a , passes it or passes the exam .\n",
      "Predicted Text: Anyone who gets higher than I must pass it .\n",
      "====================================================================================================\n",
      "Input Text: I talked with Rie about our job , but it was a short time .\n",
      "Output Text: I talked with Rie about our job , but it was just for a short time .\n",
      "Predicted Text: I talked with her Chinese about job , but it was a short time .\n",
      "====================================================================================================\n"
     ]
    }
   ],
   "source": [
    "for i in range(len(test[:5])):\n",
    "    print(\"Input Text:\", test['input_text'].iloc[i])\n",
    "    print(\"Output Text:\", ' '.join(test['output_text_out'].iloc[i].split()[:-1]))\n",
    "    print(\"Predicted Text:\", ' '.join(predict(test['input_text'].iloc[i]).split()[:-1]))\n",
    "    print('='*100)"
   ]
  }
 ],
 "metadata": {
  "colab": {
   "collapsed_sections": [],
   "name": "4_3_Attention_1LSTM_&_Fasttext_Embed_(W).ipynb",
   "provenance": [],
   "toc_visible": true
  },
  "kernelspec": {
   "display_name": "Python 3",
   "language": "python",
   "name": "python3"
  },
  "language_info": {
   "codemirror_mode": {
    "name": "ipython",
    "version": 3
   },
   "file_extension": ".py",
   "mimetype": "text/x-python",
   "name": "python",
   "nbconvert_exporter": "python",
   "pygments_lexer": "ipython3",
   "version": "3.8.8"
  }
 },
 "nbformat": 4,
 "nbformat_minor": 1
}
