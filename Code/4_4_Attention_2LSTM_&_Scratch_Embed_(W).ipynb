{
 "cells": [
  {
   "cell_type": "markdown",
   "metadata": {
    "id": "mG_1reu7uM74"
   },
   "source": [
    "# Encoder-Decoder Model with Attention: 2 Layer LSTM & Scratch Embedding\n",
    "# (Word Level)"
   ]
  },
  {
   "cell_type": "markdown",
   "metadata": {
    "id": "q2-EJqakEV8z"
   },
   "source": [
    "## Loading Libraries"
   ]
  },
  {
   "cell_type": "code",
   "execution_count": null,
   "metadata": {
    "id": "C8c3NwDGZSdh"
   },
   "outputs": [],
   "source": [
    "import matplotlib.pyplot as plt\n",
    "import seaborn as sns\n",
    "sns.set_theme()\n",
    "import pandas as pd\n",
    "import re\n",
    "import datetime\n",
    "import numpy as np\n",
    "from tqdm import tqdm\n",
    "from sklearn.model_selection import train_test_split\n",
    "import nltk.translate.bleu_score as bleu\n",
    "import tensorflow as tf\n",
    "from tensorflow.keras.layers import Input, Softmax, RNN, Dense, Embedding, LSTM, Flatten, Activation \n",
    "from tensorflow.keras.models import Model\n",
    "from tensorflow.keras.preprocessing.text import Tokenizer\n",
    "from tensorflow.keras.preprocessing.sequence import pad_sequences\n",
    "from tensorflow.keras.callbacks import TensorBoard\n",
    "import matplotlib.ticker as ticker\n",
    "import warnings\n",
    "warnings.filterwarnings(\"ignore\")"
   ]
  },
  {
   "cell_type": "code",
   "execution_count": null,
   "metadata": {
    "colab": {
     "base_uri": "https://localhost:8080/"
    },
    "id": "VWejJV0H_sLd",
    "outputId": "87960ad2-7372-450f-bf6c-f182d2072ec3"
   },
   "outputs": [
    {
     "name": "stdout",
     "output_type": "stream",
     "text": [
      "Mounted at /content/drive\n"
     ]
    }
   ],
   "source": [
    "from google.colab import drive\n",
    "drive.mount('/content/drive')"
   ]
  },
  {
   "cell_type": "markdown",
   "metadata": {
    "id": "4fnNqtyMCwm9"
   },
   "source": [
    "## Loading Dataset"
   ]
  },
  {
   "cell_type": "code",
   "execution_count": null,
   "metadata": {
    "id": "ZjnALK_l5Vpe"
   },
   "outputs": [],
   "source": [
    "data_path = '/content/drive/MyDrive/CS2/2.Datasets/'\n",
    "model_path = '/content/drive/MyDrive/CS2/3.Models/4_4_Attention2-Word-Scratch/'"
   ]
  },
  {
   "cell_type": "code",
   "execution_count": null,
   "metadata": {
    "colab": {
     "base_uri": "https://localhost:8080/",
     "height": 216
    },
    "id": "8IYsmHjRufNN",
    "outputId": "78ed485b-1ff9-4bd4-8182-d9d342601f50"
   },
   "outputs": [
    {
     "name": "stdout",
     "output_type": "stream",
     "text": [
      "(101717, 2)\n"
     ]
    },
    {
     "data": {
      "text/html": [
       "<div>\n",
       "<style scoped>\n",
       "    .dataframe tbody tr th:only-of-type {\n",
       "        vertical-align: middle;\n",
       "    }\n",
       "\n",
       "    .dataframe tbody tr th {\n",
       "        vertical-align: top;\n",
       "    }\n",
       "\n",
       "    .dataframe thead th {\n",
       "        text-align: right;\n",
       "    }\n",
       "</style>\n",
       "<table border=\"1\" class=\"dataframe\">\n",
       "  <thead>\n",
       "    <tr style=\"text-align: right;\">\n",
       "      <th></th>\n",
       "      <th>input_text</th>\n",
       "      <th>output_text</th>\n",
       "    </tr>\n",
       "  </thead>\n",
       "  <tbody>\n",
       "    <tr>\n",
       "      <th>0</th>\n",
       "      <td>Ofcouse , I love cheap fashion , fast fashion ...</td>\n",
       "      <td>Of course , I love cheap , fast fashion like f...</td>\n",
       "    </tr>\n",
       "    <tr>\n",
       "      <th>1</th>\n",
       "      <td>If he want to listen to music that I do n't li...</td>\n",
       "      <td>If he wants to listen to music that I do n't l...</td>\n",
       "    </tr>\n",
       "    <tr>\n",
       "      <th>2</th>\n",
       "      <td>This happened because of the cultural differen...</td>\n",
       "      <td>This happened because of the cultural differen...</td>\n",
       "    </tr>\n",
       "    <tr>\n",
       "      <th>3</th>\n",
       "      <td>I 'm gon na earn much money to study abroad .</td>\n",
       "      <td>I 'm gon na earn enough money to study abroad .</td>\n",
       "    </tr>\n",
       "    <tr>\n",
       "      <th>4</th>\n",
       "      <td>It is not difficult for me but answer phones a...</td>\n",
       "      <td>It is not difficult for me but answering the p...</td>\n",
       "    </tr>\n",
       "  </tbody>\n",
       "</table>\n",
       "</div>"
      ],
      "text/plain": [
       "                                          input_text                                        output_text\n",
       "0  Ofcouse , I love cheap fashion , fast fashion ...  Of course , I love cheap , fast fashion like f...\n",
       "1  If he want to listen to music that I do n't li...  If he wants to listen to music that I do n't l...\n",
       "2  This happened because of the cultural differen...  This happened because of the cultural differen...\n",
       "3      I 'm gon na earn much money to study abroad .    I 'm gon na earn enough money to study abroad .\n",
       "4  It is not difficult for me but answer phones a...  It is not difficult for me but answering the p..."
      ]
     },
     "execution_count": 4,
     "metadata": {
      "tags": []
     },
     "output_type": "execute_result"
    }
   ],
   "source": [
    "data = pd.read_csv(data_path + 'final_data.csv')\n",
    "print(data.shape)\n",
    "data.head()"
   ]
  },
  {
   "cell_type": "markdown",
   "metadata": {
    "id": "NCL5fOC6C28O"
   },
   "source": [
    "## Preprocess Data"
   ]
  },
  {
   "cell_type": "code",
   "execution_count": null,
   "metadata": {
    "id": "W1ZycZ1xT_E1"
   },
   "outputs": [],
   "source": [
    "def clean(text):\n",
    "    text = re.sub('<.*>', '', text)\n",
    "    text = re.sub('\\(.*\\)', '', text)\n",
    "    text = re.sub('\\[.*\\]', '', text)\n",
    "    text = re.sub('{.*}', '', text)\n",
    "    text = re.sub(\"[-+@#^/|*(){}$~`<>=_]\",\"\",text)\n",
    "    text = text.replace(\"\\\\\",\"\")\n",
    "    text = re.sub(\"\\[\",\"\",text)\n",
    "    text = re.sub(\"\\]\",\"\",text)\n",
    "    text = re.sub(\"[0-9]\",\"\",text)\n",
    "    return text\n",
    "\n",
    "data['input_text'] = data['input_text'].apply(lambda x: clean(x))\n",
    "data['output_text'] = data['output_text'].apply(lambda x: clean(x))"
   ]
  },
  {
   "cell_type": "code",
   "execution_count": null,
   "metadata": {
    "id": "9QqElB_nKZos"
   },
   "outputs": [],
   "source": [
    "def preprocessing(data):\n",
    "   \n",
    "    data['input_text_length'] = data['input_text'].str.split().apply(len)\n",
    "    data['output_text_length'] = data['output_text'].str.split().apply(len)\n",
    "\n",
    "    data = data[data['input_text_length'] < 25]\n",
    "    data = data[data['output_text_length'] < 25]\n",
    "\n",
    "    data['output_text_in'] = '<start> ' + data['output_text'].astype(str)\n",
    "    data['output_text_out'] = data['output_text'].astype(str) + ' <end>'\n",
    "\n",
    "    data = data.drop(['input_text_length','output_text_length','output_text'], axis=1)\n",
    "    return data"
   ]
  },
  {
   "cell_type": "code",
   "execution_count": null,
   "metadata": {
    "colab": {
     "base_uri": "https://localhost:8080/",
     "height": 216
    },
    "id": "s4yTTU8cD93w",
    "outputId": "0b164f5a-b89d-407c-f5bc-fcdd89625815"
   },
   "outputs": [
    {
     "name": "stdout",
     "output_type": "stream",
     "text": [
      "Shape of Dataset: (93503, 3)\n"
     ]
    },
    {
     "data": {
      "text/html": [
       "<div>\n",
       "<style scoped>\n",
       "    .dataframe tbody tr th:only-of-type {\n",
       "        vertical-align: middle;\n",
       "    }\n",
       "\n",
       "    .dataframe tbody tr th {\n",
       "        vertical-align: top;\n",
       "    }\n",
       "\n",
       "    .dataframe thead th {\n",
       "        text-align: right;\n",
       "    }\n",
       "</style>\n",
       "<table border=\"1\" class=\"dataframe\">\n",
       "  <thead>\n",
       "    <tr style=\"text-align: right;\">\n",
       "      <th></th>\n",
       "      <th>input_text</th>\n",
       "      <th>output_text_in</th>\n",
       "      <th>output_text_out</th>\n",
       "    </tr>\n",
       "  </thead>\n",
       "  <tbody>\n",
       "    <tr>\n",
       "      <th>0</th>\n",
       "      <td>Ofcouse , I love cheap fashion , fast fashion ...</td>\n",
       "      <td>&lt;start&gt; Of course , I love cheap , fast fashio...</td>\n",
       "      <td>Of course , I love cheap , fast fashion like f...</td>\n",
       "    </tr>\n",
       "    <tr>\n",
       "      <th>1</th>\n",
       "      <td>If he want to listen to music that I do n't li...</td>\n",
       "      <td>&lt;start&gt; If he wants to listen to music that I ...</td>\n",
       "      <td>If he wants to listen to music that I do n't l...</td>\n",
       "    </tr>\n",
       "    <tr>\n",
       "      <th>2</th>\n",
       "      <td>This happened because of the cultural differen...</td>\n",
       "      <td>&lt;start&gt; This happened because of the cultural ...</td>\n",
       "      <td>This happened because of the cultural differen...</td>\n",
       "    </tr>\n",
       "    <tr>\n",
       "      <th>3</th>\n",
       "      <td>I 'm gon na earn much money to study abroad .</td>\n",
       "      <td>&lt;start&gt; I 'm gon na earn enough money to study...</td>\n",
       "      <td>I 'm gon na earn enough money to study abroad ...</td>\n",
       "    </tr>\n",
       "    <tr>\n",
       "      <th>4</th>\n",
       "      <td>It is not difficult for me but answer phones a...</td>\n",
       "      <td>&lt;start&gt; It is not difficult for me but answeri...</td>\n",
       "      <td>It is not difficult for me but answering the p...</td>\n",
       "    </tr>\n",
       "  </tbody>\n",
       "</table>\n",
       "</div>"
      ],
      "text/plain": [
       "                                          input_text  ...                                    output_text_out\n",
       "0  Ofcouse , I love cheap fashion , fast fashion ...  ...  Of course , I love cheap , fast fashion like f...\n",
       "1  If he want to listen to music that I do n't li...  ...  If he wants to listen to music that I do n't l...\n",
       "2  This happened because of the cultural differen...  ...  This happened because of the cultural differen...\n",
       "3      I 'm gon na earn much money to study abroad .  ...  I 'm gon na earn enough money to study abroad ...\n",
       "4  It is not difficult for me but answer phones a...  ...  It is not difficult for me but answering the p...\n",
       "\n",
       "[5 rows x 3 columns]"
      ]
     },
     "execution_count": 7,
     "metadata": {
      "tags": []
     },
     "output_type": "execute_result"
    }
   ],
   "source": [
    "data = preprocessing(data)\n",
    "\n",
    "data.iloc[0]['output_text_in'] = str(data.iloc[0]['output_text_in'])+' <end>'\n",
    "data.iloc[0]['output_text_out'] = str(data.iloc[0]['output_text_out'])+' <end>'\n",
    "\n",
    "print('Shape of Dataset:', data.shape)\n",
    "data.head()"
   ]
  },
  {
   "cell_type": "markdown",
   "metadata": {
    "id": "Dx2iV7_sC_aJ"
   },
   "source": [
    "## Train Test Split"
   ]
  },
  {
   "cell_type": "code",
   "execution_count": null,
   "metadata": {
    "colab": {
     "base_uri": "https://localhost:8080/"
    },
    "id": "nwq2jKcGZzt-",
    "outputId": "f5ad2dc1-9493-4870-ccac-dca239b4cf26"
   },
   "outputs": [
    {
     "name": "stdout",
     "output_type": "stream",
     "text": [
      "Shape of Train Data: (84152, 3)\n",
      "Shape of Test Data: (9351, 3)\n"
     ]
    }
   ],
   "source": [
    "train, test = train_test_split(data, test_size=0.1, random_state=42)\n",
    "print('Shape of Train Data:', train.shape)\n",
    "print('Shape of Test Data:', test.shape)"
   ]
  },
  {
   "cell_type": "markdown",
   "metadata": {
    "id": "uiR00g4hDEtl"
   },
   "source": [
    "## Tokenization"
   ]
  },
  {
   "cell_type": "code",
   "execution_count": null,
   "metadata": {
    "colab": {
     "base_uri": "https://localhost:8080/"
    },
    "id": "cEqQKioDaFS6",
    "outputId": "b97fb32f-d058-4e3f-9e82-a9eec15b39e1"
   },
   "outputs": [
    {
     "name": "stdout",
     "output_type": "stream",
     "text": [
      "Input Vocab Size: 35510\n",
      "Output Vocab Size: 29350\n"
     ]
    }
   ],
   "source": [
    "tokenizer_i = Tokenizer(filters=\"\", char_level=False, lower=False)\n",
    "tokenizer_o = Tokenizer(filters=\"\", char_level=False, lower=False)\n",
    "\n",
    "tokenizer_i.fit_on_texts(train['input_text'].values)\n",
    "tokenizer_o.fit_on_texts(train['output_text_in'].values)\n",
    "\n",
    "vocab_size_input = len(tokenizer_i.word_index.keys())\n",
    "print('Input Vocab Size:', vocab_size_input)\n",
    "\n",
    "vocab_size_output = len(tokenizer_o.word_index.keys())\n",
    "print('Output Vocab Size:', vocab_size_output)"
   ]
  },
  {
   "cell_type": "markdown",
   "metadata": {
    "id": "JfknU1OTDyDe"
   },
   "source": [
    "## Data Pipeline"
   ]
  },
  {
   "cell_type": "code",
   "execution_count": null,
   "metadata": {
    "id": "MLYD6-FR7iZ3"
   },
   "outputs": [],
   "source": [
    "class Dataset:\n",
    "    def __init__(self, data, tokenizer_i, tokenizer_o, max_len_enc, max_len_dec):\n",
    "        self.encoder_inps = data['input_text'].values\n",
    "        self.decoder_inps = data['output_text_in'].values\n",
    "        self.decoder_outs = data['output_text_out'].values\n",
    "        self.tokenizer_o = tokenizer_o\n",
    "        self.tokenizer_i = tokenizer_i\n",
    "        self.max_len_enc = max_len_enc\n",
    "        self.max_len_dec = max_len_dec\n",
    "\n",
    "\n",
    "    def __getitem__(self, i):\n",
    "        self.encoder_seq = self.tokenizer_i.texts_to_sequences([self.encoder_inps[i]]) \n",
    "        self.decoder_inp_seq = self.tokenizer_o.texts_to_sequences([self.decoder_inps[i]])\n",
    "        self.decoder_out_seq = self.tokenizer_o.texts_to_sequences([self.decoder_outs[i]])\n",
    "\n",
    "        self.encoder_seq = pad_sequences(self.encoder_seq, maxlen=self.max_len_enc, dtype='int32', padding='post')\n",
    "        self.decoder_inp_seq = pad_sequences(self.decoder_inp_seq, maxlen=self.max_len_dec, dtype='int32', padding='post')\n",
    "        self.decoder_out_seq = pad_sequences(self.decoder_out_seq, maxlen=self.max_len_dec, dtype='int32', padding='post')\n",
    "        return self.encoder_seq, self.decoder_inp_seq, self.decoder_out_seq\n",
    "\n",
    "    def __len__(self):\n",
    "        return len(self.encoder_inps)\n",
    "\n",
    "    \n",
    "class Dataloder(tf.keras.utils.Sequence):    \n",
    "    def __init__(self, dataset, batch_size=1):\n",
    "        self.dataset = dataset\n",
    "        self.batch_size = batch_size\n",
    "        self.indexes = np.arange(len(self.dataset.encoder_inps))\n",
    "\n",
    "\n",
    "    def __getitem__(self, i):\n",
    "        start = i * self.batch_size\n",
    "        stop = (i + 1) * self.batch_size\n",
    "        data = []\n",
    "        for j in range(start, stop):\n",
    "            data.append(self.dataset[j])\n",
    "\n",
    "        batch = [np.squeeze(np.stack(samples, axis=1), axis=0) for samples in zip(*data)]\n",
    "        return tuple([[batch[0],batch[1]],batch[2]])\n",
    "\n",
    "    def __len__(self): \n",
    "        return len(self.indexes) // self.batch_size\n",
    "\n",
    "    def on_epoch_end(self):\n",
    "        self.indexes = np.random.permutation(self.indexes)"
   ]
  },
  {
   "cell_type": "code",
   "execution_count": null,
   "metadata": {
    "colab": {
     "base_uri": "https://localhost:8080/"
    },
    "id": "yYS7cpfD7n3S",
    "outputId": "5eea8972-40ca-48e0-eda4-785e7d533e30"
   },
   "outputs": [
    {
     "name": "stdout",
     "output_type": "stream",
     "text": [
      "Train Dataloader: (512, 25) (512, 25) (512, 25)\n",
      "Test Dataloader: (512, 25) (512, 25) (512, 25)\n"
     ]
    }
   ],
   "source": [
    "train_dataset = Dataset(train, tokenizer_i, tokenizer_o, 25, 25)\n",
    "test_dataset  = Dataset(test, tokenizer_i, tokenizer_o, 25, 25)\n",
    "\n",
    "train_dataloader = Dataloder(train_dataset, batch_size=512)\n",
    "test_dataloader = Dataloder(test_dataset, batch_size=512)\n",
    "\n",
    "print('Train Dataloader:', train_dataloader[0][0][0].shape, train_dataloader[0][0][1].shape, train_dataloader[0][1].shape)\n",
    "print('Test Dataloader:', test_dataloader[0][0][0].shape, test_dataloader[0][0][1].shape, test_dataloader[0][1].shape)"
   ]
  },
  {
   "cell_type": "markdown",
   "metadata": {
    "id": "1RHXoozdDrug"
   },
   "source": [
    "## Model Building"
   ]
  },
  {
   "cell_type": "code",
   "execution_count": null,
   "metadata": {
    "id": "aCH8qtWgDFcz"
   },
   "outputs": [],
   "source": [
    "class Encoder(tf.keras.Model):\n",
    "    '''\n",
    "    Encoder model -- That takes a input sequence and returns encoder-outputs,encoder_final_state_h,encoder_final_state_c\n",
    "    '''\n",
    "    def __init__(self,in_vocab_size,embedding_dim,enc_units,input_length):\n",
    "        super().__init__()\n",
    "        self.in_vocab_size = in_vocab_size\n",
    "        self.embedding_dim = embedding_dim\n",
    "        self.input_length = input_length\n",
    "        self.enc_units = enc_units\n",
    "\n",
    "    def build(self, input_shape):\n",
    "        self.embedding = Embedding(input_dim=self.in_vocab_size, output_dim=self.embedding_dim, input_length=self.input_length, mask_zero=True, name=\"Encoder_Embedding\")\n",
    "        self.lstm_1 = LSTM(self.enc_units, return_state=True, return_sequences=True, name=\"Encoder_LSTM_1\")\n",
    "        self.lstm_2 = LSTM(self.enc_units, return_state=True, return_sequences=True, name=\"Encoder_LSTM_2\")\n",
    "\n",
    "        \n",
    "    def call(self, input_sentences, training=True):\n",
    "        input_embed = self.embedding(input_sentences)\n",
    "        encoder_output, encoder_state_h, encoder_state_c = self.lstm_1(input_embed)\n",
    "        encoder_output, encoder_state_h, encoder_state_c = self.lstm_2(encoder_output)\n",
    "\n",
    "        return encoder_output, encoder_state_h, encoder_state_c\n",
    "\n",
    "#-----------------------------------------------------------------------------------------------------------------------------------\n",
    "class Attention(tf.keras.layers.Layer):\n",
    "  '''\n",
    "  Class the calculates score based on the scoring_function using Bahdanu attention mechanism.\n",
    "  '''\n",
    "  def __init__(self,scoring_function, att_units):\n",
    "    super().__init__()\n",
    "    self.scoring_function = scoring_function\n",
    "    self.att_units = att_units\n",
    "\n",
    "    if self.scoring_function == 'dot':\n",
    "      pass\n",
    "\n",
    "    if scoring_function == 'general':\n",
    "      self.W = Dense(self.att_units)\n",
    "      \n",
    "    elif scoring_function == 'concat':\n",
    "      self.W1 = Dense(self.att_units)\n",
    "      self.W2 = Dense(self.att_units)\n",
    "      self.Va = Dense(1)\n",
    "  \n",
    "  \n",
    "  def call(self,decoder_hidden_state,encoder_output):\n",
    "    if self.scoring_function == 'dot':\n",
    "        decoder_hidden_state = tf.expand_dims(decoder_hidden_state, 2)\n",
    "        score = tf.matmul(encoder_output, decoder_hidden_state)\n",
    "\n",
    "    elif self.scoring_function == 'general':\n",
    "        decoder_hidden_state = tf.expand_dims(decoder_hidden_state, 2)\n",
    "        score = tf.matmul(self.W(encoder_output), decoder_hidden_state)\n",
    "\n",
    "    elif self.scoring_function == 'concat':\n",
    "        decoder_hidden_state = tf.expand_dims(decoder_hidden_state, 1)\n",
    "        score = self.Va(tf.nn.tanh(self.W1(decoder_hidden_state) + self.W2(encoder_output)))\n",
    "\n",
    "    attention_weight = tf.nn.softmax(score, axis=1)\n",
    "    context_vector = tf.reduce_sum(attention_weight * encoder_output, axis=1)\n",
    "    return context_vector, attention_weight\n",
    "\n",
    "#-----------------------------------------------------------------------------------------------------------------------------------\n",
    "class One_Step_Decoder(tf.keras.Model):\n",
    "  def __init__(self, tar_vocab_size, embedding_dim, input_length, dec_units, score_fun, att_units):\n",
    "      super().__init__()\n",
    "      self.tar_vocab_size = tar_vocab_size\n",
    "      self.embedding_dim = embedding_dim\n",
    "      self.input_length = input_length\n",
    "      self.dec_units= dec_units\n",
    "      self.score_fun = score_fun\n",
    "      self.att_units = att_units\n",
    "\n",
    "  def build(self, input_shape):\n",
    "        self.embedding = Embedding(input_dim=self.tar_vocab_size, output_dim=self.embedding_dim, input_length=self.input_length, mask_zero=True, name=\"Decoder_Embedding\")\n",
    "        self.lstm = LSTM(self.dec_units, return_state=True, return_sequences=True, name=\"Decoder_LSTM\")\n",
    "        self.dense = Dense(self.tar_vocab_size)\n",
    "        self.attention = Attention(self.score_fun, self.att_units)\n",
    "\n",
    "  def call(self,input_to_decoder, encoder_output, state_h, state_c):\n",
    "    \n",
    "    target_embedd = self.embedding(input_to_decoder)\n",
    "\n",
    "    context_vector, attention_weights = self.attention(state_h, encoder_output)\n",
    "    context_vector = tf.expand_dims(context_vector, 1)\n",
    "\n",
    "    decoder_input = tf.concat([target_embedd, context_vector], 2)\n",
    "\n",
    "    decoder_output, decoder_final_state_h, decoder_final_state_c = self.lstm(decoder_input, initial_state=[state_h,state_c])\n",
    "\n",
    "    output = self.dense(decoder_output)\n",
    "\n",
    "    return tf.squeeze(output), decoder_final_state_h, decoder_final_state_c, attention_weights, tf.squeeze(context_vector)\n",
    "\n",
    "#-----------------------------------------------------------------------------------------------------------------------------------\n",
    "class Decoder(tf.keras.Model):\n",
    "    def __init__(self,out_vocab_size, embedding_dim, input_length, dec_units ,score_fun, att_units):\n",
    "      super(Decoder, self).__init__()\n",
    "      self.out_vocab_size = out_vocab_size\n",
    "      self.embedding_dim = embedding_dim\n",
    "      self.input_length = input_length\n",
    "      self.dec_units = dec_units\n",
    "      self.score_fun = score_fun\n",
    "      self.att_units = att_units\n",
    "      self.one_step_decoder = One_Step_Decoder(self.out_vocab_size, self.embedding_dim, self.input_length, self.dec_units, self.score_fun, self.att_units)\n",
    "\n",
    "   \n",
    "    def call(self, input_to_decoder, encoder_output_state, decoder_hidden_state, decoder_cell_state):\n",
    "      all_outputs = tf.TensorArray(tf.float32, size=tf.shape(input_to_decoder)[1], name=\"output_arrays\")\n",
    "\n",
    "      for timestep in range(tf.shape(input_to_decoder)[1]):\n",
    "        output, decoder_hidden_state, decoder_cell_state, attention_weights, context_vector = self.one_step_decoder(input_to_decoder[:,timestep:timestep+1], encoder_output_state, decoder_hidden_state, decoder_cell_state)\n",
    "        all_outputs = all_outputs.write(timestep, output)\n",
    "\n",
    "      all_outputs = tf.transpose(all_outputs.stack(), [1, 0, 2])\n",
    "      return all_outputs\n",
    "\n",
    "#-----------------------------------------------------------------------------------------------------------------------------------\n",
    "class Encoder_Decoder(tf.keras.Model):\n",
    "  def __init__(self, encoder_inputs_length, decoder_inputs_length, input_vocab_size, output_vocab_size, embedding_dim, enc_units, dec_units, att_units, batch_size, score_fun, name='Encoder-Decoder-Attention'):\n",
    "    super().__init__(name=name)\n",
    "    self.encoder = Encoder(in_vocab_size=input_vocab_size+1, embedding_dim=embedding_dim, enc_units=enc_units, input_length=encoder_inputs_length)\n",
    "    self.decoder = Decoder(out_vocab_size=output_vocab_size+1, embedding_dim=embedding_dim, input_length=decoder_inputs_length, dec_units=dec_units, score_fun=score_fun, att_units=att_units)\n",
    "    self.batch_size = batch_size\n",
    "\n",
    "  def call(self,data):\n",
    "\n",
    "    input, output = data[0], data[1]\n",
    "\n",
    "    encoder_output, encoder_h, encoder_c = self.encoder(input)\n",
    "    decoder_output = self.decoder(output, encoder_output, encoder_h, encoder_c)\n",
    "    return decoder_output"
   ]
  },
  {
   "cell_type": "markdown",
   "metadata": {
    "id": "ioBubCAmEHWN"
   },
   "source": [
    "## Custom Loss Function"
   ]
  },
  {
   "cell_type": "code",
   "execution_count": null,
   "metadata": {
    "id": "QY_3izrXMs8y"
   },
   "outputs": [],
   "source": [
    "def loss_function(real, pred):\n",
    "    mask = tf.math.logical_not(tf.math.equal(real, 0))\n",
    "    loss_object = tf.keras.losses.SparseCategoricalCrossentropy(from_logits=True, reduction='none')\n",
    "    loss_ = loss_object(real, pred)\n",
    "    mask = tf.cast(mask, dtype=loss_.dtype)\n",
    "    loss_ *= mask\n",
    "    return tf.reduce_mean(loss_)"
   ]
  },
  {
   "cell_type": "markdown",
   "metadata": {
    "id": "11PwkigioLFN"
   },
   "source": [
    "## Model Training"
   ]
  },
  {
   "cell_type": "code",
   "execution_count": null,
   "metadata": {
    "id": "rO1R0QrVn3t3"
   },
   "outputs": [],
   "source": [
    "lr = tf.keras.callbacks.ReduceLROnPlateau(monitor='val_loss', factor=0.99, patience=100)\n",
    "es = tf.keras.callbacks.EarlyStopping(patience=3, verbose=1, min_delta=0.001, monitor='val_loss', mode='min', restore_best_weights=True)\n",
    "\n",
    "train_steps = train.shape[0]//512\n",
    "valid_steps = test.shape[0]//512\n",
    "\n",
    "model  = Encoder_Decoder(encoder_inputs_length=25,\n",
    "                          decoder_inputs_length=25,\n",
    "                          input_vocab_size=vocab_size_input,\n",
    "                          output_vocab_size=vocab_size_output, \n",
    "                          embedding_dim=300, \n",
    "                          enc_units=256, \n",
    "                          dec_units=256, \n",
    "                          att_units=256,\n",
    "                          batch_size=512,\n",
    "                          score_fun='dot')\n",
    "\n",
    "model.compile(optimizer=tf.keras.optimizers.Adam(),loss=loss_function)"
   ]
  },
  {
   "cell_type": "markdown",
   "metadata": {
    "id": "84Bu7-RWRT9N"
   },
   "source": [
    "20 Epoch"
   ]
  },
  {
   "cell_type": "code",
   "execution_count": null,
   "metadata": {
    "colab": {
     "base_uri": "https://localhost:8080/"
    },
    "id": "1bXjrmvoeviz",
    "outputId": "8e123cd6-0022-4880-d4d5-7dcb45030702"
   },
   "outputs": [
    {
     "name": "stdout",
     "output_type": "stream",
     "text": [
      "Epoch 1/20\n",
      "164/164 [==============================] - 293s 2s/step - loss: 3.2583 - val_loss: 2.9571\n",
      "Epoch 2/20\n",
      "164/164 [==============================] - 278s 2s/step - loss: 2.9292 - val_loss: 2.8398\n",
      "Epoch 3/20\n",
      "164/164 [==============================] - 278s 2s/step - loss: 2.7540 - val_loss: 2.6349\n",
      "Epoch 4/20\n",
      "164/164 [==============================] - 278s 2s/step - loss: 2.5413 - val_loss: 2.4179\n",
      "Epoch 5/20\n",
      "164/164 [==============================] - 278s 2s/step - loss: 2.3505 - val_loss: 2.2486\n",
      "Epoch 6/20\n",
      "164/164 [==============================] - 277s 2s/step - loss: 2.1936 - val_loss: 2.0944\n",
      "Epoch 7/20\n",
      "164/164 [==============================] - 275s 2s/step - loss: 2.0482 - val_loss: 1.9547\n",
      "Epoch 8/20\n",
      "164/164 [==============================] - 275s 2s/step - loss: 1.9095 - val_loss: 1.8092\n",
      "Epoch 9/20\n",
      "164/164 [==============================] - 276s 2s/step - loss: 1.7512 - val_loss: 1.6387\n",
      "Epoch 10/20\n",
      "164/164 [==============================] - 275s 2s/step - loss: 1.5865 - val_loss: 1.4844\n",
      "Epoch 11/20\n",
      "164/164 [==============================] - 276s 2s/step - loss: 1.4408 - val_loss: 1.3446\n",
      "Epoch 12/20\n",
      "164/164 [==============================] - 276s 2s/step - loss: 1.3214 - val_loss: 1.2343\n",
      "Epoch 13/20\n",
      "164/164 [==============================] - 276s 2s/step - loss: 1.2209 - val_loss: 1.1536\n",
      "Epoch 14/20\n",
      "164/164 [==============================] - 276s 2s/step - loss: 1.1433 - val_loss: 1.0750\n",
      "Epoch 15/20\n",
      "164/164 [==============================] - 276s 2s/step - loss: 1.0584 - val_loss: 0.9911\n",
      "Epoch 16/20\n",
      "164/164 [==============================] - 275s 2s/step - loss: 0.9925 - val_loss: 0.9320\n",
      "Epoch 17/20\n",
      "164/164 [==============================] - 276s 2s/step - loss: 0.9270 - val_loss: 0.8697\n",
      "Epoch 18/20\n",
      "164/164 [==============================] - 275s 2s/step - loss: 0.8736 - val_loss: 0.8536\n",
      "Epoch 19/20\n",
      "164/164 [==============================] - 275s 2s/step - loss: 0.8368 - val_loss: 0.7771\n",
      "Epoch 20/20\n",
      "164/164 [==============================] - 276s 2s/step - loss: 0.7851 - val_loss: 0.7358\n"
     ]
    }
   ],
   "source": [
    "with tf.device('/device:GPU:0'):\n",
    "    history20 = model.fit_generator(train_dataloader, steps_per_epoch=train_steps, epochs=20, validation_data=train_dataloader, validation_steps=train_steps, callbacks=[lr,es])"
   ]
  },
  {
   "cell_type": "code",
   "execution_count": null,
   "metadata": {
    "id": "1whLmfaO01_c"
   },
   "outputs": [],
   "source": [
    "model.save_weights(model_path + 'att20/' + 'attention20', save_format='tf') "
   ]
  },
  {
   "cell_type": "code",
   "execution_count": null,
   "metadata": {
    "colab": {
     "base_uri": "https://localhost:8080/",
     "height": 301
    },
    "id": "Y8CO-C9A032c",
    "outputId": "756dc606-47e2-4bec-d562-23d42998a367"
   },
   "outputs": [
    {
     "data": {
      "image/png": "[encoded data removed]",
      "text/plain": [
       "<Figure size 432x288 with 1 Axes>"
      ]
     },
     "metadata": {
      "needs_background": "light",
      "tags": []
     },
     "output_type": "display_data"
    }
   ],
   "source": [
    "plt.plot(history20.history['loss'])\n",
    "plt.plot(history20.history['val_loss'])\n",
    "plt.title('model loss')\n",
    "plt.ylabel('loss')\n",
    "plt.xlabel('epoch')\n",
    "plt.legend(['train', 'test'], loc='upper right')\n",
    "plt.show()"
   ]
  },
  {
   "cell_type": "markdown",
   "metadata": {
    "id": "Ywtillxu09sw"
   },
   "source": [
    "40 Epoch"
   ]
  },
  {
   "cell_type": "code",
   "execution_count": null,
   "metadata": {
    "colab": {
     "base_uri": "https://localhost:8080/"
    },
    "id": "oHHrcmWz09OM",
    "outputId": "ba01d6bb-abdc-4f01-b521-cefbb4ac0bd2"
   },
   "outputs": [
    {
     "name": "stdout",
     "output_type": "stream",
     "text": [
      "Epoch 1/20\n",
      "164/164 [==============================] - 276s 2s/step - loss: 0.7374 - val_loss: 0.6919\n",
      "Epoch 2/20\n",
      "164/164 [==============================] - 275s 2s/step - loss: 0.7095 - val_loss: 0.6793\n",
      "Epoch 3/20\n",
      "164/164 [==============================] - 275s 2s/step - loss: 0.6693 - val_loss: 0.6245\n",
      "Epoch 4/20\n",
      "164/164 [==============================] - 274s 2s/step - loss: 0.6301 - val_loss: 0.5915\n",
      "Epoch 5/20\n",
      "164/164 [==============================] - 293s 2s/step - loss: 0.6181 - val_loss: 0.6028\n",
      "Epoch 6/20\n",
      "164/164 [==============================] - 275s 2s/step - loss: 0.5870 - val_loss: 0.5448\n",
      "Epoch 7/20\n",
      "164/164 [==============================] - 275s 2s/step - loss: 0.5614 - val_loss: 0.5208\n",
      "Epoch 8/20\n",
      "164/164 [==============================] - 275s 2s/step - loss: 0.5252 - val_loss: 0.4943\n",
      "Epoch 9/20\n",
      "164/164 [==============================] - 274s 2s/step - loss: 0.5019 - val_loss: 0.4814\n",
      "Epoch 10/20\n",
      "164/164 [==============================] - 275s 2s/step - loss: 0.4890 - val_loss: 0.4657\n",
      "Epoch 11/20\n",
      "164/164 [==============================] - 275s 2s/step - loss: 0.4665 - val_loss: 0.4382\n",
      "Epoch 12/20\n",
      "164/164 [==============================] - 275s 2s/step - loss: 0.4483 - val_loss: 0.4213\n",
      "Epoch 13/20\n",
      "164/164 [==============================] - 275s 2s/step - loss: 0.4290 - val_loss: 0.4049\n",
      "Epoch 14/20\n",
      "164/164 [==============================] - 275s 2s/step - loss: 0.4591 - val_loss: 0.4423\n",
      "Epoch 15/20\n",
      "164/164 [==============================] - 275s 2s/step - loss: 0.4236 - val_loss: 0.3920\n",
      "Epoch 16/20\n",
      "164/164 [==============================] - 274s 2s/step - loss: 0.3959 - val_loss: 0.3744\n",
      "Epoch 17/20\n",
      "164/164 [==============================] - 274s 2s/step - loss: 0.3824 - val_loss: 0.3833\n",
      "Epoch 18/20\n",
      "164/164 [==============================] - 275s 2s/step - loss: 0.3739 - val_loss: 0.3512\n",
      "Epoch 19/20\n",
      "164/164 [==============================] - 275s 2s/step - loss: 0.3581 - val_loss: 0.3375\n",
      "Epoch 20/20\n",
      "164/164 [==============================] - 275s 2s/step - loss: 0.3498 - val_loss: 0.3363\n"
     ]
    }
   ],
   "source": [
    "with tf.device('/device:GPU:0'):\n",
    "    history40 = model.fit_generator(train_dataloader, steps_per_epoch=train_steps, epochs=20, validation_data=train_dataloader, validation_steps=train_steps, callbacks=[lr,es])"
   ]
  },
  {
   "cell_type": "code",
   "execution_count": null,
   "metadata": {
    "id": "GQ7fAhM17hx2"
   },
   "outputs": [],
   "source": [
    "model.save_weights(model_path + 'att40/' + 'attention40', save_format='tf') "
   ]
  },
  {
   "cell_type": "code",
   "execution_count": null,
   "metadata": {
    "colab": {
     "base_uri": "https://localhost:8080/",
     "height": 301
    },
    "id": "HfutJC3DXqId",
    "outputId": "abea81fe-ad1a-4a77-ec90-a4c1b3cc7808"
   },
   "outputs": [
    {
     "data": {
      "image/png": "[encoded data removed]",
      "text/plain": [
       "<Figure size 432x288 with 1 Axes>"
      ]
     },
     "metadata": {
      "needs_background": "light",
      "tags": []
     },
     "output_type": "display_data"
    }
   ],
   "source": [
    "plt.plot(history40.history['loss'])\n",
    "plt.plot(history40.history['val_loss'])\n",
    "plt.title('model loss')\n",
    "plt.ylabel('loss')\n",
    "plt.xlabel('epoch')\n",
    "plt.legend(['train', 'test'], loc='upper right')\n",
    "plt.show()"
   ]
  },
  {
   "cell_type": "code",
   "execution_count": null,
   "metadata": {
    "colab": {
     "base_uri": "https://localhost:8080/"
    },
    "id": "ElR2P237InDo",
    "outputId": "f2606beb-d084-4eff-ead5-552e4308df7e"
   },
   "outputs": [
    {
     "name": "stdout",
     "output_type": "stream",
     "text": [
      "Model: \"Encoder-Decoder-Attention\"\n",
      "_________________________________________________________________\n",
      "Layer (type)                 Output Shape              Param #   \n",
      "=================================================================\n",
      "encoder_6 (Encoder)          multiple                  11748980  \n",
      "_________________________________________________________________\n",
      "decoder_6 (Decoder)          multiple                  17181019  \n",
      "=================================================================\n",
      "Total params: 28,929,999\n",
      "Trainable params: 28,929,999\n",
      "Non-trainable params: 0\n",
      "_________________________________________________________________\n"
     ]
    }
   ],
   "source": [
    "model.summary()"
   ]
  },
  {
   "cell_type": "markdown",
   "metadata": {
    "id": "polD_AJ5LtnA"
   },
   "source": [
    "50 Epoch"
   ]
  },
  {
   "cell_type": "code",
   "execution_count": null,
   "metadata": {
    "colab": {
     "base_uri": "https://localhost:8080/"
    },
    "id": "fYhK7H4NLsgo",
    "outputId": "fb2ef5b6-0312-4542-dd71-aed10d0355af"
   },
   "outputs": [
    {
     "name": "stdout",
     "output_type": "stream",
     "text": [
      "Epoch 1/10\n",
      "164/164 [==============================] - 275s 2s/step - loss: 0.3443 - val_loss: 0.3212\n",
      "Epoch 2/10\n",
      "164/164 [==============================] - 274s 2s/step - loss: 0.3274 - val_loss: 0.3093\n",
      "Epoch 3/10\n",
      "164/164 [==============================] - 293s 2s/step - loss: 0.3213 - val_loss: 0.3041\n",
      "Epoch 4/10\n",
      "164/164 [==============================] - 276s 2s/step - loss: 0.3100 - val_loss: 0.2939\n",
      "Epoch 5/10\n",
      "164/164 [==============================] - 277s 2s/step - loss: 0.2979 - val_loss: 0.2831\n",
      "Epoch 6/10\n",
      "164/164 [==============================] - 277s 2s/step - loss: 0.3301 - val_loss: 0.2975\n",
      "Epoch 7/10\n",
      "164/164 [==============================] - 277s 2s/step - loss: 0.2996 - val_loss: 0.2764\n",
      "Epoch 8/10\n",
      "164/164 [==============================] - 277s 2s/step - loss: 0.2782 - val_loss: 0.2631\n",
      "Epoch 9/10\n",
      "164/164 [==============================] - 279s 2s/step - loss: 0.2664 - val_loss: 0.2522\n",
      "Epoch 10/10\n",
      "164/164 [==============================] - 278s 2s/step - loss: 0.2576 - val_loss: 0.2474\n"
     ]
    }
   ],
   "source": [
    "with tf.device('/device:GPU:0'):\n",
    "    history50 = model.fit_generator(train_dataloader, steps_per_epoch=train_steps, epochs=10, validation_data=train_dataloader, validation_steps=train_steps, callbacks=[lr,es])"
   ]
  },
  {
   "cell_type": "code",
   "execution_count": null,
   "metadata": {
    "id": "ZWLzqTo9NCCG"
   },
   "outputs": [],
   "source": [
    "model.save_weights(model_path + 'att50/' + 'attention50', save_format='tf') "
   ]
  },
  {
   "cell_type": "code",
   "execution_count": null,
   "metadata": {
    "colab": {
     "base_uri": "https://localhost:8080/",
     "height": 301
    },
    "id": "ovJhDk1TNDlM",
    "outputId": "163f39be-02e9-4278-fa0e-7a32f5d6abc4"
   },
   "outputs": [
    {
     "data": {
      "image/png": "[encoded data removed]",
      "text/plain": [
       "<Figure size 432x288 with 1 Axes>"
      ]
     },
     "metadata": {
      "needs_background": "light",
      "tags": []
     },
     "output_type": "display_data"
    }
   ],
   "source": [
    "plt.plot(history50.history['loss'])\n",
    "plt.plot(history50.history['val_loss'])\n",
    "plt.title('model loss')\n",
    "plt.ylabel('loss')\n",
    "plt.xlabel('epoch')\n",
    "plt.legend(['train', 'test'], loc='upper right')\n",
    "plt.show()"
   ]
  },
  {
   "cell_type": "markdown",
   "metadata": {
    "id": "StPIBcgNXX8o"
   },
   "source": [
    "60 Epoch"
   ]
  },
  {
   "cell_type": "code",
   "execution_count": null,
   "metadata": {
    "colab": {
     "base_uri": "https://localhost:8080/"
    },
    "id": "gme_4_jltR8x",
    "outputId": "cb5fc69e-e347-4eff-e271-efe9a406af12"
   },
   "outputs": [
    {
     "name": "stdout",
     "output_type": "stream",
     "text": [
      "Epoch 1/10\n",
      "164/164 [==============================] - 295s 2s/step - loss: 0.3189 - val_loss: 0.3316\n",
      "Epoch 2/10\n",
      "164/164 [==============================] - 270s 2s/step - loss: 0.2957 - val_loss: 0.2619\n",
      "Epoch 3/10\n",
      "164/164 [==============================] - 269s 2s/step - loss: 0.2603 - val_loss: 0.2427\n",
      "Epoch 4/10\n",
      "164/164 [==============================] - 269s 2s/step - loss: 0.2411 - val_loss: 0.2266\n",
      "Epoch 5/10\n",
      "164/164 [==============================] - 269s 2s/step - loss: 0.2307 - val_loss: 0.2215\n",
      "Epoch 6/10\n",
      "164/164 [==============================] - 269s 2s/step - loss: 0.2261 - val_loss: 0.2660\n",
      "Epoch 7/10\n",
      "164/164 [==============================] - 269s 2s/step - loss: 0.2622 - val_loss: 0.2279\n",
      "Epoch 8/10\n",
      "164/164 [==============================] - 269s 2s/step - loss: 0.2322 - val_loss: 0.2152\n",
      "Epoch 9/10\n",
      "164/164 [==============================] - 269s 2s/step - loss: 0.2134 - val_loss: 0.2029\n",
      "Epoch 10/10\n",
      "164/164 [==============================] - 270s 2s/step - loss: 0.2033 - val_loss: 0.1904\n"
     ]
    }
   ],
   "source": [
    "with tf.device('/device:GPU:0'): \n",
    "    history60 = model.fit_generator(train_dataloader, steps_per_epoch=train_steps, epochs=10, validation_data=train_dataloader, validation_steps=train_steps, callbacks=[lr,es])"
   ]
  },
  {
   "cell_type": "code",
   "execution_count": null,
   "metadata": {
    "id": "qXQ_N9BUthLO"
   },
   "outputs": [],
   "source": [
    "model.save_weights(model_path + 'att60/' + 'attention60', save_format='tf') "
   ]
  },
  {
   "cell_type": "code",
   "execution_count": null,
   "metadata": {
    "colab": {
     "base_uri": "https://localhost:8080/",
     "height": 301
    },
    "id": "3ZQeXPBYtp_e",
    "outputId": "bbde2aba-558a-410f-ad3b-2f59b3b92749"
   },
   "outputs": [
    {
     "data": {
      "image/png": "[encoded data removed]",
      "text/plain": [
       "<Figure size 432x288 with 1 Axes>"
      ]
     },
     "metadata": {
      "needs_background": "light",
      "tags": []
     },
     "output_type": "display_data"
    }
   ],
   "source": [
    "plt.plot(history60.history['loss'])\n",
    "plt.plot(history60.history['val_loss'])\n",
    "plt.title('model loss')\n",
    "plt.ylabel('loss')\n",
    "plt.xlabel('epoch')\n",
    "plt.legend(['train', 'test'], loc='upper right')\n",
    "plt.show()"
   ]
  },
  {
   "cell_type": "markdown",
   "metadata": {
    "id": "1x83swcW4rW5"
   },
   "source": [
    "70 Epoch"
   ]
  },
  {
   "cell_type": "code",
   "execution_count": null,
   "metadata": {
    "colab": {
     "base_uri": "https://localhost:8080/"
    },
    "id": "6pYyA78r4ivq",
    "outputId": "4dc43635-865e-47f4-827f-53dfeaaaad7f"
   },
   "outputs": [
    {
     "name": "stdout",
     "output_type": "stream",
     "text": [
      "Epoch 1/10\n",
      "164/164 [==============================] - 269s 2s/step - loss: 0.1927 - val_loss: 0.1874\n",
      "Epoch 2/10\n",
      "164/164 [==============================] - 269s 2s/step - loss: 0.1960 - val_loss: 0.1832\n",
      "Epoch 3/10\n",
      "164/164 [==============================] - 270s 2s/step - loss: 0.1959 - val_loss: 0.1887\n",
      "Epoch 4/10\n",
      "164/164 [==============================] - 271s 2s/step - loss: 0.1908 - val_loss: 0.1815\n",
      "Epoch 5/10\n",
      "164/164 [==============================] - 270s 2s/step - loss: 0.1808 - val_loss: 0.1844\n",
      "Epoch 6/10\n",
      "164/164 [==============================] - 269s 2s/step - loss: 0.2471 - val_loss: 0.2087\n",
      "Epoch 7/10\n",
      "164/164 [==============================] - 269s 2s/step - loss: 0.1988 - val_loss: 0.1938\n",
      "Restoring model weights from the end of the best epoch.\n",
      "Epoch 00007: early stopping\n"
     ]
    }
   ],
   "source": [
    "with tf.device('/device:GPU:0'): \n",
    "    history70 = model.fit_generator(train_dataloader, steps_per_epoch=train_steps, epochs=10, validation_data=train_dataloader, validation_steps=train_steps, callbacks=[lr,es])"
   ]
  },
  {
   "cell_type": "code",
   "execution_count": null,
   "metadata": {
    "id": "YE4QafhW4wLi"
   },
   "outputs": [],
   "source": [
    "model.save_weights(model_path + 'att70/' + 'attention70', save_format='tf') "
   ]
  },
  {
   "cell_type": "code",
   "execution_count": null,
   "metadata": {
    "colab": {
     "base_uri": "https://localhost:8080/",
     "height": 301
    },
    "id": "TcehNkdZ4x1y",
    "outputId": "4c04b4b1-60af-4137-8a07-c0ab344dd150"
   },
   "outputs": [
    {
     "data": {
      "image/png": "[encoded data removed]",
      "text/plain": [
       "<Figure size 432x288 with 1 Axes>"
      ]
     },
     "metadata": {
      "needs_background": "light",
      "tags": []
     },
     "output_type": "display_data"
    }
   ],
   "source": [
    "plt.plot(history70.history['loss'])\n",
    "plt.plot(history70.history['val_loss'])\n",
    "plt.title('model loss')\n",
    "plt.ylabel('loss')\n",
    "plt.xlabel('epoch')\n",
    "plt.legend(['train', 'test'], loc='upper right')\n",
    "plt.show()"
   ]
  },
  {
   "cell_type": "markdown",
   "metadata": {
    "id": "eBrkUqtNT6Pn"
   },
   "source": [
    "## Model Prediction"
   ]
  },
  {
   "cell_type": "code",
   "execution_count": null,
   "metadata": {
    "id": "MP3kLZoPMvSu"
   },
   "outputs": [],
   "source": [
    "def predict(input_sentence):\n",
    "\n",
    "  batch_size = 1 \n",
    "  DECODER_SEQ_LEN = 25\n",
    "  predict_word_idx = np.zeros((1, 1))\n",
    "  predict_word_idx[0,0] = 1\n",
    "  predicted_sentence = ''\n",
    "\n",
    "  input_sequence=tokenizer_i.texts_to_sequences([input_sentence])\n",
    "  inputs=pad_sequences(input_sequence,maxlen=25,padding='post')\n",
    "  inputs=tf.convert_to_tensor(inputs)\n",
    "\n",
    "  enc_output, state_h, state_c = model.layers[0](inputs)\n",
    "\n",
    "  for i in range(DECODER_SEQ_LEN):\n",
    "      dec_output, state_h, state_c, attention_weights, context_vector = model.layers[1].one_step_decoder(predict_word_idx, enc_output, state_h, state_c)\n",
    "      predict_word_idx = np.reshape(np.argmax(dec_output), (1, 1))\n",
    "      predicted_sentence += ' ' + tokenizer_o.index_word[int(predict_word_idx)]\n",
    "\n",
    "      if tokenizer_o.word_index['<end>'] == predict_word_idx:\n",
    "          return predicted_sentence\n",
    "      dec_input = tf.expand_dims([predict_word_idx],0)\n",
    "  return predicted_sentence\n",
    "\n",
    "#----------------------------------------------------------------------------------------------------\n",
    "import nltk.translate.bleu_score as bleu\n",
    "\n",
    "def get_BLEU(model, train, test):\n",
    "    total_bleu=0\n",
    "    input_range = 100\n",
    "    for i in range(0,input_range):\n",
    "        output_sentence = ' '.join(train['output_text_out'].iloc[i].split()[:-1])\n",
    "        predicted_sentence = ' '.join(predict(train['input_text'].iloc[i]).split()[:-1])\n",
    "        output_sentence = [output_sentence.split()]\n",
    "        predicted_sentence = predicted_sentence.split()\n",
    "        bleu_score = bleu.sentence_bleu(output_sentence, predicted_sentence)\n",
    "        total_bleu += bleu_score\n",
    "    train_avg_bleu = total_bleu/input_range\n",
    "\n",
    "    total_bleu=0\n",
    "    input_range = 100\n",
    "    for i in range(0,input_range):\n",
    "        output_sentence = ' '.join(test['output_text_out'].iloc[i].split()[:-1])\n",
    "        predicted_sentence = ' '.join(predict(test['input_text'].iloc[i]).split()[:-1])\n",
    "        output_sentence = [output_sentence.split()]\n",
    "        predicted_sentence = predicted_sentence.split()\n",
    "        bleu_score = bleu.sentence_bleu(output_sentence, predicted_sentence)\n",
    "        total_bleu += bleu_score\n",
    "    test_avg_bleu = total_bleu/input_range\n",
    "\n",
    "    print('Train BLEU Score:', train_avg_bleu)\n",
    "    print('Test BLEU Score:', test_avg_bleu)"
   ]
  },
  {
   "cell_type": "code",
   "execution_count": null,
   "metadata": {
    "colab": {
     "base_uri": "https://localhost:8080/"
    },
    "id": "sYAFWFpZO-fA",
    "outputId": "2ad51fdd-4404-4e9e-b07c-120062753367"
   },
   "outputs": [
    {
     "name": "stdout",
     "output_type": "stream",
     "text": [
      "SUMMARY OF AVERAGE BLEU SCORE AT EPOCHS\n",
      "--------------------------------------------------\n",
      "Epoch 20\n",
      "Train BLEU Score: 0.5060297339262914\n",
      "Test BLEU Score: 0.46502215708288264\n",
      "==================================================\n",
      "Epoch 40\n",
      "Train BLEU Score: 0.7190857397952078\n",
      "Test BLEU Score: 0.5007111260778252\n",
      "==================================================\n",
      "Epoch 50\n",
      "Train BLEU Score: 0.7620853332789046\n",
      "Test BLEU Score: 0.48549955761809627\n",
      "==================================================\n",
      "Epoch 60\n",
      "Train BLEU Score: 0.7962130445700931\n",
      "Test BLEU Score: 0.48525404087977786\n",
      "==================================================\n",
      "Epoch 70\n",
      "Train BLEU Score: 0.8125208729797311\n",
      "Test BLEU Score: 0.47459013696855934\n",
      "==================================================\n"
     ]
    }
   ],
   "source": [
    "print('SUMMARY OF AVERAGE BLEU SCORE AT EPOCHS')\n",
    "print('-'*50)\n",
    "\n",
    "print('Epoch 20')\n",
    "model.load_weights(model_path + 'att20/' + 'attention20')\n",
    "get_BLEU(model, train, test)\n",
    "print('='*50)\n",
    "\n",
    "print('Epoch 40')\n",
    "model.load_weights(model_path + 'att40/' + 'attention40')\n",
    "get_BLEU(model, train, test)\n",
    "print('='*50)\n",
    "\n",
    "print('Epoch 50')\n",
    "model.load_weights(model_path + 'att50/' + 'attention50')\n",
    "get_BLEU(model, train, test)\n",
    "print('='*50)\n",
    "\n",
    "print('Epoch 60')\n",
    "model.load_weights(model_path + 'att60/' + 'attention60')\n",
    "get_BLEU(model, train, test)\n",
    "print('='*50)\n",
    "\n",
    "print('Epoch 70')\n",
    "model.load_weights(model_path + 'att70/' + 'attention70')\n",
    "get_BLEU(model, train, test)\n",
    "print('='*50)"
   ]
  },
  {
   "cell_type": "code",
   "execution_count": null,
   "metadata": {
    "colab": {
     "base_uri": "https://localhost:8080/"
    },
    "id": "qBOS7KJNAg5r",
    "outputId": "47854aaa-35df-45ed-b005-83d93b505114"
   },
   "outputs": [
    {
     "data": {
      "text/plain": [
       "<tensorflow.python.training.tracking.util.CheckpointLoadStatus at 0x7f96f43cb5d0>"
      ]
     },
     "execution_count": 18,
     "metadata": {
      "tags": []
     },
     "output_type": "execute_result"
    }
   ],
   "source": [
    "model.load_weights(model_path + 'att60/' + 'attention60')"
   ]
  },
  {
   "cell_type": "markdown",
   "metadata": {
    "id": "tPQozge-CrOY"
   },
   "source": [
    "Train"
   ]
  },
  {
   "cell_type": "code",
   "execution_count": null,
   "metadata": {
    "colab": {
     "base_uri": "https://localhost:8080/"
    },
    "id": "AfrLtOZO_G6V",
    "outputId": "92f3c011-4846-4f68-8dc3-81166124b4cc"
   },
   "outputs": [
    {
     "name": "stdout",
     "output_type": "stream",
     "text": [
      "Input Text: At the party , the member has variety job .\n",
      "Output Text: At the party , the members have a variety of jobs .\n",
      "Predicted Text: At the party , the members have a variety of jobs .\n",
      "========================================================================================================================\n",
      "Input Text: Thank you NY .\n",
      "Output Text: Thank you , NY !\n",
      "Predicted Text: Thank you , NY !\n",
      "========================================================================================================================\n",
      "Input Text: Few last days have been strange .\n",
      "Output Text: The last few days have been strange .\n",
      "Predicted Text: A few days last has been strange .\n",
      "========================================================================================================================\n",
      "Input Text: I 've started feeling lately that I have n't figured out what kind of relationships I 'm seeking for with people around me .\n",
      "Output Text: I 've started feeling lately that I have n't figured out what kind of relationships I 'm seeking with the people around me .\n",
      "Predicted Text: I 've started feeling lately that I have n't figured out what kind of relationships I 'm seeking with the people around me .\n",
      "========================================================================================================================\n",
      "Input Text: We also often listen to the CD which includes the conversation amongst native speakers .\n",
      "Output Text: We also often listened to the CD which includes conversation amongst native speakers .\n",
      "Predicted Text: We also often listen to the CD which includes conversation amongst native speakers .\n",
      "========================================================================================================================\n"
     ]
    }
   ],
   "source": [
    "for i in range(len(train[:5])):\n",
    "    print(\"Input Text:\", train['input_text'].iloc[i])\n",
    "    print(\"Output Text:\", ' '.join(train['output_text_out'].iloc[i].split()[:-1]))\n",
    "    print(\"Predicted Text:\", ' '.join(predict(train['input_text'].iloc[i]).split()[:-1]))\n",
    "    print('='*120)"
   ]
  },
  {
   "cell_type": "markdown",
   "metadata": {
    "id": "r3ykogr_Ct1H"
   },
   "source": [
    "Test"
   ]
  },
  {
   "cell_type": "code",
   "execution_count": null,
   "metadata": {
    "colab": {
     "base_uri": "https://localhost:8080/"
    },
    "id": "qT56tjoEU0ek",
    "outputId": "e38372a0-4402-4e9d-d816-b2c473e7c09f"
   },
   "outputs": [
    {
     "name": "stdout",
     "output_type": "stream",
     "text": [
      "Input Text: Have you ever over the wall of school ?\n",
      "Output Text: Have you ever climbed over the wall at school ?\n",
      "Predicted Text: Have you ever done from the power of school ?\n",
      "========================================================================================================================\n",
      "Input Text: It is so narrow that I have to keep my body very fit everytime .\n",
      "Output Text: It is so narrow that I have to keep my body very fit all the time .\n",
      "Predicted Text: It is so narrow that I have to keep my body very fast about the seats .\n",
      "========================================================================================================================\n",
      "Input Text: You can check the maintenance is finished or not at twitter .\n",
      "Output Text: You can check whether the maintenance is finished or not on twitter .\n",
      "Predicted Text: Do you have any weird to finish or not at Twitter .\n",
      "========================================================================================================================\n",
      "Input Text: Anyone who gets higher than  scores can pass it .\n",
      "Output Text: Anyone who gets higher than a , passes it or passes the exam .\n",
      "Predicted Text: who are taking higher than a regular computer for me .\n",
      "========================================================================================================================\n",
      "Input Text: I talked with Rie about our job , but it was a short time .\n",
      "Output Text: I talked with Rie about our job , but it was just for a short time .\n",
      "Predicted Text: I talked with Rie who takes for a job , but it was a short time .\n",
      "========================================================================================================================\n"
     ]
    }
   ],
   "source": [
    "for i in range(len(test[:5])):\n",
    "    print(\"Input Text:\", test['input_text'].iloc[i])\n",
    "    print(\"Output Text:\", ' '.join(test['output_text_out'].iloc[i].split()[:-1]))\n",
    "    print(\"Predicted Text:\", ' '.join(predict(test['input_text'].iloc[i]).split()[:-1]))\n",
    "    print('='*120)"
   ]
  }
 ],
 "metadata": {
  "colab": {
   "collapsed_sections": [],
   "name": "4_4_Attention_2LSTM_&_Scratch_Embed_(W).ipynb",
   "provenance": [],
   "toc_visible": true
  },
  "kernelspec": {
   "display_name": "Python 3",
   "language": "python",
   "name": "python3"
  },
  "language_info": {
   "codemirror_mode": {
    "name": "ipython",
    "version": 3
   },
   "file_extension": ".py",
   "mimetype": "text/x-python",
   "name": "python",
   "nbconvert_exporter": "python",
   "pygments_lexer": "ipython3",
   "version": "3.8.8"
  }
 },
 "nbformat": 4,
 "nbformat_minor": 1
}
