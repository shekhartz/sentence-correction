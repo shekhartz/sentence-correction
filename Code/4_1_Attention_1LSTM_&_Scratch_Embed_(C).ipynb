{
 "cells": [
  {
   "cell_type": "markdown",
   "metadata": {
    "id": "mG_1reu7uM74"
   },
   "source": [
    "# Encoder-Decoder Model with Attention: 1 Layer LSTM & Scratch Embedding \n",
    "# (Char Level)"
   ]
  },
  {
   "cell_type": "markdown",
   "metadata": {
    "id": "q2-EJqakEV8z"
   },
   "source": [
    "## Loading Libraries"
   ]
  },
  {
   "cell_type": "code",
   "execution_count": null,
   "metadata": {
    "id": "C8c3NwDGZSdh"
   },
   "outputs": [],
   "source": [
    "import matplotlib.pyplot as plt\n",
    "import seaborn as sns\n",
    "sns.set_theme()\n",
    "import pandas as pd\n",
    "import re\n",
    "import datetime\n",
    "import numpy as np\n",
    "from tqdm import tqdm\n",
    "from sklearn.model_selection import train_test_split\n",
    "import nltk.translate.bleu_score as bleu\n",
    "import tensorflow as tf\n",
    "from tensorflow.keras.layers import Input, Softmax, RNN, Dense, Embedding, LSTM, Flatten, Activation \n",
    "from tensorflow.keras.models import Model\n",
    "from tensorflow.keras.preprocessing.text import Tokenizer\n",
    "from tensorflow.keras.preprocessing.sequence import pad_sequences\n",
    "from tensorflow.keras.callbacks import TensorBoard\n",
    "import matplotlib.ticker as ticker\n",
    "import warnings\n",
    "warnings.filterwarnings(\"ignore\")"
   ]
  },
  {
   "cell_type": "code",
   "execution_count": null,
   "metadata": {
    "colab": {
     "base_uri": "https://localhost:8080/"
    },
    "id": "VWejJV0H_sLd",
    "outputId": "1002c274-63b2-4b4c-91b5-873b9dd2e24a"
   },
   "outputs": [
    {
     "name": "stdout",
     "output_type": "stream",
     "text": [
      "Mounted at /content/drive\n"
     ]
    }
   ],
   "source": [
    "from google.colab import drive\n",
    "drive.mount('/content/drive')"
   ]
  },
  {
   "cell_type": "markdown",
   "metadata": {
    "id": "4fnNqtyMCwm9"
   },
   "source": [
    "## Loading Dataset"
   ]
  },
  {
   "cell_type": "code",
   "execution_count": null,
   "metadata": {
    "id": "ZjnALK_l5Vpe"
   },
   "outputs": [],
   "source": [
    "data_path = '/content/drive/MyDrive/CS2/2.Datasets/'\n",
    "model_path = '/content/drive/MyDrive/CS2/3.Models/4_1_Attention-Char-Scratch/'"
   ]
  },
  {
   "cell_type": "code",
   "execution_count": null,
   "metadata": {
    "colab": {
     "base_uri": "https://localhost:8080/",
     "height": 216
    },
    "id": "8IYsmHjRufNN",
    "outputId": "6498156d-6d96-4692-c64f-87cf00b92bc7"
   },
   "outputs": [
    {
     "name": "stdout",
     "output_type": "stream",
     "text": [
      "(101717, 2)\n"
     ]
    },
    {
     "data": {
      "text/html": [
       "<div>\n",
       "<style scoped>\n",
       "    .dataframe tbody tr th:only-of-type {\n",
       "        vertical-align: middle;\n",
       "    }\n",
       "\n",
       "    .dataframe tbody tr th {\n",
       "        vertical-align: top;\n",
       "    }\n",
       "\n",
       "    .dataframe thead th {\n",
       "        text-align: right;\n",
       "    }\n",
       "</style>\n",
       "<table border=\"1\" class=\"dataframe\">\n",
       "  <thead>\n",
       "    <tr style=\"text-align: right;\">\n",
       "      <th></th>\n",
       "      <th>input_text</th>\n",
       "      <th>output_text</th>\n",
       "    </tr>\n",
       "  </thead>\n",
       "  <tbody>\n",
       "    <tr>\n",
       "      <th>0</th>\n",
       "      <td>Ofcouse , I love cheap fashion , fast fashion ...</td>\n",
       "      <td>Of course , I love cheap , fast fashion like f...</td>\n",
       "    </tr>\n",
       "    <tr>\n",
       "      <th>1</th>\n",
       "      <td>If he want to listen to music that I do n't li...</td>\n",
       "      <td>If he wants to listen to music that I do n't l...</td>\n",
       "    </tr>\n",
       "    <tr>\n",
       "      <th>2</th>\n",
       "      <td>This happened because of the cultural differen...</td>\n",
       "      <td>This happened because of the cultural differen...</td>\n",
       "    </tr>\n",
       "    <tr>\n",
       "      <th>3</th>\n",
       "      <td>I 'm gon na earn much money to study abroad .</td>\n",
       "      <td>I 'm gon na earn enough money to study abroad .</td>\n",
       "    </tr>\n",
       "    <tr>\n",
       "      <th>4</th>\n",
       "      <td>It is not difficult for me but answer phones a...</td>\n",
       "      <td>It is not difficult for me but answering the p...</td>\n",
       "    </tr>\n",
       "  </tbody>\n",
       "</table>\n",
       "</div>"
      ],
      "text/plain": [
       "                                          input_text                                        output_text\n",
       "0  Ofcouse , I love cheap fashion , fast fashion ...  Of course , I love cheap , fast fashion like f...\n",
       "1  If he want to listen to music that I do n't li...  If he wants to listen to music that I do n't l...\n",
       "2  This happened because of the cultural differen...  This happened because of the cultural differen...\n",
       "3      I 'm gon na earn much money to study abroad .    I 'm gon na earn enough money to study abroad .\n",
       "4  It is not difficult for me but answer phones a...  It is not difficult for me but answering the p..."
      ]
     },
     "execution_count": 4,
     "metadata": {
      "tags": []
     },
     "output_type": "execute_result"
    }
   ],
   "source": [
    "data = pd.read_csv(data_path + 'final_data.csv')\n",
    "print(data.shape)\n",
    "data.head()"
   ]
  },
  {
   "cell_type": "markdown",
   "metadata": {
    "id": "NCL5fOC6C28O"
   },
   "source": [
    "## Preprocess Data"
   ]
  },
  {
   "cell_type": "code",
   "execution_count": null,
   "metadata": {
    "id": "W1ZycZ1xT_E1"
   },
   "outputs": [],
   "source": [
    "def clean(text):\n",
    "    text = re.sub('<.*>', '', text)\n",
    "    text = re.sub('\\(.*\\)', '', text)\n",
    "    text = re.sub('\\[.*\\]', '', text)\n",
    "    text = re.sub('{.*}', '', text)\n",
    "    text = re.sub(\"[-+@#^/|*(){}$~`<>=_]\",\"\",text)\n",
    "    text = text.replace(\"\\\\\",\"\")\n",
    "    text = re.sub(\"\\[\",\"\",text)\n",
    "    text = re.sub(\"\\]\",\"\",text)\n",
    "    text = re.sub(\"[0-9]\",\"\",text)\n",
    "    return text\n",
    "\n",
    "data['input_text'] = data['input_text'].apply(lambda x: clean(x))\n",
    "data['output_text'] = data['output_text'].apply(lambda x: clean(x))"
   ]
  },
  {
   "cell_type": "code",
   "execution_count": null,
   "metadata": {
    "id": "9QqElB_nKZos"
   },
   "outputs": [],
   "source": [
    "def preprocessing(data):\n",
    "   \n",
    "    data['input_text_length'] = data['input_text'].apply(len)\n",
    "    data['output_text_length'] = data['output_text'].apply(len)\n",
    "\n",
    "    data = data[data['input_text_length'] < 110]\n",
    "    data = data[data['output_text_length'] < 110]\n",
    "\n",
    "    data['output_text_in'] = '\\t ' + data['output_text'].astype(str)\n",
    "    data['output_text_out'] = data['output_text'].astype(str) + ' \\n'\n",
    "\n",
    "    data = data.drop(['input_text_length','output_text_length','output_text'], axis=1)\n",
    "    return data"
   ]
  },
  {
   "cell_type": "code",
   "execution_count": null,
   "metadata": {
    "colab": {
     "base_uri": "https://localhost:8080/",
     "height": 216
    },
    "id": "s4yTTU8cD93w",
    "outputId": "a74403ed-f5ac-44ce-e7a7-2b2846135061"
   },
   "outputs": [
    {
     "name": "stdout",
     "output_type": "stream",
     "text": [
      "Shape of Dataset: (91188, 3)\n"
     ]
    },
    {
     "data": {
      "text/html": [
       "<div>\n",
       "<style scoped>\n",
       "    .dataframe tbody tr th:only-of-type {\n",
       "        vertical-align: middle;\n",
       "    }\n",
       "\n",
       "    .dataframe tbody tr th {\n",
       "        vertical-align: top;\n",
       "    }\n",
       "\n",
       "    .dataframe thead th {\n",
       "        text-align: right;\n",
       "    }\n",
       "</style>\n",
       "<table border=\"1\" class=\"dataframe\">\n",
       "  <thead>\n",
       "    <tr style=\"text-align: right;\">\n",
       "      <th></th>\n",
       "      <th>input_text</th>\n",
       "      <th>output_text_in</th>\n",
       "      <th>output_text_out</th>\n",
       "    </tr>\n",
       "  </thead>\n",
       "  <tbody>\n",
       "    <tr>\n",
       "      <th>0</th>\n",
       "      <td>Ofcouse , I love cheap fashion , fast fashion ...</td>\n",
       "      <td>\\t Of course , I love cheap , fast fashion lik...</td>\n",
       "      <td>Of course , I love cheap , fast fashion like f...</td>\n",
       "    </tr>\n",
       "    <tr>\n",
       "      <th>1</th>\n",
       "      <td>If he want to listen to music that I do n't li...</td>\n",
       "      <td>\\t If he wants to listen to music that I do n'...</td>\n",
       "      <td>If he wants to listen to music that I do n't l...</td>\n",
       "    </tr>\n",
       "    <tr>\n",
       "      <th>3</th>\n",
       "      <td>I 'm gon na earn much money to study abroad .</td>\n",
       "      <td>\\t I 'm gon na earn enough money to study abro...</td>\n",
       "      <td>I 'm gon na earn enough money to study abroad ...</td>\n",
       "    </tr>\n",
       "    <tr>\n",
       "      <th>4</th>\n",
       "      <td>It is not difficult for me but answer phones a...</td>\n",
       "      <td>\\t It is not difficult for me but answering th...</td>\n",
       "      <td>It is not difficult for me but answering the p...</td>\n",
       "    </tr>\n",
       "    <tr>\n",
       "      <th>5</th>\n",
       "      <td>The moment came when the world 's would have i...</td>\n",
       "      <td>\\t The moment came when the world would have i...</td>\n",
       "      <td>The moment came when the world would have its ...</td>\n",
       "    </tr>\n",
       "  </tbody>\n",
       "</table>\n",
       "</div>"
      ],
      "text/plain": [
       "                                          input_text  ...                                    output_text_out\n",
       "0  Ofcouse , I love cheap fashion , fast fashion ...  ...  Of course , I love cheap , fast fashion like f...\n",
       "1  If he want to listen to music that I do n't li...  ...  If he wants to listen to music that I do n't l...\n",
       "3      I 'm gon na earn much money to study abroad .  ...  I 'm gon na earn enough money to study abroad ...\n",
       "4  It is not difficult for me but answer phones a...  ...  It is not difficult for me but answering the p...\n",
       "5  The moment came when the world 's would have i...  ...  The moment came when the world would have its ...\n",
       "\n",
       "[5 rows x 3 columns]"
      ]
     },
     "execution_count": 7,
     "metadata": {
      "tags": []
     },
     "output_type": "execute_result"
    }
   ],
   "source": [
    "data = preprocessing(data)\n",
    "\n",
    "data.iloc[0]['output_text_in'] = str(data.iloc[0]['output_text_in'])+' \\n'\n",
    "data.iloc[0]['output_text_out'] = str(data.iloc[0]['output_text_out'])+' \\n'\n",
    "\n",
    "print('Shape of Dataset:', data.shape)\n",
    "data.head()"
   ]
  },
  {
   "cell_type": "markdown",
   "metadata": {
    "id": "Dx2iV7_sC_aJ"
   },
   "source": [
    "## Train Test Split"
   ]
  },
  {
   "cell_type": "code",
   "execution_count": null,
   "metadata": {
    "colab": {
     "base_uri": "https://localhost:8080/"
    },
    "id": "nwq2jKcGZzt-",
    "outputId": "8f196efc-1566-4d50-c9b7-4bb911b5d298"
   },
   "outputs": [
    {
     "name": "stdout",
     "output_type": "stream",
     "text": [
      "Shape of Train Data: (82069, 3)\n",
      "Shape of Test Data: (9119, 3)\n"
     ]
    }
   ],
   "source": [
    "train, test = train_test_split(data, test_size=0.1, random_state=42)\n",
    "print('Shape of Train Data:', train.shape)\n",
    "print('Shape of Test Data:', test.shape)"
   ]
  },
  {
   "cell_type": "markdown",
   "metadata": {
    "id": "uiR00g4hDEtl"
   },
   "source": [
    "## Tokenization"
   ]
  },
  {
   "cell_type": "code",
   "execution_count": null,
   "metadata": {
    "colab": {
     "base_uri": "https://localhost:8080/"
    },
    "id": "cEqQKioDaFS6",
    "outputId": "4fad0cba-1116-4a0a-d7d4-317572b71d96"
   },
   "outputs": [
    {
     "name": "stdout",
     "output_type": "stream",
     "text": [
      "Input Vocab Size: 75\n",
      "Output Vocab Size: 68\n"
     ]
    }
   ],
   "source": [
    "tokenizer_i = Tokenizer(filters=\"\", char_level=True, lower=False)\n",
    "tokenizer_o = Tokenizer(filters=\"\", char_level=True, lower=False)\n",
    "\n",
    "tokenizer_i.fit_on_texts(train['input_text'].values)\n",
    "tokenizer_o.fit_on_texts(train['output_text_in'].values)\n",
    "\n",
    "vocab_size_input = len(tokenizer_i.word_index.keys())\n",
    "print('Input Vocab Size:', vocab_size_input)\n",
    "\n",
    "vocab_size_output = len(tokenizer_o.word_index.keys())\n",
    "print('Output Vocab Size:', vocab_size_output)"
   ]
  },
  {
   "cell_type": "markdown",
   "metadata": {
    "id": "JfknU1OTDyDe"
   },
   "source": [
    "## Data Pipeline"
   ]
  },
  {
   "cell_type": "code",
   "execution_count": null,
   "metadata": {
    "id": "MLYD6-FR7iZ3"
   },
   "outputs": [],
   "source": [
    "class Dataset:\n",
    "    def __init__(self, data, tokenizer_i, tokenizer_o, max_len_enc, max_len_dec):\n",
    "        self.encoder_inps = data['input_text'].values\n",
    "        self.decoder_inps = data['output_text_in'].values\n",
    "        self.decoder_outs = data['output_text_out'].values\n",
    "        self.tokenizer_o = tokenizer_o\n",
    "        self.tokenizer_i = tokenizer_i\n",
    "        self.max_len_enc = max_len_enc\n",
    "        self.max_len_dec = max_len_dec\n",
    "\n",
    "\n",
    "    def __getitem__(self, i):\n",
    "        self.encoder_seq = self.tokenizer_i.texts_to_sequences([self.encoder_inps[i]]) \n",
    "        self.decoder_inp_seq = self.tokenizer_o.texts_to_sequences([self.decoder_inps[i]])\n",
    "        self.decoder_out_seq = self.tokenizer_o.texts_to_sequences([self.decoder_outs[i]])\n",
    "\n",
    "        self.encoder_seq = pad_sequences(self.encoder_seq, maxlen=self.max_len_enc, dtype='int32', padding='post')\n",
    "        self.decoder_inp_seq = pad_sequences(self.decoder_inp_seq, maxlen=self.max_len_dec, dtype='int32', padding='post')\n",
    "        self.decoder_out_seq = pad_sequences(self.decoder_out_seq, maxlen=self.max_len_dec, dtype='int32', padding='post')\n",
    "        return self.encoder_seq, self.decoder_inp_seq, self.decoder_out_seq\n",
    "\n",
    "    def __len__(self):\n",
    "        return len(self.encoder_inps)\n",
    "\n",
    "    \n",
    "class Dataloder(tf.keras.utils.Sequence):    \n",
    "    def __init__(self, dataset, batch_size=1):\n",
    "        self.dataset = dataset\n",
    "        self.batch_size = batch_size\n",
    "        self.indexes = np.arange(len(self.dataset.encoder_inps))\n",
    "\n",
    "\n",
    "    def __getitem__(self, i):\n",
    "        start = i * self.batch_size\n",
    "        stop = (i + 1) * self.batch_size\n",
    "        data = []\n",
    "        for j in range(start, stop):\n",
    "            data.append(self.dataset[j])\n",
    "\n",
    "        batch = [np.squeeze(np.stack(samples, axis=1), axis=0) for samples in zip(*data)]\n",
    "        return tuple([[batch[0],batch[1]],batch[2]])\n",
    "\n",
    "    def __len__(self): \n",
    "        return len(self.indexes) // self.batch_size\n",
    "\n",
    "    def on_epoch_end(self):\n",
    "        self.indexes = np.random.permutation(self.indexes)"
   ]
  },
  {
   "cell_type": "code",
   "execution_count": null,
   "metadata": {
    "colab": {
     "base_uri": "https://localhost:8080/"
    },
    "id": "yYS7cpfD7n3S",
    "outputId": "96dc34a5-9b00-4476-ac02-b6b261ee13a0"
   },
   "outputs": [
    {
     "name": "stdout",
     "output_type": "stream",
     "text": [
      "Train Dataloader: (512, 110) (512, 110) (512, 110)\n",
      "Test Dataloader: (512, 110) (512, 110) (512, 110)\n"
     ]
    }
   ],
   "source": [
    "train_dataset = Dataset(train, tokenizer_i, tokenizer_o, 110, 110)\n",
    "test_dataset  = Dataset(test, tokenizer_i, tokenizer_o, 110, 110)\n",
    "\n",
    "train_dataloader = Dataloder(train_dataset, batch_size=512)\n",
    "test_dataloader = Dataloder(test_dataset, batch_size=512)\n",
    "\n",
    "print('Train Dataloader:', train_dataloader[0][0][0].shape, train_dataloader[0][0][1].shape, train_dataloader[0][1].shape)\n",
    "print('Test Dataloader:', test_dataloader[0][0][0].shape, test_dataloader[0][0][1].shape, test_dataloader[0][1].shape)"
   ]
  },
  {
   "cell_type": "markdown",
   "metadata": {
    "id": "1RHXoozdDrug"
   },
   "source": [
    "## Model Building"
   ]
  },
  {
   "cell_type": "code",
   "execution_count": null,
   "metadata": {
    "id": "aCH8qtWgDFcz"
   },
   "outputs": [],
   "source": [
    "class Encoder(tf.keras.Model):\n",
    "    '''\n",
    "    Encoder model -- That takes a input sequence and returns encoder-outputs,encoder_final_state_h,encoder_final_state_c\n",
    "    '''\n",
    "    def __init__(self,in_vocab_size,embedding_dim,enc_units,input_length):\n",
    "        super().__init__()\n",
    "        self.in_vocab_size = in_vocab_size\n",
    "        self.embedding_dim = embedding_dim\n",
    "        self.input_length = input_length\n",
    "        self.enc_units = enc_units\n",
    "\n",
    "    def build(self, input_shape):\n",
    "        self.embedding = Embedding(input_dim=self.in_vocab_size, output_dim=self.embedding_dim, input_length=self.input_length, mask_zero=True, name=\"Encoder_Embedding\")\n",
    "        self.lstm = LSTM(self.enc_units, return_state=True, return_sequences=True, name=\"Encoder_LSTM\")\n",
    "        \n",
    "    def call(self, input_sentences, training=True):\n",
    "        input_embed = self.embedding(input_sentences)\n",
    "        encoder_output, encoder_state_h, encoder_state_c = self.lstm(input_embed)\n",
    "        return encoder_output, encoder_state_h, encoder_state_c\n",
    "\n",
    "#-----------------------------------------------------------------------------------------------------------------------------------\n",
    "class Attention(tf.keras.layers.Layer):\n",
    "  '''\n",
    "  Class the calculates score based on the scoring_function using Bahdanu attention mechanism.\n",
    "  '''\n",
    "  def __init__(self,scoring_function, att_units):\n",
    "    super().__init__()\n",
    "    self.scoring_function = scoring_function\n",
    "    self.att_units = att_units\n",
    "\n",
    "    if self.scoring_function == 'dot':\n",
    "      pass\n",
    "\n",
    "    if scoring_function == 'general':\n",
    "      self.W = Dense(self.att_units)\n",
    "      \n",
    "    elif scoring_function == 'concat':\n",
    "      self.W1 = Dense(self.att_units)\n",
    "      self.W2 = Dense(self.att_units)\n",
    "      self.Va = Dense(1)\n",
    "  \n",
    "  \n",
    "  def call(self,decoder_hidden_state,encoder_output):\n",
    "    if self.scoring_function == 'dot':\n",
    "        decoder_hidden_state = tf.expand_dims(decoder_hidden_state, 2)\n",
    "        score = tf.matmul(encoder_output, decoder_hidden_state)\n",
    "\n",
    "    elif self.scoring_function == 'general':\n",
    "        decoder_hidden_state = tf.expand_dims(decoder_hidden_state, 2)\n",
    "        score = tf.matmul(self.W(encoder_output), decoder_hidden_state)\n",
    "\n",
    "    elif self.scoring_function == 'concat':\n",
    "        decoder_hidden_state = tf.expand_dims(decoder_hidden_state, 1)\n",
    "        score = self.Va(tf.nn.tanh(self.W1(decoder_hidden_state) + self.W2(encoder_output)))\n",
    "\n",
    "    attention_weight = tf.nn.softmax(score, axis=1)\n",
    "    context_vector = tf.reduce_sum(attention_weight * encoder_output, axis=1)\n",
    "    return context_vector, attention_weight\n",
    "\n",
    "#-----------------------------------------------------------------------------------------------------------------------------------\n",
    "class One_Step_Decoder(tf.keras.Model):\n",
    "  def __init__(self, tar_vocab_size, embedding_dim, input_length, dec_units, score_fun, att_units):\n",
    "      super().__init__()\n",
    "      self.tar_vocab_size = tar_vocab_size\n",
    "      self.embedding_dim = embedding_dim\n",
    "      self.input_length = input_length\n",
    "      self.dec_units= dec_units\n",
    "      self.score_fun = score_fun\n",
    "      self.att_units = att_units\n",
    "\n",
    "  def build(self, input_shape):\n",
    "        self.embedding = Embedding(input_dim=self.tar_vocab_size, output_dim=self.embedding_dim, input_length=self.input_length, mask_zero=True, name=\"Decoder_Embedding\")\n",
    "        self.lstm = LSTM(self.dec_units, return_state=True, return_sequences=True, name=\"Decoder_LSTM\")\n",
    "        self.dense = Dense(self.tar_vocab_size)\n",
    "        self.attention = Attention(self.score_fun, self.att_units)\n",
    "\n",
    "  def call(self,input_to_decoder, encoder_output, state_h, state_c):\n",
    "    \n",
    "    target_embedd = self.embedding(input_to_decoder)\n",
    "\n",
    "    context_vector, attention_weights = self.attention(state_h, encoder_output)\n",
    "    context_vector = tf.expand_dims(context_vector, 1)\n",
    "\n",
    "    decoder_input = tf.concat([target_embedd, context_vector], 2)\n",
    "\n",
    "    decoder_output, decoder_final_state_h, decoder_final_state_c = self.lstm(decoder_input, initial_state=[state_h,state_c])\n",
    "\n",
    "    output = self.dense(decoder_output)\n",
    "\n",
    "    return tf.squeeze(output), decoder_final_state_h, decoder_final_state_c, attention_weights, tf.squeeze(context_vector)\n",
    "\n",
    "#-----------------------------------------------------------------------------------------------------------------------------------\n",
    "class Decoder(tf.keras.Model):\n",
    "    def __init__(self,out_vocab_size, embedding_dim, input_length, dec_units ,score_fun, att_units):\n",
    "      super(Decoder, self).__init__()\n",
    "      self.out_vocab_size = out_vocab_size\n",
    "      self.embedding_dim = embedding_dim\n",
    "      self.input_length = input_length\n",
    "      self.dec_units = dec_units\n",
    "      self.score_fun = score_fun\n",
    "      self.att_units = att_units\n",
    "      self.one_step_decoder = One_Step_Decoder(self.out_vocab_size, self.embedding_dim, self.input_length, self.dec_units, self.score_fun, self.att_units)\n",
    "\n",
    "   \n",
    "    def call(self, input_to_decoder, encoder_output_state, decoder_hidden_state, decoder_cell_state):\n",
    "      all_outputs = tf.TensorArray(tf.float32, size=tf.shape(input_to_decoder)[1], name=\"output_arrays\")\n",
    "\n",
    "      for timestep in range(tf.shape(input_to_decoder)[1]):\n",
    "        output, decoder_hidden_state, decoder_cell_state, attention_weights, context_vector = self.one_step_decoder(input_to_decoder[:,timestep:timestep+1], encoder_output_state, decoder_hidden_state, decoder_cell_state)\n",
    "        all_outputs = all_outputs.write(timestep, output)\n",
    "\n",
    "      all_outputs = tf.transpose(all_outputs.stack(), [1, 0, 2])\n",
    "      return all_outputs\n",
    "\n",
    "#-----------------------------------------------------------------------------------------------------------------------------------\n",
    "class Encoder_Decoder(tf.keras.Model):\n",
    "  def __init__(self, encoder_inputs_length, decoder_inputs_length, input_vocab_size, output_vocab_size, embedding_dim, enc_units, dec_units, att_units, batch_size, score_fun, name='Encoder-Decoder-Attention'):\n",
    "    super().__init__(name=name)\n",
    "    self.encoder = Encoder(in_vocab_size=input_vocab_size+1, embedding_dim=embedding_dim, enc_units=enc_units, input_length=encoder_inputs_length)\n",
    "    self.decoder = Decoder(out_vocab_size=output_vocab_size+1, embedding_dim=embedding_dim, input_length=decoder_inputs_length, dec_units=dec_units, score_fun=score_fun, att_units=att_units)\n",
    "    self.batch_size = batch_size\n",
    "\n",
    "  def call(self,data):\n",
    "\n",
    "    input, output = data[0], data[1]\n",
    "\n",
    "    encoder_output, encoder_h, encoder_c = self.encoder(input)\n",
    "    decoder_output = self.decoder(output, encoder_output, encoder_h, encoder_c)\n",
    "    return decoder_output"
   ]
  },
  {
   "cell_type": "markdown",
   "metadata": {
    "id": "ioBubCAmEHWN"
   },
   "source": [
    "## Custom Loss Function"
   ]
  },
  {
   "cell_type": "code",
   "execution_count": null,
   "metadata": {
    "id": "QY_3izrXMs8y"
   },
   "outputs": [],
   "source": [
    "def loss_function(real, pred):\n",
    "    mask = tf.math.logical_not(tf.math.equal(real, 0))\n",
    "    loss_object = tf.keras.losses.SparseCategoricalCrossentropy(from_logits=True, reduction='none')\n",
    "    loss_ = loss_object(real, pred)\n",
    "    mask = tf.cast(mask, dtype=loss_.dtype)\n",
    "    loss_ *= mask\n",
    "    return tf.reduce_mean(loss_)"
   ]
  },
  {
   "cell_type": "markdown",
   "metadata": {
    "id": "11PwkigioLFN"
   },
   "source": [
    "## Model Training"
   ]
  },
  {
   "cell_type": "code",
   "execution_count": null,
   "metadata": {
    "id": "rO1R0QrVn3t3"
   },
   "outputs": [],
   "source": [
    "lr = tf.keras.callbacks.ReduceLROnPlateau(monitor='val_loss', factor=0.99, patience=100)\n",
    "es = tf.keras.callbacks.EarlyStopping(patience=3, verbose=1, min_delta=0.001, monitor='val_loss', mode='min', restore_best_weights=True)\n",
    "\n",
    "train_steps = train.shape[0]//512\n",
    "valid_steps = test.shape[0]//512\n",
    "\n",
    "model  = Encoder_Decoder(encoder_inputs_length=110,\n",
    "                          decoder_inputs_length=110,\n",
    "                          input_vocab_size=vocab_size_input,\n",
    "                          output_vocab_size=vocab_size_output, \n",
    "                          embedding_dim=300, \n",
    "                          enc_units=64, \n",
    "                          dec_units=64, \n",
    "                          att_units=64,\n",
    "                          batch_size=512,\n",
    "                          score_fun='dot')\n",
    "\n",
    "model.compile(optimizer=tf.keras.optimizers.Adam(),loss=loss_function)"
   ]
  },
  {
   "cell_type": "markdown",
   "metadata": {
    "id": "84Bu7-RWRT9N"
   },
   "source": [
    "20 Epoch"
   ]
  },
  {
   "cell_type": "code",
   "execution_count": null,
   "metadata": {
    "colab": {
     "base_uri": "https://localhost:8080/"
    },
    "id": "1bXjrmvoeviz",
    "outputId": "586c6112-c8e7-4e3c-e914-3c1bc222882c"
   },
   "outputs": [
    {
     "name": "stdout",
     "output_type": "stream",
     "text": [
      "Epoch 1/20\n",
      "160/160 [==============================] - 252s 1s/step - loss: 1.5306 - val_loss: 1.4071\n",
      "Epoch 2/20\n",
      "160/160 [==============================] - 204s 1s/step - loss: 1.3762 - val_loss: 1.3513\n",
      "Epoch 3/20\n",
      "160/160 [==============================] - 206s 1s/step - loss: 1.3271 - val_loss: 1.3007\n",
      "Epoch 4/20\n",
      "160/160 [==============================] - 203s 1s/step - loss: 1.2780 - val_loss: 1.2626\n",
      "Epoch 5/20\n",
      "160/160 [==============================] - 203s 1s/step - loss: 1.2447 - val_loss: 1.2329\n",
      "Epoch 6/20\n",
      "160/160 [==============================] - 203s 1s/step - loss: 1.2167 - val_loss: 1.2032\n",
      "Epoch 7/20\n",
      "160/160 [==============================] - 202s 1s/step - loss: 1.1865 - val_loss: 1.1745\n",
      "Epoch 8/20\n",
      "160/160 [==============================] - 203s 1s/step - loss: 1.1602 - val_loss: 1.1496\n",
      "Epoch 9/20\n",
      "160/160 [==============================] - 201s 1s/step - loss: 1.1360 - val_loss: 1.1260\n",
      "Epoch 10/20\n",
      "160/160 [==============================] - 200s 1s/step - loss: 1.1104 - val_loss: 1.1006\n",
      "Epoch 11/20\n",
      "160/160 [==============================] - 203s 1s/step - loss: 1.0802 - val_loss: 1.0640\n",
      "Epoch 12/20\n",
      "160/160 [==============================] - 200s 1s/step - loss: 1.0357 - val_loss: 1.0118\n",
      "Epoch 13/20\n",
      "160/160 [==============================] - 199s 1s/step - loss: 0.9678 - val_loss: 0.9291\n",
      "Epoch 14/20\n",
      "160/160 [==============================] - 205s 1s/step - loss: 0.8701 - val_loss: 0.8078\n",
      "Epoch 15/20\n",
      "160/160 [==============================] - 201s 1s/step - loss: 0.7299 - val_loss: 0.6557\n",
      "Epoch 16/20\n",
      "160/160 [==============================] - 203s 1s/step - loss: 0.5926 - val_loss: 0.5493\n",
      "Epoch 17/20\n",
      "160/160 [==============================] - 202s 1s/step - loss: 0.5266 - val_loss: 0.5102\n",
      "Epoch 18/20\n",
      "160/160 [==============================] - 203s 1s/step - loss: 0.4966 - val_loss: 0.4871\n",
      "Epoch 19/20\n",
      "160/160 [==============================] - 206s 1s/step - loss: 0.4779 - val_loss: 0.4714\n",
      "Epoch 20/20\n",
      "160/160 [==============================] - 207s 1s/step - loss: 0.4642 - val_loss: 0.4613\n"
     ]
    }
   ],
   "source": [
    "with tf.device('/device:GPU:0'):\n",
    "    history20 = model.fit_generator(train_dataloader, steps_per_epoch=train_steps, epochs=20, validation_data=train_dataloader, validation_steps=train_steps, callbacks=[lr,es])"
   ]
  },
  {
   "cell_type": "code",
   "execution_count": null,
   "metadata": {
    "id": "1PPZkyfGlWh-"
   },
   "outputs": [],
   "source": [
    "model.save_weights(model_path + 'att20/' + 'attention20', save_format='tf') "
   ]
  },
  {
   "cell_type": "code",
   "execution_count": null,
   "metadata": {
    "colab": {
     "base_uri": "https://localhost:8080/",
     "height": 301
    },
    "id": "qvrX1nWQlawd",
    "outputId": "5453b837-29a4-47bc-cf92-9ae8204129ee"
   },
   "outputs": [
    {
     "data": {
      "image/png": "[encoded data removed]",
      "text/plain": [
       "<Figure size 432x288 with 1 Axes>"
      ]
     },
     "metadata": {
      "tags": []
     },
     "output_type": "display_data"
    }
   ],
   "source": [
    "plt.plot(history20.history['loss'])\n",
    "plt.plot(history20.history['val_loss'])\n",
    "plt.title('model loss')\n",
    "plt.ylabel('loss')\n",
    "plt.xlabel('epoch')\n",
    "plt.legend(['train', 'test'], loc='upper right')\n",
    "plt.show()"
   ]
  },
  {
   "cell_type": "markdown",
   "metadata": {
    "id": "w6A2vCSY9JS5"
   },
   "source": [
    "40 Epoch"
   ]
  },
  {
   "cell_type": "code",
   "execution_count": null,
   "metadata": {
    "colab": {
     "base_uri": "https://localhost:8080/"
    },
    "id": "_i-mnf_llf_a",
    "outputId": "2a5d77dc-537b-46c3-9d3c-1091e820fef9"
   },
   "outputs": [
    {
     "name": "stdout",
     "output_type": "stream",
     "text": [
      "Epoch 1/20\n",
      "160/160 [==============================] - 207s 1s/step - loss: 0.4536 - val_loss: 0.4504\n",
      "Epoch 2/20\n",
      "160/160 [==============================] - 205s 1s/step - loss: 0.4448 - val_loss: 0.4437\n",
      "Epoch 3/20\n",
      "160/160 [==============================] - 207s 1s/step - loss: 0.4375 - val_loss: 0.4367\n",
      "Epoch 4/20\n",
      "160/160 [==============================] - 206s 1s/step - loss: 0.4307 - val_loss: 0.4297\n",
      "Epoch 5/20\n",
      "160/160 [==============================] - 204s 1s/step - loss: 0.4250 - val_loss: 0.4248\n",
      "Epoch 6/20\n",
      "160/160 [==============================] - 210s 1s/step - loss: 0.4203 - val_loss: 0.4205\n",
      "Epoch 7/20\n",
      "160/160 [==============================] - 203s 1s/step - loss: 0.4155 - val_loss: 0.4162\n",
      "Epoch 8/20\n",
      "160/160 [==============================] - 203s 1s/step - loss: 0.4117 - val_loss: 0.4124\n",
      "Epoch 9/20\n",
      "160/160 [==============================] - 201s 1s/step - loss: 0.4080 - val_loss: 0.4097\n",
      "Epoch 10/20\n",
      "160/160 [==============================] - 202s 1s/step - loss: 0.4049 - val_loss: 0.4057\n",
      "Epoch 11/20\n",
      "160/160 [==============================] - 206s 1s/step - loss: 0.4016 - val_loss: 0.4029\n",
      "Epoch 12/20\n",
      "160/160 [==============================] - 201s 1s/step - loss: 0.3987 - val_loss: 0.3999\n",
      "Epoch 13/20\n",
      "160/160 [==============================] - 204s 1s/step - loss: 0.3962 - val_loss: 0.3974\n",
      "Epoch 14/20\n",
      "160/160 [==============================] - 202s 1s/step - loss: 0.3937 - val_loss: 0.3953\n",
      "Epoch 15/20\n",
      "160/160 [==============================] - 201s 1s/step - loss: 0.3917 - val_loss: 0.3938\n",
      "Epoch 16/20\n",
      "160/160 [==============================] - 202s 1s/step - loss: 0.3895 - val_loss: 0.3910\n",
      "Epoch 17/20\n",
      "160/160 [==============================] - 204s 1s/step - loss: 0.3874 - val_loss: 0.3895\n",
      "Epoch 18/20\n",
      "160/160 [==============================] - 204s 1s/step - loss: 0.3856 - val_loss: 0.3887\n",
      "Epoch 19/20\n",
      "160/160 [==============================] - 205s 1s/step - loss: 0.3838 - val_loss: 0.3860\n",
      "Epoch 20/20\n",
      "160/160 [==============================] - 205s 1s/step - loss: 0.3819 - val_loss: 0.3841\n"
     ]
    }
   ],
   "source": [
    "with tf.device('/device:GPU:0'):\n",
    "    history40 = model.fit_generator(train_dataloader, steps_per_epoch=train_steps, epochs=20, validation_data=train_dataloader, validation_steps=train_steps, callbacks=[lr,es])"
   ]
  },
  {
   "cell_type": "code",
   "execution_count": null,
   "metadata": {
    "id": "GQ7fAhM17hx2"
   },
   "outputs": [],
   "source": [
    "model.save_weights(model_path + 'att40/' + 'attention40', save_format='tf') "
   ]
  },
  {
   "cell_type": "code",
   "execution_count": null,
   "metadata": {
    "colab": {
     "base_uri": "https://localhost:8080/",
     "height": 301
    },
    "id": "HfutJC3DXqId",
    "outputId": "b4c05ad6-436c-4fd5-bc64-13008f2c0067"
   },
   "outputs": [
    {
     "data": {
      "image/png": "[encoded data removed]",
      "text/plain": [
       "<Figure size 432x288 with 1 Axes>"
      ]
     },
     "metadata": {
      "tags": []
     },
     "output_type": "display_data"
    }
   ],
   "source": [
    "plt.plot(history40.history['loss'])\n",
    "plt.plot(history40.history['val_loss'])\n",
    "plt.title('model loss')\n",
    "plt.ylabel('loss')\n",
    "plt.xlabel('epoch')\n",
    "plt.legend(['train', 'test'], loc='upper right')\n",
    "plt.show()"
   ]
  },
  {
   "cell_type": "code",
   "execution_count": null,
   "metadata": {
    "colab": {
     "base_uri": "https://localhost:8080/"
    },
    "id": "ElR2P237InDo",
    "outputId": "15a75357-f31d-4b84-e36b-15132065222b"
   },
   "outputs": [
    {
     "name": "stdout",
     "output_type": "stream",
     "text": [
      "Model: \"Encoder-Decoder-Attention\"\n",
      "_________________________________________________________________\n",
      "Layer (type)                 Output Shape              Param #   \n",
      "=================================================================\n",
      "encoder_4 (Encoder)          multiple                  116240    \n",
      "_________________________________________________________________\n",
      "decoder_4 (Decoder)          multiple                  135009    \n",
      "=================================================================\n",
      "Total params: 251,249\n",
      "Trainable params: 251,249\n",
      "Non-trainable params: 0\n",
      "_________________________________________________________________\n"
     ]
    }
   ],
   "source": [
    "model.summary()"
   ]
  },
  {
   "cell_type": "markdown",
   "metadata": {
    "id": "nT-bri099UK9"
   },
   "source": [
    "60 Epoch"
   ]
  },
  {
   "cell_type": "code",
   "execution_count": null,
   "metadata": {
    "colab": {
     "base_uri": "https://localhost:8080/"
    },
    "id": "WEG_wyzi9QD3",
    "outputId": "891a13b0-fae3-49d9-9252-78ae92616fe6"
   },
   "outputs": [
    {
     "name": "stdout",
     "output_type": "stream",
     "text": [
      "Epoch 1/20\n",
      "160/160 [==============================] - 208s 1s/step - loss: 0.3803 - val_loss: 0.3849\n",
      "Epoch 2/20\n",
      "160/160 [==============================] - 209s 1s/step - loss: 0.3788 - val_loss: 0.3818\n",
      "Epoch 3/20\n",
      "160/160 [==============================] - 209s 1s/step - loss: 0.3777 - val_loss: 0.3801\n",
      "Epoch 4/20\n",
      "160/160 [==============================] - 206s 1s/step - loss: 0.3760 - val_loss: 0.3796\n",
      "Epoch 5/20\n",
      "160/160 [==============================] - 208s 1s/step - loss: 0.3749 - val_loss: 0.3789\n",
      "Epoch 6/20\n",
      "160/160 [==============================] - 205s 1s/step - loss: 0.3734 - val_loss: 0.3763\n",
      "Epoch 7/20\n",
      "160/160 [==============================] - 207s 1s/step - loss: 0.3723 - val_loss: 0.3753\n",
      "Epoch 8/20\n",
      "160/160 [==============================] - 203s 1s/step - loss: 0.3714 - val_loss: 0.3741\n",
      "Epoch 9/20\n",
      "160/160 [==============================] - 202s 1s/step - loss: 0.3703 - val_loss: 0.3729\n",
      "Epoch 10/20\n",
      "160/160 [==============================] - 204s 1s/step - loss: 0.3695 - val_loss: 0.3719\n",
      "Epoch 11/20\n",
      "160/160 [==============================] - 202s 1s/step - loss: 0.3682 - val_loss: 0.3727\n",
      "Epoch 12/20\n",
      "160/160 [==============================] - 200s 1s/step - loss: 0.3670 - val_loss: 0.3700\n",
      "Epoch 13/20\n",
      "160/160 [==============================] - 202s 1s/step - loss: 0.3664 - val_loss: 0.3702\n",
      "Epoch 14/20\n",
      "160/160 [==============================] - 198s 1s/step - loss: 0.3654 - val_loss: 0.3702\n",
      "Epoch 15/20\n",
      "160/160 [==============================] - 200s 1s/step - loss: 0.3644 - val_loss: 0.3686\n",
      "Epoch 16/20\n",
      "160/160 [==============================] - 201s 1s/step - loss: 0.3637 - val_loss: 0.3674\n",
      "Epoch 17/20\n",
      "160/160 [==============================] - 199s 1s/step - loss: 0.3629 - val_loss: 0.3657\n",
      "Epoch 18/20\n",
      "160/160 [==============================] - 201s 1s/step - loss: 0.3621 - val_loss: 0.3655\n",
      "Epoch 19/20\n",
      "160/160 [==============================] - 198s 1s/step - loss: 0.3614 - val_loss: 0.3644\n",
      "Epoch 20/20\n",
      "160/160 [==============================] - 201s 1s/step - loss: 0.3608 - val_loss: 0.3648\n"
     ]
    }
   ],
   "source": [
    "with tf.device('/device:GPU:0'): \n",
    "    history60 = model.fit_generator(train_dataloader, steps_per_epoch=train_steps, epochs=20, validation_data=train_dataloader, validation_steps=train_steps, callbacks=[lr,es])"
   ]
  },
  {
   "cell_type": "code",
   "execution_count": null,
   "metadata": {
    "id": "4jA9i-0K9R0j"
   },
   "outputs": [],
   "source": [
    "model.save_weights(model_path + 'att60/' + 'attention60', save_format='tf') "
   ]
  },
  {
   "cell_type": "code",
   "execution_count": null,
   "metadata": {
    "colab": {
     "base_uri": "https://localhost:8080/",
     "height": 301
    },
    "id": "YQT0eMI49TPq",
    "outputId": "8edc7019-6e0e-4d89-e67e-dd1407228b4a"
   },
   "outputs": [
    {
     "data": {
      "image/png": "[encoded data removed]",
      "text/plain": [
       "<Figure size 432x288 with 1 Axes>"
      ]
     },
     "metadata": {
      "tags": []
     },
     "output_type": "display_data"
    }
   ],
   "source": [
    "plt.plot(history60.history['loss'])\n",
    "plt.plot(history60.history['val_loss'])\n",
    "plt.title('model loss')\n",
    "plt.ylabel('loss')\n",
    "plt.xlabel('epoch')\n",
    "plt.legend(['train', 'test'], loc='upper right')\n",
    "plt.show()"
   ]
  },
  {
   "cell_type": "markdown",
   "metadata": {
    "id": "ZkVcYdPyRbEE"
   },
   "source": [
    "80 Epoch"
   ]
  },
  {
   "cell_type": "code",
   "execution_count": null,
   "metadata": {
    "colab": {
     "base_uri": "https://localhost:8080/"
    },
    "id": "sy7OtaovIttl",
    "outputId": "3fa4eaa0-0671-4a10-b865-df4724a7099b"
   },
   "outputs": [
    {
     "name": "stdout",
     "output_type": "stream",
     "text": [
      "Epoch 1/20\n",
      "160/160 [==============================] - 204s 1s/step - loss: 0.3601 - val_loss: 0.3634\n",
      "Epoch 2/20\n",
      "160/160 [==============================] - 196s 1s/step - loss: 0.3591 - val_loss: 0.3630\n",
      "Epoch 3/20\n",
      "160/160 [==============================] - 197s 1s/step - loss: 0.3585 - val_loss: 0.3619\n",
      "Epoch 4/20\n",
      "160/160 [==============================] - 196s 1s/step - loss: 0.3580 - val_loss: 0.3624\n",
      "Epoch 5/20\n",
      "160/160 [==============================] - 196s 1s/step - loss: 0.3572 - val_loss: 0.3609\n",
      "Epoch 6/20\n",
      "160/160 [==============================] - 196s 1s/step - loss: 0.3566 - val_loss: 0.3606\n",
      "Epoch 7/20\n",
      "160/160 [==============================] - 195s 1s/step - loss: 0.3561 - val_loss: 0.3602\n",
      "Epoch 8/20\n",
      "160/160 [==============================] - 193s 1s/step - loss: 0.3555 - val_loss: 0.3596\n",
      "Epoch 9/20\n",
      "160/160 [==============================] - 193s 1s/step - loss: 0.3551 - val_loss: 0.3604\n",
      "Epoch 10/20\n",
      "160/160 [==============================] - 192s 1s/step - loss: 0.3545 - val_loss: 0.3590\n",
      "Epoch 11/20\n",
      "160/160 [==============================] - 190s 1s/step - loss: 0.3544 - val_loss: 0.3595\n",
      "Restoring model weights from the end of the best epoch.\n",
      "Epoch 00011: early stopping\n"
     ]
    }
   ],
   "source": [
    "with tf.device('/device:GPU:0'): \n",
    "    history80 = model.fit_generator(train_dataloader, steps_per_epoch=train_steps, epochs=20, validation_data=train_dataloader, validation_steps=train_steps, callbacks=[lr,es])"
   ]
  },
  {
   "cell_type": "code",
   "execution_count": null,
   "metadata": {
    "id": "e-Umg4B8pChw"
   },
   "outputs": [],
   "source": [
    "model.save_weights(model_path + 'att80/' + 'attention80', save_format='tf') "
   ]
  },
  {
   "cell_type": "code",
   "execution_count": null,
   "metadata": {
    "colab": {
     "base_uri": "https://localhost:8080/",
     "height": 301
    },
    "id": "uS8jiMzm9QIK",
    "outputId": "9caf63c4-ba19-415f-99f1-fb2d552e1a9f"
   },
   "outputs": [
    {
     "data": {
      "image/png": "[encoded data removed]",
      "text/plain": [
       "<Figure size 432x288 with 1 Axes>"
      ]
     },
     "metadata": {
      "tags": []
     },
     "output_type": "display_data"
    }
   ],
   "source": [
    "plt.plot(history80.history['loss'])\n",
    "plt.plot(history80.history['val_loss'])\n",
    "plt.title('model loss')\n",
    "plt.ylabel('loss')\n",
    "plt.xlabel('epoch')\n",
    "plt.legend(['train', 'test'], loc='upper right')\n",
    "plt.show()"
   ]
  },
  {
   "cell_type": "markdown",
   "metadata": {
    "id": "eBrkUqtNT6Pn"
   },
   "source": [
    "## Model Prediction"
   ]
  },
  {
   "cell_type": "code",
   "execution_count": null,
   "metadata": {
    "id": "MP3kLZoPMvSu"
   },
   "outputs": [],
   "source": [
    "def predict(input_sentence):\n",
    "\n",
    "  batch_size = 1 \n",
    "  DECODER_SEQ_LEN = 110\n",
    "  predict_word_idx = np.zeros((1, 1))\n",
    "  predict_word_idx[0,0] = 1\n",
    "  predicted_sentence = ''\n",
    "\n",
    "  input_sequence=tokenizer_i.texts_to_sequences([input_sentence])\n",
    "  inputs=pad_sequences(input_sequence,maxlen=110,padding='post')\n",
    "  inputs=tf.convert_to_tensor(inputs)\n",
    "\n",
    "  enc_output, state_h, state_c = model.layers[0](inputs)\n",
    "\n",
    "  for i in range(DECODER_SEQ_LEN):\n",
    "      dec_output, state_h, state_c, attention_weights, context_vector = model.layers[1].one_step_decoder(predict_word_idx, enc_output, state_h, state_c)\n",
    "      predict_word_idx = np.reshape(np.argmax(dec_output), (1, 1))\n",
    "      predicted_sentence += '' + tokenizer_o.index_word[int(predict_word_idx)]\n",
    "\n",
    "      if tokenizer_o.word_index['\\n'] == predict_word_idx:\n",
    "          return predicted_sentence\n",
    "      dec_input = tf.expand_dims([predict_word_idx],0)\n",
    "  return predicted_sentence\n",
    "\n",
    "#----------------------------------------------------------------------------------------------------\n",
    "import nltk.translate.bleu_score as bleu\n",
    "\n",
    "def get_BLEU(model, train, test):\n",
    "    total_bleu=0\n",
    "    input_range = 100\n",
    "    for i in range(0,input_range):\n",
    "        output_sentence = train['output_text_out'].iloc[i]\n",
    "        predicted_sentence = predict(train['input_text'].iloc[i])\n",
    "        output_sentence = [output_sentence.split()]\n",
    "        predicted_sentence = predicted_sentence.split()\n",
    "        bleu_score = bleu.sentence_bleu(output_sentence, predicted_sentence)\n",
    "        total_bleu += bleu_score\n",
    "    train_avg_bleu = total_bleu/input_range\n",
    "\n",
    "    total_bleu=0\n",
    "    input_range = 100\n",
    "    for i in range(0,input_range):\n",
    "        output_sentence = test['output_text_out'].iloc[i]\n",
    "        predicted_sentence = predict(test['input_text'].iloc[i])\n",
    "        output_sentence = [output_sentence.split()]\n",
    "        predicted_sentence = predicted_sentence.split()\n",
    "        bleu_score = bleu.sentence_bleu(output_sentence, predicted_sentence)\n",
    "        total_bleu += bleu_score\n",
    "    test_avg_bleu = total_bleu/input_range\n",
    "\n",
    "    print('Train BLEU Score:', train_avg_bleu)\n",
    "    print('Test BLEU Score:', test_avg_bleu)"
   ]
  },
  {
   "cell_type": "code",
   "execution_count": null,
   "metadata": {
    "colab": {
     "base_uri": "https://localhost:8080/"
    },
    "id": "JAWqqlwLap_R",
    "outputId": "19df536a-566f-4d55-ce2b-2714221c4a84"
   },
   "outputs": [
    {
     "name": "stdout",
     "output_type": "stream",
     "text": [
      "SUMMARY OF AVERAGE BLEU SCORE AT EPOCHS\n",
      "--------------------------------------------------\n",
      "Epoch 20\n",
      "Train BLEU Score: 0.02745612211648893\n",
      "Test BLEU Score: 0.06004211221613829\n",
      "==================================================\n",
      "Epoch 40\n",
      "Train BLEU Score: 0.053523445267987996\n",
      "Test BLEU Score: 0.05580563192068619\n",
      "==================================================\n",
      "Epoch 60\n",
      "Train BLEU Score: 0.017915248934522874\n",
      "Test BLEU Score: 0.054125939974752645\n",
      "==================================================\n",
      "Epoch 80\n",
      "Train BLEU Score: 0.012928059488686987\n",
      "Test BLEU Score: 0.03551364317421554\n",
      "==================================================\n"
     ]
    }
   ],
   "source": [
    "print('SUMMARY OF AVERAGE BLEU SCORE AT EPOCHS')\n",
    "print('-'*50)\n",
    "\n",
    "print('Epoch 20')\n",
    "model.load_weights(model_path + 'att20/' + 'attention20')\n",
    "get_BLEU(model, train, test)\n",
    "print('='*50)\n",
    "\n",
    "print('Epoch 40')\n",
    "model.load_weights(model_path + 'att40/' + 'attention40')\n",
    "get_BLEU(model, train, test)\n",
    "print('='*50)\n",
    "\n",
    "print('Epoch 60')\n",
    "model.load_weights(model_path + 'att60/' + 'attention60')\n",
    "get_BLEU(model, train, test)\n",
    "print('='*50)\n",
    "\n",
    "print('Epoch 80')\n",
    "model.load_weights(model_path + 'att80/' + 'attention80')\n",
    "get_BLEU(model, train, test)\n",
    "print('='*50)"
   ]
  },
  {
   "cell_type": "code",
   "execution_count": null,
   "metadata": {
    "colab": {
     "base_uri": "https://localhost:8080/"
    },
    "id": "1qhtsW0NbrAT",
    "outputId": "88785ca3-cc7e-4249-fb3d-575019a43303"
   },
   "outputs": [
    {
     "data": {
      "text/plain": [
       "<tensorflow.python.training.tracking.util.CheckpointLoadStatus at 0x7fb82372cad0>"
      ]
     },
     "execution_count": 17,
     "metadata": {
      "tags": []
     },
     "output_type": "execute_result"
    }
   ],
   "source": [
    "model.load_weights(model_path + 'att40/' + 'attention40')"
   ]
  },
  {
   "cell_type": "markdown",
   "metadata": {
    "id": "n6bB2DT8afA7"
   },
   "source": [
    "Train"
   ]
  },
  {
   "cell_type": "code",
   "execution_count": null,
   "metadata": {
    "colab": {
     "base_uri": "https://localhost:8080/"
    },
    "id": "h5s2uymrajhg",
    "outputId": "528ac1e4-04e6-4216-f831-c481cf8e3d66"
   },
   "outputs": [
    {
     "name": "stdout",
     "output_type": "stream",
     "text": [
      "Input Text: I learned English first time .\n",
      "Output Text: I learned English for the first time . \n",
      "\n",
      "Predicted Text: hr ea naeie ng sa ogtr ntii     o eal      o eal      o eate       o eate   \n",
      "\n",
      "========================================================================================================================\n",
      "Input Text: Its inside was some stirred vegetable like sprouts and thin pork meat .\n",
      "Output Text: Inside of it were some stirred vegetables like sprouts and thin pork meat . \n",
      "\n",
      "Predicted Text: hsie o i i i i i i i i i i i i i i i i i i i i i i i i i i i i i i i i i i i i i i i i i i i i i i i i i i i i\n",
      "========================================================================================================================\n",
      "Input Text: All I need to watch movies is just waiting .\n",
      "Output Text: All I need to do to watch movies is just wait . \n",
      "\n",
      "Predicted Text: o   o et evnywrcie i ostn a us usbu  i ostnae  i ostnae.\n",
      "\n",
      "========================================================================================================================\n",
      "Input Text: I think my english sentence is sheesy . . .\n",
      "Output Text: I think my English sentences are cheesy . . . \n",
      "\n",
      "Predicted Text:  hvrytig sees hses hrey                etlns           etlns\n",
      "\n",
      "========================================================================================================================\n",
      "Input Text: We were very depressed and dropped by a bar on the way back home .\n",
      "Output Text: We were very depressed and dropped by a bar on the way home . \n",
      "\n",
      "Predicted Text: o eae eee eprssdde ad ra o eopedbr  o te aeebu hme   o eprse eprs eprs eprs   o  o eore   o eoree   o eoree   \n",
      "========================================================================================================================\n"
     ]
    }
   ],
   "source": [
    "for i in range(len(train[:5])):\n",
    "    print(\"Input Text:\", train['input_text'].iloc[i])\n",
    "    print(\"Output Text:\", train['output_text_out'].iloc[i])\n",
    "    print(\"Predicted Text:\", predict(train['input_text'].iloc[i]))\n",
    "    print('='*120)"
   ]
  },
  {
   "cell_type": "markdown",
   "metadata": {
    "id": "5mqGO3ENadzN"
   },
   "source": [
    "Test"
   ]
  },
  {
   "cell_type": "code",
   "execution_count": null,
   "metadata": {
    "colab": {
     "base_uri": "https://localhost:8080/"
    },
    "id": "qT56tjoEU0ek",
    "outputId": "d3b0a61d-f2e2-4930-a759-7f2a47e0b124"
   },
   "outputs": [
    {
     "name": "stdout",
     "output_type": "stream",
     "text": [
      "Input Text: what about your father ?\n",
      "Output Text: What about your father ? \n",
      "\n",
      "Predicted Text: hvr i rtr ot fuh raee   o  te otefrtr       o  te otefrtr       o  te otefrtr       o  te otefrtr       o  te \n",
      "========================================================================================================================\n",
      "Input Text: I and my brother started to find a good quality book .\n",
      "Output Text: My brother and I started to find a good quality book . \n",
      "\n",
      "Predicted Text: o ada  o b o b o fre etrtn nt fne ada o  aa  o nad u o  aa  o   o ad ntbrtn   \n",
      "\n",
      "========================================================================================================================\n",
      "Input Text: That 's way he 's always have a meal beyound midnight and talk me eat together .\n",
      "Output Text: That way he 's always have a meal beyond midnight and talking , trying to get me to eat with him . \n",
      "\n",
      "Predicted Text: ha     a atalae hvra  ea byout o ea o ea o et tlk e og hr  o et tae o ea lwyte   \n",
      "\n",
      "========================================================================================================================\n",
      "Input Text: Of course , someday the day will come to me if I meet my half . . .\n",
      "Output Text: Of course , the day will come when I will meet my half . . . \n",
      "\n",
      "Predicted Text: i te o ate o am o et ee o am o ea o o emriis o m i                                                            \n",
      "========================================================================================================================\n",
      "Input Text: But I 'm so happy if they are really exist .\n",
      "Output Text: But I 'm so happy if they really exist . \n",
      "\n",
      "Predicted Text: hvastn            a aa raly xist       a aa raly          a a aa  eas.\n",
      "\n",
      "========================================================================================================================\n"
     ]
    }
   ],
   "source": [
    "for i in range(len(test[:5])):\n",
    "    print(\"Input Text:\", test['input_text'].iloc[i])\n",
    "    print(\"Output Text:\", test['output_text_out'].iloc[i])\n",
    "    print(\"Predicted Text:\", predict(test['input_text'].iloc[i]))\n",
    "    print('='*120)"
   ]
  }
 ],
 "metadata": {
  "colab": {
   "collapsed_sections": [],
   "name": "4_1_Attention_1LSTM_&_Scratch_Embed_(C).ipynb",
   "provenance": [],
   "toc_visible": true
  },
  "kernelspec": {
   "display_name": "Python 3",
   "language": "python",
   "name": "python3"
  },
  "language_info": {
   "codemirror_mode": {
    "name": "ipython",
    "version": 3
   },
   "file_extension": ".py",
   "mimetype": "text/x-python",
   "name": "python",
   "nbconvert_exporter": "python",
   "pygments_lexer": "ipython3",
   "version": "3.8.8"
  }
 },
 "nbformat": 4,
 "nbformat_minor": 1
}
