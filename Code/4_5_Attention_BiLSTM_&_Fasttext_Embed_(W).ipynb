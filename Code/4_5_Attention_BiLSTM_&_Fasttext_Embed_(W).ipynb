{
 "cells": [
  {
   "cell_type": "markdown",
   "metadata": {
    "id": "mG_1reu7uM74"
   },
   "source": [
    "# Encoder-Decoder Model with Attention: Bidirectional LSTM & Fasttext Embedding\n",
    "# (Word Level)"
   ]
  },
  {
   "cell_type": "markdown",
   "metadata": {
    "id": "q2-EJqakEV8z"
   },
   "source": [
    "## Loading Libraries"
   ]
  },
  {
   "cell_type": "code",
   "execution_count": null,
   "metadata": {
    "id": "C8c3NwDGZSdh"
   },
   "outputs": [],
   "source": [
    "import matplotlib.pyplot as plt\n",
    "import seaborn as sns\n",
    "sns.set_theme()\n",
    "import pandas as pd\n",
    "import re\n",
    "import datetime\n",
    "import numpy as np\n",
    "from tqdm import tqdm\n",
    "from sklearn.model_selection import train_test_split\n",
    "import nltk.translate.bleu_score as bleu\n",
    "import tensorflow as tf\n",
    "from tensorflow.keras.layers import Input, Softmax, RNN, Dense, Embedding, LSTM, Flatten, Activation, Bidirectional, Concatenate\n",
    "from tensorflow.keras.models import Model\n",
    "from tensorflow.keras.preprocessing.text import Tokenizer\n",
    "from tensorflow.keras.preprocessing.sequence import pad_sequences\n",
    "from tensorflow.keras.callbacks import TensorBoard\n",
    "import matplotlib.ticker as ticker\n",
    "import warnings\n",
    "warnings.filterwarnings(\"ignore\")"
   ]
  },
  {
   "cell_type": "code",
   "execution_count": null,
   "metadata": {
    "colab": {
     "base_uri": "https://localhost:8080/"
    },
    "id": "VWejJV0H_sLd",
    "outputId": "d6deeaa5-9e26-43d0-b6e6-38078264b08f"
   },
   "outputs": [
    {
     "name": "stdout",
     "output_type": "stream",
     "text": [
      "Mounted at /content/drive\n"
     ]
    }
   ],
   "source": [
    "from google.colab import drive\n",
    "drive.mount('/content/drive')"
   ]
  },
  {
   "cell_type": "markdown",
   "metadata": {
    "id": "4fnNqtyMCwm9"
   },
   "source": [
    "## Loading Dataset"
   ]
  },
  {
   "cell_type": "code",
   "execution_count": null,
   "metadata": {
    "id": "ZjnALK_l5Vpe"
   },
   "outputs": [],
   "source": [
    "data_path = '/content/drive/MyDrive/CS2/2.Datasets/'\n",
    "model_path = '/content/drive/MyDrive/CS2/3.Models/4_5_Attention-Bi-Word-Fasttext/'"
   ]
  },
  {
   "cell_type": "code",
   "execution_count": null,
   "metadata": {
    "colab": {
     "base_uri": "https://localhost:8080/",
     "height": 216
    },
    "id": "8IYsmHjRufNN",
    "outputId": "f261cad1-0ec7-4b92-a046-d8cc2ad003a3"
   },
   "outputs": [
    {
     "name": "stdout",
     "output_type": "stream",
     "text": [
      "(101717, 2)\n"
     ]
    },
    {
     "data": {
      "text/html": [
       "<div>\n",
       "<style scoped>\n",
       "    .dataframe tbody tr th:only-of-type {\n",
       "        vertical-align: middle;\n",
       "    }\n",
       "\n",
       "    .dataframe tbody tr th {\n",
       "        vertical-align: top;\n",
       "    }\n",
       "\n",
       "    .dataframe thead th {\n",
       "        text-align: right;\n",
       "    }\n",
       "</style>\n",
       "<table border=\"1\" class=\"dataframe\">\n",
       "  <thead>\n",
       "    <tr style=\"text-align: right;\">\n",
       "      <th></th>\n",
       "      <th>input_text</th>\n",
       "      <th>output_text</th>\n",
       "    </tr>\n",
       "  </thead>\n",
       "  <tbody>\n",
       "    <tr>\n",
       "      <th>0</th>\n",
       "      <td>Ofcouse , I love cheap fashion , fast fashion ...</td>\n",
       "      <td>Of course , I love cheap , fast fashion like f...</td>\n",
       "    </tr>\n",
       "    <tr>\n",
       "      <th>1</th>\n",
       "      <td>If he want to listen to music that I do n't li...</td>\n",
       "      <td>If he wants to listen to music that I do n't l...</td>\n",
       "    </tr>\n",
       "    <tr>\n",
       "      <th>2</th>\n",
       "      <td>This happened because of the cultural differen...</td>\n",
       "      <td>This happened because of the cultural differen...</td>\n",
       "    </tr>\n",
       "    <tr>\n",
       "      <th>3</th>\n",
       "      <td>I 'm gon na earn much money to study abroad .</td>\n",
       "      <td>I 'm gon na earn enough money to study abroad .</td>\n",
       "    </tr>\n",
       "    <tr>\n",
       "      <th>4</th>\n",
       "      <td>It is not difficult for me but answer phones a...</td>\n",
       "      <td>It is not difficult for me but answering the p...</td>\n",
       "    </tr>\n",
       "  </tbody>\n",
       "</table>\n",
       "</div>"
      ],
      "text/plain": [
       "                                          input_text                                        output_text\n",
       "0  Ofcouse , I love cheap fashion , fast fashion ...  Of course , I love cheap , fast fashion like f...\n",
       "1  If he want to listen to music that I do n't li...  If he wants to listen to music that I do n't l...\n",
       "2  This happened because of the cultural differen...  This happened because of the cultural differen...\n",
       "3      I 'm gon na earn much money to study abroad .    I 'm gon na earn enough money to study abroad .\n",
       "4  It is not difficult for me but answer phones a...  It is not difficult for me but answering the p..."
      ]
     },
     "execution_count": 4,
     "metadata": {
      "tags": []
     },
     "output_type": "execute_result"
    }
   ],
   "source": [
    "data = pd.read_csv(data_path + 'final_data.csv')\n",
    "print(data.shape)\n",
    "data.head()"
   ]
  },
  {
   "cell_type": "markdown",
   "metadata": {
    "id": "NCL5fOC6C28O"
   },
   "source": [
    "## Preprocess Data"
   ]
  },
  {
   "cell_type": "code",
   "execution_count": null,
   "metadata": {
    "id": "W1ZycZ1xT_E1"
   },
   "outputs": [],
   "source": [
    "def clean(text):\n",
    "    text = re.sub('<.*>', '', text)\n",
    "    text = re.sub('\\(.*\\)', '', text)\n",
    "    text = re.sub('\\[.*\\]', '', text)\n",
    "    text = re.sub('{.*}', '', text)\n",
    "    text = re.sub(\"[-+@#^/|*(){}$~`<>=_]\",\"\",text)\n",
    "    text = text.replace(\"\\\\\",\"\")\n",
    "    text = re.sub(\"\\[\",\"\",text)\n",
    "    text = re.sub(\"\\]\",\"\",text)\n",
    "    text = re.sub(\"[0-9]\",\"\",text)\n",
    "    return text\n",
    "\n",
    "data['input_text'] = data['input_text'].apply(lambda x: clean(x))\n",
    "data['output_text'] = data['output_text'].apply(lambda x: clean(x))"
   ]
  },
  {
   "cell_type": "code",
   "execution_count": null,
   "metadata": {
    "id": "9QqElB_nKZos"
   },
   "outputs": [],
   "source": [
    "def preprocessing(data):\n",
    "   \n",
    "    data['input_text_length'] = data['input_text'].str.split().apply(len)\n",
    "    data['output_text_length'] = data['output_text'].str.split().apply(len)\n",
    "\n",
    "    data = data[data['input_text_length'] < 25]\n",
    "    data = data[data['output_text_length'] < 25]\n",
    "\n",
    "    data['output_text_in'] = '<start> ' + data['output_text'].astype(str)\n",
    "    data['output_text_out'] = data['output_text'].astype(str) + ' <end>'\n",
    "\n",
    "    data = data.drop(['input_text_length','output_text_length','output_text'], axis=1)\n",
    "    return data"
   ]
  },
  {
   "cell_type": "code",
   "execution_count": null,
   "metadata": {
    "colab": {
     "base_uri": "https://localhost:8080/",
     "height": 216
    },
    "id": "s4yTTU8cD93w",
    "outputId": "bbc86aa0-61a5-48c3-82ae-5f1d14633613"
   },
   "outputs": [
    {
     "name": "stdout",
     "output_type": "stream",
     "text": [
      "Shape of Dataset: (93503, 3)\n"
     ]
    },
    {
     "data": {
      "text/html": [
       "<div>\n",
       "<style scoped>\n",
       "    .dataframe tbody tr th:only-of-type {\n",
       "        vertical-align: middle;\n",
       "    }\n",
       "\n",
       "    .dataframe tbody tr th {\n",
       "        vertical-align: top;\n",
       "    }\n",
       "\n",
       "    .dataframe thead th {\n",
       "        text-align: right;\n",
       "    }\n",
       "</style>\n",
       "<table border=\"1\" class=\"dataframe\">\n",
       "  <thead>\n",
       "    <tr style=\"text-align: right;\">\n",
       "      <th></th>\n",
       "      <th>input_text</th>\n",
       "      <th>output_text_in</th>\n",
       "      <th>output_text_out</th>\n",
       "    </tr>\n",
       "  </thead>\n",
       "  <tbody>\n",
       "    <tr>\n",
       "      <th>0</th>\n",
       "      <td>Ofcouse , I love cheap fashion , fast fashion ...</td>\n",
       "      <td>&lt;start&gt; Of course , I love cheap , fast fashio...</td>\n",
       "      <td>Of course , I love cheap , fast fashion like f...</td>\n",
       "    </tr>\n",
       "    <tr>\n",
       "      <th>1</th>\n",
       "      <td>If he want to listen to music that I do n't li...</td>\n",
       "      <td>&lt;start&gt; If he wants to listen to music that I ...</td>\n",
       "      <td>If he wants to listen to music that I do n't l...</td>\n",
       "    </tr>\n",
       "    <tr>\n",
       "      <th>2</th>\n",
       "      <td>This happened because of the cultural differen...</td>\n",
       "      <td>&lt;start&gt; This happened because of the cultural ...</td>\n",
       "      <td>This happened because of the cultural differen...</td>\n",
       "    </tr>\n",
       "    <tr>\n",
       "      <th>3</th>\n",
       "      <td>I 'm gon na earn much money to study abroad .</td>\n",
       "      <td>&lt;start&gt; I 'm gon na earn enough money to study...</td>\n",
       "      <td>I 'm gon na earn enough money to study abroad ...</td>\n",
       "    </tr>\n",
       "    <tr>\n",
       "      <th>4</th>\n",
       "      <td>It is not difficult for me but answer phones a...</td>\n",
       "      <td>&lt;start&gt; It is not difficult for me but answeri...</td>\n",
       "      <td>It is not difficult for me but answering the p...</td>\n",
       "    </tr>\n",
       "  </tbody>\n",
       "</table>\n",
       "</div>"
      ],
      "text/plain": [
       "                                          input_text  ...                                    output_text_out\n",
       "0  Ofcouse , I love cheap fashion , fast fashion ...  ...  Of course , I love cheap , fast fashion like f...\n",
       "1  If he want to listen to music that I do n't li...  ...  If he wants to listen to music that I do n't l...\n",
       "2  This happened because of the cultural differen...  ...  This happened because of the cultural differen...\n",
       "3      I 'm gon na earn much money to study abroad .  ...  I 'm gon na earn enough money to study abroad ...\n",
       "4  It is not difficult for me but answer phones a...  ...  It is not difficult for me but answering the p...\n",
       "\n",
       "[5 rows x 3 columns]"
      ]
     },
     "execution_count": 7,
     "metadata": {
      "tags": []
     },
     "output_type": "execute_result"
    }
   ],
   "source": [
    "data = preprocessing(data)\n",
    "\n",
    "data.iloc[0]['output_text_in'] = str(data.iloc[0]['output_text_in'])+' <end>'\n",
    "data.iloc[0]['output_text_out'] = str(data.iloc[0]['output_text_out'])+' <end>'\n",
    "\n",
    "print('Shape of Dataset:', data.shape)\n",
    "data.head()"
   ]
  },
  {
   "cell_type": "markdown",
   "metadata": {
    "id": "Dx2iV7_sC_aJ"
   },
   "source": [
    "## Train Test Split"
   ]
  },
  {
   "cell_type": "code",
   "execution_count": null,
   "metadata": {
    "colab": {
     "base_uri": "https://localhost:8080/"
    },
    "id": "nwq2jKcGZzt-",
    "outputId": "a8b59da6-5f44-4748-ab5c-02babfded09a"
   },
   "outputs": [
    {
     "name": "stdout",
     "output_type": "stream",
     "text": [
      "Shape of Train Data: (84152, 3)\n",
      "Shape of Test Data: (9351, 3)\n"
     ]
    }
   ],
   "source": [
    "train, test = train_test_split(data, test_size=0.1, random_state=42)\n",
    "print('Shape of Train Data:', train.shape)\n",
    "print('Shape of Test Data:', test.shape)"
   ]
  },
  {
   "cell_type": "markdown",
   "metadata": {
    "id": "uiR00g4hDEtl"
   },
   "source": [
    "## Tokenization"
   ]
  },
  {
   "cell_type": "code",
   "execution_count": null,
   "metadata": {
    "colab": {
     "base_uri": "https://localhost:8080/"
    },
    "id": "cEqQKioDaFS6",
    "outputId": "545f87a0-26ee-40ce-80d7-d5c46c9e581d"
   },
   "outputs": [
    {
     "name": "stdout",
     "output_type": "stream",
     "text": [
      "Input Vocab Size: 35510\n",
      "Output Vocab Size: 29350\n"
     ]
    }
   ],
   "source": [
    "tokenizer_i = Tokenizer(filters=\"\", char_level=False, lower=False)\n",
    "tokenizer_o = Tokenizer(filters=\"\", char_level=False, lower=False)\n",
    "\n",
    "tokenizer_i.fit_on_texts(train['input_text'].values)\n",
    "tokenizer_o.fit_on_texts(train['output_text_in'].values)\n",
    "\n",
    "vocab_size_input = len(tokenizer_i.word_index.keys())\n",
    "print('Input Vocab Size:', vocab_size_input)\n",
    "\n",
    "vocab_size_output = len(tokenizer_o.word_index.keys())\n",
    "print('Output Vocab Size:', vocab_size_output)"
   ]
  },
  {
   "cell_type": "code",
   "execution_count": null,
   "metadata": {
    "id": "db8sgXK6dHZ0"
   },
   "outputs": [],
   "source": [
    "input_vocab = tokenizer_i.word_index\n",
    "output_vocab = tokenizer_o.word_index"
   ]
  },
  {
   "cell_type": "markdown",
   "metadata": {
    "id": "aFL5Yw4ndN9e"
   },
   "source": [
    "## Fasttext Embedding"
   ]
  },
  {
   "cell_type": "code",
   "execution_count": null,
   "metadata": {
    "colab": {
     "base_uri": "https://localhost:8080/"
    },
    "id": "iazPYMw2c8Cu",
    "outputId": "7eccb2dd-fb3e-4ac7-dd13-3e1dbeb3a23c"
   },
   "outputs": [
    {
     "name": "stdout",
     "output_type": "stream",
     "text": [
      "--2021-08-11 11:14:04--  https://dl.fbaipublicfiles.com/fasttext/vectors-english/wiki-news-300d-1M.vec.zip\n",
      "Resolving dl.fbaipublicfiles.com (dl.fbaipublicfiles.com)... 104.22.75.142, 172.67.9.4, 104.22.74.142, ...\n",
      "Connecting to dl.fbaipublicfiles.com (dl.fbaipublicfiles.com)|104.22.75.142|:443... connected.\n",
      "HTTP request sent, awaiting response... 200 OK\n",
      "Length: 681808098 (650M) [application/zip]\n",
      "Saving to: ‘wiki-news-300d-1M.vec.zip’\n",
      "\n",
      "wiki-news-300d-1M.v 100%[===================>] 650.22M  20.9MB/s    in 32s     \n",
      "\n",
      "2021-08-11 11:14:37 (20.5 MB/s) - ‘wiki-news-300d-1M.vec.zip’ saved [681808098/681808098]\n",
      "\n",
      "Archive:  wiki-news-300d-1M.vec.zip\n",
      "  inflating: wiki-news-300d-1M.vec   \n"
     ]
    }
   ],
   "source": [
    "!wget https://dl.fbaipublicfiles.com/fasttext/vectors-english/wiki-news-300d-1M.vec.zip\n",
    "!unzip wiki-news-300d-1M.vec.zip"
   ]
  },
  {
   "cell_type": "code",
   "execution_count": null,
   "metadata": {
    "colab": {
     "base_uri": "https://localhost:8080/"
    },
    "id": "qyYLrLlHc_e0",
    "outputId": "2efa03a0-811e-4f97-ddd2-fed1e59e97ac"
   },
   "outputs": [
    {
     "name": "stdout",
     "output_type": "stream",
     "text": [
      "Loaded word vectors = 999995\n",
      "Shape of Encoder Embedding Matrix = (35511, 300)\n",
      "Shape of Decoder Embedding Matrix = (29351, 300)\n"
     ]
    }
   ],
   "source": [
    "# load the whole embedding into memory\n",
    "embeddings_index = dict()\n",
    "f = open('wiki-news-300d-1M.vec') \n",
    "for line in f:\n",
    "\tvalues = line.split()\n",
    "\tword = values[0]\n",
    "\tcoefs = np.asarray(values[1:], dtype='float32')\n",
    "\tembeddings_index[word] = coefs\n",
    "f.close()\n",
    "print('Loaded word vectors =', len(embeddings_index))\n",
    "\n",
    "# create a weight matrix for words in training docs\n",
    "encoder_embedding_matrix_fast = np.zeros((len(input_vocab)+1, 300))\n",
    "for word, i in input_vocab.items():\n",
    "\tembedding_vector = embeddings_index.get(word)\n",
    "\tif embedding_vector is not None:\n",
    "\t\tencoder_embedding_matrix_fast[i] = embedding_vector\n",
    "print('Shape of Encoder Embedding Matrix =', encoder_embedding_matrix_fast.shape)\n",
    "\n",
    "# create a weight matrix for words in training docs\n",
    "decoder_embedding_matrix_fast = np.zeros((len(output_vocab)+1, 300))\n",
    "for word, i in output_vocab.items():\n",
    "\tembedding_vector = embeddings_index.get(word)\n",
    "\tif embedding_vector is not None:\n",
    "\t\tdecoder_embedding_matrix_fast[i] = embedding_vector\n",
    "print('Shape of Decoder Embedding Matrix =', decoder_embedding_matrix_fast.shape)"
   ]
  },
  {
   "cell_type": "markdown",
   "metadata": {
    "id": "JfknU1OTDyDe"
   },
   "source": [
    "## Data Pipeline"
   ]
  },
  {
   "cell_type": "code",
   "execution_count": null,
   "metadata": {
    "id": "MLYD6-FR7iZ3"
   },
   "outputs": [],
   "source": [
    "class Dataset:\n",
    "    def __init__(self, data, tokenizer_i, tokenizer_o, max_len_enc, max_len_dec):\n",
    "        self.encoder_inps = data['input_text'].values\n",
    "        self.decoder_inps = data['output_text_in'].values\n",
    "        self.decoder_outs = data['output_text_out'].values\n",
    "        self.tokenizer_o = tokenizer_o\n",
    "        self.tokenizer_i = tokenizer_i\n",
    "        self.max_len_enc = max_len_enc\n",
    "        self.max_len_dec = max_len_dec\n",
    "\n",
    "\n",
    "    def __getitem__(self, i):\n",
    "        self.encoder_seq = self.tokenizer_i.texts_to_sequences([self.encoder_inps[i]]) \n",
    "        self.decoder_inp_seq = self.tokenizer_o.texts_to_sequences([self.decoder_inps[i]])\n",
    "        self.decoder_out_seq = self.tokenizer_o.texts_to_sequences([self.decoder_outs[i]])\n",
    "\n",
    "        self.encoder_seq = pad_sequences(self.encoder_seq, maxlen=self.max_len_enc, dtype='int32', padding='post')\n",
    "        self.decoder_inp_seq = pad_sequences(self.decoder_inp_seq, maxlen=self.max_len_dec, dtype='int32', padding='post')\n",
    "        self.decoder_out_seq = pad_sequences(self.decoder_out_seq, maxlen=self.max_len_dec, dtype='int32', padding='post')\n",
    "        return self.encoder_seq, self.decoder_inp_seq, self.decoder_out_seq\n",
    "\n",
    "    def __len__(self):\n",
    "        return len(self.encoder_inps)\n",
    "\n",
    "    \n",
    "class Dataloder(tf.keras.utils.Sequence):    \n",
    "    def __init__(self, dataset, batch_size=1):\n",
    "        self.dataset = dataset\n",
    "        self.batch_size = batch_size\n",
    "        self.indexes = np.arange(len(self.dataset.encoder_inps))\n",
    "\n",
    "\n",
    "    def __getitem__(self, i):\n",
    "        start = i * self.batch_size\n",
    "        stop = (i + 1) * self.batch_size\n",
    "        data = []\n",
    "        for j in range(start, stop):\n",
    "            data.append(self.dataset[j])\n",
    "\n",
    "        batch = [np.squeeze(np.stack(samples, axis=1), axis=0) for samples in zip(*data)]\n",
    "        return tuple([[batch[0],batch[1]],batch[2]])\n",
    "\n",
    "    def __len__(self): \n",
    "        return len(self.indexes) // self.batch_size\n",
    "\n",
    "    def on_epoch_end(self):\n",
    "        self.indexes = np.random.permutation(self.indexes)"
   ]
  },
  {
   "cell_type": "code",
   "execution_count": null,
   "metadata": {
    "colab": {
     "base_uri": "https://localhost:8080/"
    },
    "id": "yYS7cpfD7n3S",
    "outputId": "8debccc9-2847-484a-c2ec-4f62ceb4f5c2"
   },
   "outputs": [
    {
     "name": "stdout",
     "output_type": "stream",
     "text": [
      "Train Dataloader: (512, 25) (512, 25) (512, 25)\n",
      "Test Dataloader: (512, 25) (512, 25) (512, 25)\n"
     ]
    }
   ],
   "source": [
    "train_dataset = Dataset(train, tokenizer_i, tokenizer_o, 25, 25)\n",
    "test_dataset  = Dataset(test, tokenizer_i, tokenizer_o, 25, 25)\n",
    "\n",
    "train_dataloader = Dataloder(train_dataset, batch_size=512)\n",
    "test_dataloader = Dataloder(test_dataset, batch_size=512)\n",
    "\n",
    "print('Train Dataloader:', train_dataloader[0][0][0].shape, train_dataloader[0][0][1].shape, train_dataloader[0][1].shape)\n",
    "print('Test Dataloader:', test_dataloader[0][0][0].shape, test_dataloader[0][0][1].shape, test_dataloader[0][1].shape)"
   ]
  },
  {
   "cell_type": "markdown",
   "metadata": {
    "id": "1RHXoozdDrug"
   },
   "source": [
    "## Model Building"
   ]
  },
  {
   "cell_type": "code",
   "execution_count": null,
   "metadata": {
    "id": "aCH8qtWgDFcz"
   },
   "outputs": [],
   "source": [
    "class Encoder(tf.keras.Model):\n",
    "    '''\n",
    "    Encoder model -- That takes a input sequence and returns encoder-outputs,encoder_final_state_h,encoder_final_state_c\n",
    "    '''\n",
    "    def __init__(self,in_vocab_size,embedding_dim,enc_units,input_length):\n",
    "        super().__init__()\n",
    "        self.in_vocab_size = in_vocab_size\n",
    "        self.embedding_dim = embedding_dim\n",
    "        self.input_length = input_length\n",
    "        self.enc_units = enc_units\n",
    "\n",
    "    def build(self, input_shape):\n",
    "        self.embedding = Embedding(input_dim=self.in_vocab_size, output_dim=self.embedding_dim, input_length=self.input_length, mask_zero=True, weights=[encoder_embedding_matrix_fast], trainable=False, name=\"Encoder_Embedding\")\n",
    "        self.lstm = Bidirectional(LSTM(self.enc_units, return_state=True, return_sequences=True, name=\"Encoder_LSTM\"))\n",
    "        \n",
    "    def call(self, input_sentences, training=True):\n",
    "        input_embed = self.embedding(input_sentences)\n",
    "        encoder_output, encoder_state_h_fwd, encoder_state_c_fwd, encoder_state_h_bwd, encoder_state_c_bwd = self.lstm(input_embed)\n",
    "        encoder_state_h = Concatenate()([encoder_state_h_fwd, encoder_state_h_bwd])\n",
    "        encoder_state_c = Concatenate()([encoder_state_c_fwd, encoder_state_c_bwd])\n",
    "        return encoder_output, encoder_state_h, encoder_state_c\n",
    "\n",
    "#-----------------------------------------------------------------------------------------------------------------------------------\n",
    "class Attention(tf.keras.layers.Layer):\n",
    "  '''\n",
    "  Class the calculates score based on the scoring_function using Bahdanu attention mechanism.\n",
    "  '''\n",
    "  def __init__(self,scoring_function, att_units):\n",
    "    super().__init__()\n",
    "    self.scoring_function = scoring_function\n",
    "    self.att_units = att_units\n",
    "\n",
    "    if self.scoring_function == 'dot':\n",
    "      pass\n",
    "\n",
    "    if scoring_function == 'general':\n",
    "      self.W = Dense(self.att_units)\n",
    "      \n",
    "    elif scoring_function == 'concat':\n",
    "      self.W1 = Dense(self.att_units)\n",
    "      self.W2 = Dense(self.att_units)\n",
    "      self.Va = Dense(1)\n",
    "  \n",
    "  \n",
    "  def call(self,decoder_hidden_state,encoder_output):\n",
    "    if self.scoring_function == 'dot':\n",
    "        decoder_hidden_state = tf.expand_dims(decoder_hidden_state, 2)\n",
    "        score = tf.matmul(encoder_output, decoder_hidden_state)\n",
    "\n",
    "    elif self.scoring_function == 'general':\n",
    "        decoder_hidden_state = tf.expand_dims(decoder_hidden_state, 2)\n",
    "        score = tf.matmul(self.W(encoder_output), decoder_hidden_state)\n",
    "\n",
    "    elif self.scoring_function == 'concat':\n",
    "        decoder_hidden_state = tf.expand_dims(decoder_hidden_state, 1)\n",
    "        score = self.Va(tf.nn.tanh(self.W1(decoder_hidden_state) + self.W2(encoder_output)))\n",
    "\n",
    "    attention_weight = tf.nn.softmax(score, axis=1)\n",
    "    context_vector = tf.reduce_sum(attention_weight * encoder_output, axis=1)\n",
    "    return context_vector, attention_weight\n",
    "\n",
    "#-----------------------------------------------------------------------------------------------------------------------------------\n",
    "class One_Step_Decoder(tf.keras.Model):\n",
    "  def __init__(self, tar_vocab_size, embedding_dim, input_length, dec_units, score_fun, att_units):\n",
    "      super().__init__()\n",
    "      self.tar_vocab_size = tar_vocab_size\n",
    "      self.embedding_dim = embedding_dim\n",
    "      self.input_length = input_length\n",
    "      self.dec_units= dec_units\n",
    "      self.score_fun = score_fun\n",
    "      self.att_units = att_units\n",
    "\n",
    "  def build(self, input_shape):\n",
    "        self.embedding = Embedding(input_dim=self.tar_vocab_size, output_dim=self.embedding_dim, input_length=self.input_length, mask_zero=True, weights=[decoder_embedding_matrix_fast], trainable=False, name=\"Decoder_Embedding\")\n",
    "        self.lstm = LSTM(self.dec_units*2, return_state=True, return_sequences=True, name=\"Decoder_LSTM\")\n",
    "        self.dense = Dense(self.tar_vocab_size)\n",
    "        self.attention = Attention(self.score_fun, self.att_units)\n",
    "\n",
    "  def call(self,input_to_decoder, encoder_output, state_h, state_c):\n",
    "    \n",
    "    target_embedd = self.embedding(input_to_decoder)\n",
    "\n",
    "    context_vector, attention_weights = self.attention(state_h, encoder_output)\n",
    "    context_vector = tf.expand_dims(context_vector, 1)\n",
    "\n",
    "    decoder_input = tf.concat([target_embedd, context_vector], 2)\n",
    "\n",
    "    decoder_output, decoder_final_state_h, decoder_final_state_c = self.lstm(decoder_input, initial_state=[state_h,state_c])\n",
    "\n",
    "    output = self.dense(decoder_output)\n",
    "\n",
    "    return tf.squeeze(output), decoder_final_state_h, decoder_final_state_c, attention_weights, tf.squeeze(context_vector)\n",
    "\n",
    "#-----------------------------------------------------------------------------------------------------------------------------------\n",
    "class Decoder(tf.keras.Model):\n",
    "    def __init__(self,out_vocab_size, embedding_dim, input_length, dec_units ,score_fun, att_units):\n",
    "      super(Decoder, self).__init__()\n",
    "      self.out_vocab_size = out_vocab_size\n",
    "      self.embedding_dim = embedding_dim\n",
    "      self.input_length = input_length\n",
    "      self.dec_units = dec_units\n",
    "      self.score_fun = score_fun\n",
    "      self.att_units = att_units\n",
    "      self.one_step_decoder = One_Step_Decoder(self.out_vocab_size, self.embedding_dim, self.input_length, self.dec_units, self.score_fun, self.att_units)\n",
    "\n",
    "   \n",
    "    def call(self, input_to_decoder, encoder_output_state, decoder_hidden_state, decoder_cell_state):\n",
    "      all_outputs = tf.TensorArray(tf.float32, size=tf.shape(input_to_decoder)[1], name=\"output_arrays\")\n",
    "\n",
    "      for timestep in range(tf.shape(input_to_decoder)[1]):\n",
    "        output, decoder_hidden_state, decoder_cell_state, attention_weights, context_vector = self.one_step_decoder(input_to_decoder[:,timestep:timestep+1], encoder_output_state, decoder_hidden_state, decoder_cell_state)\n",
    "        all_outputs = all_outputs.write(timestep, output)\n",
    "\n",
    "      all_outputs = tf.transpose(all_outputs.stack(), [1, 0, 2])\n",
    "      return all_outputs\n",
    "\n",
    "#-----------------------------------------------------------------------------------------------------------------------------------\n",
    "class Encoder_Decoder(tf.keras.Model):\n",
    "  def __init__(self, encoder_inputs_length, decoder_inputs_length, input_vocab_size, output_vocab_size, embedding_dim, enc_units, dec_units, att_units, batch_size, score_fun, name='Encoder-Decoder-Attention'):\n",
    "    super().__init__(name=name)\n",
    "    self.encoder = Encoder(in_vocab_size=input_vocab_size+1, embedding_dim=embedding_dim, enc_units=enc_units, input_length=encoder_inputs_length)\n",
    "    self.decoder = Decoder(out_vocab_size=output_vocab_size+1, embedding_dim=embedding_dim, input_length=decoder_inputs_length, dec_units=dec_units, score_fun=score_fun, att_units=att_units)\n",
    "    self.batch_size = batch_size\n",
    "\n",
    "  def call(self,data):\n",
    "\n",
    "    input, output = data[0], data[1]\n",
    "\n",
    "    encoder_output, encoder_h, encoder_c = self.encoder(input)\n",
    "    decoder_output = self.decoder(output, encoder_output, encoder_h, encoder_c)\n",
    "    return decoder_output"
   ]
  },
  {
   "cell_type": "markdown",
   "metadata": {
    "id": "ioBubCAmEHWN"
   },
   "source": [
    "## Custom Loss Function"
   ]
  },
  {
   "cell_type": "code",
   "execution_count": null,
   "metadata": {
    "id": "QY_3izrXMs8y"
   },
   "outputs": [],
   "source": [
    "def loss_function(real, pred):\n",
    "    mask = tf.math.logical_not(tf.math.equal(real, 0))\n",
    "    loss_object = tf.keras.losses.SparseCategoricalCrossentropy(from_logits=True, reduction='none')\n",
    "    loss_ = loss_object(real, pred)\n",
    "    mask = tf.cast(mask, dtype=loss_.dtype)\n",
    "    loss_ *= mask\n",
    "    return tf.reduce_mean(loss_)"
   ]
  },
  {
   "cell_type": "markdown",
   "metadata": {
    "id": "11PwkigioLFN"
   },
   "source": [
    "## Model Training"
   ]
  },
  {
   "cell_type": "code",
   "execution_count": null,
   "metadata": {
    "id": "rO1R0QrVn3t3"
   },
   "outputs": [],
   "source": [
    "lr = tf.keras.callbacks.ReduceLROnPlateau(monitor='val_loss', factor=0.99, patience=100)\n",
    "es = tf.keras.callbacks.EarlyStopping(patience=3, verbose=1, min_delta=0.001, monitor='val_loss', mode='min', restore_best_weights=True)\n",
    "\n",
    "train_steps = train.shape[0]//512\n",
    "valid_steps = test.shape[0]//512\n",
    "\n",
    "model  = Encoder_Decoder(encoder_inputs_length=25,\n",
    "                          decoder_inputs_length=25,\n",
    "                          input_vocab_size=vocab_size_input,\n",
    "                          output_vocab_size=vocab_size_output, \n",
    "                          embedding_dim=300, \n",
    "                          enc_units=256, \n",
    "                          dec_units=256, \n",
    "                          att_units=256,\n",
    "                          batch_size=512,\n",
    "                          score_fun='dot')\n",
    "\n",
    "model.compile(optimizer=tf.keras.optimizers.Adam(),loss=loss_function)"
   ]
  },
  {
   "cell_type": "markdown",
   "metadata": {
    "id": "9OyEf-mTP19_"
   },
   "source": [
    "20 Epoch"
   ]
  },
  {
   "cell_type": "code",
   "execution_count": null,
   "metadata": {
    "colab": {
     "base_uri": "https://localhost:8080/"
    },
    "id": "1bXjrmvoeviz",
    "outputId": "c9f6ea6e-4fb5-4fd1-f63b-36d0b4fd550b"
   },
   "outputs": [
    {
     "name": "stdout",
     "output_type": "stream",
     "text": [
      "Epoch 1/20\n",
      "164/164 [==============================] - 185s 1s/step - loss: 3.1284 - val_loss: 2.8971\n",
      "Epoch 2/20\n",
      "164/164 [==============================] - 176s 1s/step - loss: 2.8400 - val_loss: 2.7338\n",
      "Epoch 3/20\n",
      "164/164 [==============================] - 179s 1s/step - loss: 2.6552 - val_loss: 2.5243\n",
      "Epoch 4/20\n",
      "164/164 [==============================] - 180s 1s/step - loss: 2.4050 - val_loss: 2.2326\n",
      "Epoch 5/20\n",
      "164/164 [==============================] - 180s 1s/step - loss: 2.1016 - val_loss: 1.9391\n",
      "Epoch 6/20\n",
      "164/164 [==============================] - 180s 1s/step - loss: 1.8365 - val_loss: 1.6782\n",
      "Epoch 7/20\n",
      "164/164 [==============================] - 180s 1s/step - loss: 1.5743 - val_loss: 1.4253\n",
      "Epoch 8/20\n",
      "164/164 [==============================] - 180s 1s/step - loss: 1.3487 - val_loss: 1.2280\n",
      "Epoch 9/20\n",
      "164/164 [==============================] - 180s 1s/step - loss: 1.1847 - val_loss: 1.0900\n",
      "Epoch 10/20\n",
      "164/164 [==============================] - 180s 1s/step - loss: 1.0615 - val_loss: 0.9799\n",
      "Epoch 11/20\n",
      "164/164 [==============================] - 180s 1s/step - loss: 0.9663 - val_loss: 0.8962\n",
      "Epoch 12/20\n",
      "164/164 [==============================] - 180s 1s/step - loss: 0.8882 - val_loss: 0.8242\n",
      "Epoch 13/20\n",
      "164/164 [==============================] - 180s 1s/step - loss: 0.8207 - val_loss: 0.7708\n",
      "Epoch 14/20\n",
      "164/164 [==============================] - 180s 1s/step - loss: 0.7653 - val_loss: 0.7114\n",
      "Epoch 15/20\n",
      "164/164 [==============================] - 180s 1s/step - loss: 0.7157 - val_loss: 0.6688\n",
      "Epoch 16/20\n",
      "164/164 [==============================] - 180s 1s/step - loss: 0.6740 - val_loss: 0.6331\n",
      "Epoch 17/20\n",
      "164/164 [==============================] - 180s 1s/step - loss: 0.6391 - val_loss: 0.6017\n",
      "Epoch 18/20\n",
      "164/164 [==============================] - 180s 1s/step - loss: 0.6093 - val_loss: 0.5744\n",
      "Epoch 19/20\n",
      "164/164 [==============================] - 180s 1s/step - loss: 0.5822 - val_loss: 0.5525\n",
      "Epoch 20/20\n",
      "164/164 [==============================] - 180s 1s/step - loss: 0.5606 - val_loss: 0.5353\n"
     ]
    }
   ],
   "source": [
    "with tf.device('/device:GPU:0'):\n",
    "    history20 = model.fit_generator(train_dataloader, steps_per_epoch=train_steps, epochs=20, validation_data=train_dataloader, validation_steps=train_steps, callbacks=[lr,es])"
   ]
  },
  {
   "cell_type": "code",
   "execution_count": null,
   "metadata": {
    "id": "GQ7fAhM17hx2"
   },
   "outputs": [],
   "source": [
    "model.save_weights(model_path + 'att20/' + 'attention20', save_format='tf') "
   ]
  },
  {
   "cell_type": "code",
   "execution_count": null,
   "metadata": {
    "colab": {
     "base_uri": "https://localhost:8080/",
     "height": 301
    },
    "id": "HfutJC3DXqId",
    "outputId": "5f47fc37-3832-461e-804b-b59afefd9f92"
   },
   "outputs": [
    {
     "data": {
      "image/png": "[encoded data removed]",
      "text/plain": [
       "<Figure size 432x288 with 1 Axes>"
      ]
     },
     "metadata": {
      "tags": []
     },
     "output_type": "display_data"
    }
   ],
   "source": [
    "plt.plot(history20.history['loss'])\n",
    "plt.plot(history20.history['val_loss'])\n",
    "plt.title('model loss')\n",
    "plt.ylabel('loss')\n",
    "plt.xlabel('epoch')\n",
    "plt.legend(['train', 'test'], loc='upper right')\n",
    "plt.show()"
   ]
  },
  {
   "cell_type": "code",
   "execution_count": null,
   "metadata": {
    "colab": {
     "base_uri": "https://localhost:8080/"
    },
    "id": "ElR2P237InDo",
    "outputId": "9a710e35-ffb1-468d-95b1-a3de3438cf2b"
   },
   "outputs": [
    {
     "name": "stdout",
     "output_type": "stream",
     "text": [
      "Model: \"Encoder-Decoder-Attention\"\n",
      "_________________________________________________________________\n",
      "Layer (type)                 Output Shape              Param #   \n",
      "=================================================================\n",
      "encoder (Encoder)            multiple                  11794036  \n",
      "_________________________________________________________________\n",
      "decoder (Decoder)            multiple                  26575963  \n",
      "=================================================================\n",
      "Total params: 38,369,999\n",
      "Trainable params: 18,911,399\n",
      "Non-trainable params: 19,458,600\n",
      "_________________________________________________________________\n"
     ]
    }
   ],
   "source": [
    "model.summary()"
   ]
  },
  {
   "cell_type": "markdown",
   "metadata": {
    "id": "2rHPW4o1P9hU"
   },
   "source": [
    "40 Epoch"
   ]
  },
  {
   "cell_type": "code",
   "execution_count": null,
   "metadata": {
    "colab": {
     "base_uri": "https://localhost:8080/"
    },
    "id": "sy7OtaovIttl",
    "outputId": "5c284545-63b2-4b29-f524-bd4238f510dd"
   },
   "outputs": [
    {
     "name": "stdout",
     "output_type": "stream",
     "text": [
      "Epoch 1/20\n",
      "164/164 [==============================] - 181s 1s/step - loss: 0.5404 - val_loss: 0.5158\n",
      "Epoch 2/20\n",
      "164/164 [==============================] - 180s 1s/step - loss: 0.5392 - val_loss: 0.5087\n",
      "Epoch 3/20\n",
      "164/164 [==============================] - 181s 1s/step - loss: 0.5101 - val_loss: 0.4832\n",
      "Epoch 4/20\n",
      "164/164 [==============================] - 180s 1s/step - loss: 0.4923 - val_loss: 0.4730\n",
      "Epoch 5/20\n",
      "164/164 [==============================] - 181s 1s/step - loss: 0.4793 - val_loss: 0.4553\n",
      "Epoch 6/20\n",
      "164/164 [==============================] - 181s 1s/step - loss: 0.4630 - val_loss: 0.4467\n",
      "Epoch 7/20\n",
      "164/164 [==============================] - 180s 1s/step - loss: 0.4509 - val_loss: 0.4296\n",
      "Epoch 8/20\n",
      "164/164 [==============================] - 180s 1s/step - loss: 0.4416 - val_loss: 0.4211\n",
      "Epoch 9/20\n",
      "164/164 [==============================] - 180s 1s/step - loss: 0.4281 - val_loss: 0.4069\n",
      "Epoch 10/20\n",
      "164/164 [==============================] - 180s 1s/step - loss: 0.4566 - val_loss: 0.4294\n",
      "Epoch 11/20\n",
      "164/164 [==============================] - 180s 1s/step - loss: 0.4234 - val_loss: 0.3983\n",
      "Epoch 12/20\n",
      "164/164 [==============================] - 181s 1s/step - loss: 0.4022 - val_loss: 0.3827\n",
      "Epoch 13/20\n",
      "164/164 [==============================] - 180s 1s/step - loss: 0.3898 - val_loss: 0.3717\n",
      "Epoch 14/20\n",
      "164/164 [==============================] - 181s 1s/step - loss: 0.3797 - val_loss: 0.3632\n",
      "Epoch 15/20\n",
      "164/164 [==============================] - 181s 1s/step - loss: 0.3698 - val_loss: 0.3518\n",
      "Epoch 16/20\n",
      "164/164 [==============================] - 180s 1s/step - loss: 0.3615 - val_loss: 0.3427\n",
      "Epoch 17/20\n",
      "164/164 [==============================] - 180s 1s/step - loss: 0.3557 - val_loss: 0.3389\n",
      "Epoch 18/20\n",
      "164/164 [==============================] - 180s 1s/step - loss: 0.3449 - val_loss: 0.3253\n",
      "Epoch 19/20\n",
      "164/164 [==============================] - 181s 1s/step - loss: 0.3356 - val_loss: 0.3213\n",
      "Epoch 20/20\n",
      "164/164 [==============================] - 181s 1s/step - loss: 0.3401 - val_loss: 0.3178\n"
     ]
    }
   ],
   "source": [
    "with tf.device('/device:GPU:0'): \n",
    "    history40 = model.fit_generator(train_dataloader, steps_per_epoch=train_steps, epochs=20, validation_data=train_dataloader, validation_steps=train_steps, callbacks=[lr,es])"
   ]
  },
  {
   "cell_type": "code",
   "execution_count": null,
   "metadata": {
    "id": "7iwvxADRyA6b"
   },
   "outputs": [],
   "source": [
    "model.save_weights(model_path + 'att40/' + 'attention40', save_format='tf') "
   ]
  },
  {
   "cell_type": "code",
   "execution_count": null,
   "metadata": {
    "colab": {
     "base_uri": "https://localhost:8080/",
     "height": 301
    },
    "id": "lyIftI2OyEIy",
    "outputId": "49daeb6d-81cd-4a92-bcc0-9eb5db6951c1"
   },
   "outputs": [
    {
     "data": {
      "image/png": "[encoded data removed]",
      "text/plain": [
       "<Figure size 432x288 with 1 Axes>"
      ]
     },
     "metadata": {
      "tags": []
     },
     "output_type": "display_data"
    }
   ],
   "source": [
    "plt.plot(history40.history['loss'])\n",
    "plt.plot(history40.history['val_loss'])\n",
    "plt.title('model loss')\n",
    "plt.ylabel('loss')\n",
    "plt.xlabel('epoch')\n",
    "plt.legend(['train', 'test'], loc='upper right')\n",
    "plt.show()"
   ]
  },
  {
   "cell_type": "markdown",
   "metadata": {
    "id": "uvUyWZaKM11H"
   },
   "source": [
    "50 Epoch"
   ]
  },
  {
   "cell_type": "code",
   "execution_count": null,
   "metadata": {
    "colab": {
     "base_uri": "https://localhost:8080/"
    },
    "id": "lG6rsPsoM41K",
    "outputId": "162c2d8f-6678-493a-9314-ed9283eabc5d"
   },
   "outputs": [
    {
     "name": "stdout",
     "output_type": "stream",
     "text": [
      "Epoch 1/10\n",
      "164/164 [==============================] - 181s 1s/step - loss: 0.3272 - val_loss: 0.3058\n",
      "Epoch 2/10\n",
      "164/164 [==============================] - 181s 1s/step - loss: 0.3124 - val_loss: 0.2929\n",
      "Epoch 3/10\n",
      "164/164 [==============================] - 180s 1s/step - loss: 0.3026 - val_loss: 0.2865\n",
      "Epoch 4/10\n",
      "164/164 [==============================] - 181s 1s/step - loss: 0.2955 - val_loss: 0.2784\n",
      "Epoch 5/10\n",
      "164/164 [==============================] - 181s 1s/step - loss: 0.2882 - val_loss: 0.2734\n",
      "Epoch 6/10\n",
      "164/164 [==============================] - 181s 1s/step - loss: 0.2812 - val_loss: 0.2656\n",
      "Epoch 7/10\n",
      "164/164 [==============================] - 181s 1s/step - loss: 0.2729 - val_loss: 0.2585\n",
      "Epoch 8/10\n",
      "164/164 [==============================] - 181s 1s/step - loss: 0.2653 - val_loss: 0.2487\n",
      "Epoch 9/10\n",
      "164/164 [==============================] - 180s 1s/step - loss: 0.2590 - val_loss: 0.2455\n",
      "Epoch 10/10\n",
      "164/164 [==============================] - 215s 1s/step - loss: 0.2515 - val_loss: 0.2367\n"
     ]
    }
   ],
   "source": [
    "with tf.device('/device:GPU:0'): \n",
    "    history50 = model.fit_generator(train_dataloader, steps_per_epoch=train_steps, epochs=10, validation_data=train_dataloader, validation_steps=train_steps, callbacks=[lr,es])"
   ]
  },
  {
   "cell_type": "code",
   "execution_count": null,
   "metadata": {
    "id": "OKcJm1IXNAjR"
   },
   "outputs": [],
   "source": [
    "model.save_weights(model_path + 'att50/' + 'attention50', save_format='tf') "
   ]
  },
  {
   "cell_type": "code",
   "execution_count": null,
   "metadata": {
    "colab": {
     "base_uri": "https://localhost:8080/",
     "height": 301
    },
    "id": "h_4W8QihNGTR",
    "outputId": "b1ffb0e7-4f65-4f56-98f0-6f3225c496ab"
   },
   "outputs": [
    {
     "data": {
      "image/png": "[encoded data removed]",
      "text/plain": [
       "<Figure size 432x288 with 1 Axes>"
      ]
     },
     "metadata": {
      "tags": []
     },
     "output_type": "display_data"
    }
   ],
   "source": [
    "plt.plot(history50.history['loss'])\n",
    "plt.plot(history50.history['val_loss'])\n",
    "plt.title('model loss')\n",
    "plt.ylabel('loss')\n",
    "plt.xlabel('epoch')\n",
    "plt.legend(['train', 'test'], loc='upper right')\n",
    "plt.show()"
   ]
  },
  {
   "cell_type": "markdown",
   "metadata": {
    "id": "3-1QSXiSQECt"
   },
   "source": [
    "60 Epoch"
   ]
  },
  {
   "cell_type": "code",
   "execution_count": null,
   "metadata": {
    "colab": {
     "base_uri": "https://localhost:8080/"
    },
    "id": "uNJrPDdozre8",
    "outputId": "40a20b3a-40d7-4d33-f882-dd0334503fca"
   },
   "outputs": [
    {
     "name": "stdout",
     "output_type": "stream",
     "text": [
      "Epoch 1/10\n",
      "164/164 [==============================] - 181s 1s/step - loss: 0.2453 - val_loss: 0.2327\n",
      "Epoch 2/10\n",
      "164/164 [==============================] - 181s 1s/step - loss: 0.2388 - val_loss: 0.2227\n",
      "Epoch 3/10\n",
      "164/164 [==============================] - 181s 1s/step - loss: 0.2385 - val_loss: 0.2332\n",
      "Epoch 4/10\n",
      "164/164 [==============================] - 181s 1s/step - loss: 0.2282 - val_loss: 0.2082\n",
      "Epoch 5/10\n",
      "164/164 [==============================] - 181s 1s/step - loss: 0.2277 - val_loss: 0.2079\n",
      "Epoch 6/10\n",
      "164/164 [==============================] - 181s 1s/step - loss: 0.2158 - val_loss: 0.1991\n",
      "Epoch 7/10\n",
      "164/164 [==============================] - 179s 1s/step - loss: 0.2045 - val_loss: 0.1905\n",
      "Epoch 8/10\n",
      "164/164 [==============================] - 180s 1s/step - loss: 0.1969 - val_loss: 0.1830\n",
      "Epoch 9/10\n",
      "164/164 [==============================] - 180s 1s/step - loss: 0.1917 - val_loss: 0.1823\n",
      "Epoch 10/10\n",
      "164/164 [==============================] - 181s 1s/step - loss: 0.1867 - val_loss: 0.1733\n"
     ]
    }
   ],
   "source": [
    "with tf.device('/device:GPU:0'): \n",
    "    history60 = model.fit_generator(train_dataloader, steps_per_epoch=train_steps, epochs=10, validation_data=train_dataloader, validation_steps=train_steps, callbacks=[lr,es])"
   ]
  },
  {
   "cell_type": "code",
   "execution_count": null,
   "metadata": {
    "id": "GTZg0DTHz8rF"
   },
   "outputs": [],
   "source": [
    "model.save_weights(model_path + 'att60/' + 'attention60', save_format='tf') "
   ]
  },
  {
   "cell_type": "code",
   "execution_count": null,
   "metadata": {
    "colab": {
     "base_uri": "https://localhost:8080/",
     "height": 301
    },
    "id": "WH5I05P1z_mJ",
    "outputId": "91d475ab-0dc2-4d8a-9b69-42f37cd0aed3"
   },
   "outputs": [
    {
     "data": {
      "image/png": "[encoded data removed]",
      "text/plain": [
       "<Figure size 432x288 with 1 Axes>"
      ]
     },
     "metadata": {
      "tags": []
     },
     "output_type": "display_data"
    }
   ],
   "source": [
    "plt.plot(history60.history['loss'])\n",
    "plt.plot(history60.history['val_loss'])\n",
    "plt.title('model loss')\n",
    "plt.ylabel('loss')\n",
    "plt.xlabel('epoch')\n",
    "plt.legend(['train', 'test'], loc='upper right')\n",
    "plt.show()"
   ]
  },
  {
   "cell_type": "markdown",
   "metadata": {
    "id": "7K97mVgcaXT3"
   },
   "source": [
    "70 Epoch"
   ]
  },
  {
   "cell_type": "code",
   "execution_count": null,
   "metadata": {
    "colab": {
     "base_uri": "https://localhost:8080/"
    },
    "id": "-b1x2q5OabIp",
    "outputId": "94d58926-f3cd-4805-cf25-0ef9f8b5d901"
   },
   "outputs": [
    {
     "name": "stdout",
     "output_type": "stream",
     "text": [
      "Epoch 1/10\n",
      "164/164 [==============================] - 198s 1s/step - loss: 0.1897 - val_loss: 0.1769\n",
      "Epoch 2/10\n",
      "164/164 [==============================] - 183s 1s/step - loss: 0.2136 - val_loss: 0.1908\n",
      "Epoch 3/10\n",
      "164/164 [==============================] - 183s 1s/step - loss: 0.1821 - val_loss: 0.1616\n",
      "Epoch 4/10\n",
      "164/164 [==============================] - 184s 1s/step - loss: 0.1651 - val_loss: 0.1551\n",
      "Epoch 5/10\n",
      "164/164 [==============================] - 182s 1s/step - loss: 0.1659 - val_loss: 0.1520\n",
      "Epoch 6/10\n",
      "164/164 [==============================] - 182s 1s/step - loss: 0.1535 - val_loss: 0.1407\n",
      "Epoch 7/10\n",
      "164/164 [==============================] - 182s 1s/step - loss: 0.1469 - val_loss: 0.1347\n",
      "Epoch 8/10\n",
      "164/164 [==============================] - 182s 1s/step - loss: 0.1399 - val_loss: 0.1289\n",
      "Epoch 9/10\n",
      "164/164 [==============================] - 182s 1s/step - loss: 0.1401 - val_loss: 0.1278\n",
      "Epoch 10/10\n",
      "164/164 [==============================] - 182s 1s/step - loss: 0.1333 - val_loss: 0.1221\n"
     ]
    }
   ],
   "source": [
    "with tf.device('/device:GPU:0'): \n",
    "    history70 = model.fit_generator(train_dataloader, steps_per_epoch=train_steps, epochs=10, validation_data=train_dataloader, validation_steps=train_steps, callbacks=[lr,es])"
   ]
  },
  {
   "cell_type": "code",
   "execution_count": null,
   "metadata": {
    "id": "DcS0Wtj7afYb"
   },
   "outputs": [],
   "source": [
    "model.save_weights(model_path + 'att70/' + 'attention70', save_format='tf') "
   ]
  },
  {
   "cell_type": "code",
   "execution_count": null,
   "metadata": {
    "colab": {
     "base_uri": "https://localhost:8080/",
     "height": 301
    },
    "id": "UGquBm9majVD",
    "outputId": "5a195e5c-762d-4f48-bc14-eafa1e65c398"
   },
   "outputs": [
    {
     "data": {
      "image/png": "[encoded data removed]",
      "text/plain": [
       "<Figure size 432x288 with 1 Axes>"
      ]
     },
     "metadata": {
      "needs_background": "light",
      "tags": []
     },
     "output_type": "display_data"
    }
   ],
   "source": [
    "plt.plot(history70.history['loss'])\n",
    "plt.plot(history70.history['val_loss'])\n",
    "plt.title('model loss')\n",
    "plt.ylabel('loss')\n",
    "plt.xlabel('epoch')\n",
    "plt.legend(['train', 'test'], loc='upper right')\n",
    "plt.show()"
   ]
  },
  {
   "cell_type": "markdown",
   "metadata": {
    "id": "zFTaS0A2QIBh"
   },
   "source": [
    "80 Epoch"
   ]
  },
  {
   "cell_type": "code",
   "execution_count": null,
   "metadata": {
    "colab": {
     "base_uri": "https://localhost:8080/"
    },
    "id": "DLQyYzwr0H3x",
    "outputId": "7df67f04-5eba-4865-dc98-11af1376cab9"
   },
   "outputs": [
    {
     "name": "stdout",
     "output_type": "stream",
     "text": [
      "Epoch 1/10\n",
      "164/164 [==============================] - 183s 1s/step - loss: 0.1516 - val_loss: 0.1263\n",
      "Epoch 2/10\n",
      "164/164 [==============================] - 183s 1s/step - loss: 0.1303 - val_loss: 0.1136\n",
      "Epoch 3/10\n",
      "164/164 [==============================] - 183s 1s/step - loss: 0.1178 - val_loss: 0.1070\n",
      "Epoch 4/10\n",
      "164/164 [==============================] - 183s 1s/step - loss: 0.1121 - val_loss: 0.1025\n",
      "Epoch 5/10\n",
      "164/164 [==============================] - 182s 1s/step - loss: 0.1076 - val_loss: 0.1012\n",
      "Epoch 6/10\n",
      "164/164 [==============================] - 183s 1s/step - loss: 0.2603 - val_loss: 0.1952\n",
      "Epoch 7/10\n",
      "164/164 [==============================] - 182s 1s/step - loss: 0.1687 - val_loss: 0.1294\n",
      "Epoch 8/10\n",
      "164/164 [==============================] - 182s 1s/step - loss: 0.1259 - val_loss: 0.1063\n",
      "Restoring model weights from the end of the best epoch.\n",
      "Epoch 00008: early stopping\n"
     ]
    }
   ],
   "source": [
    "with tf.device('/device:GPU:0'): \n",
    "    history80 = model.fit_generator(train_dataloader, steps_per_epoch=train_steps, epochs=10, validation_data=train_dataloader, validation_steps=train_steps, callbacks=[lr,es])"
   ]
  },
  {
   "cell_type": "code",
   "execution_count": null,
   "metadata": {
    "id": "e-Umg4B8pChw"
   },
   "outputs": [],
   "source": [
    "model.save_weights(model_path + 'att80/' + 'attention80', save_format='tf') "
   ]
  },
  {
   "cell_type": "code",
   "execution_count": null,
   "metadata": {
    "colab": {
     "base_uri": "https://localhost:8080/",
     "height": 301
    },
    "id": "uS8jiMzm9QIK",
    "outputId": "2d6e8b3b-0eeb-4f80-e100-a0b7cc20a5af"
   },
   "outputs": [
    {
     "data": {
      "image/png": "[encoded data removed]",
      "text/plain": [
       "<Figure size 432x288 with 1 Axes>"
      ]
     },
     "metadata": {
      "needs_background": "light",
      "tags": []
     },
     "output_type": "display_data"
    }
   ],
   "source": [
    "plt.plot(history80.history['loss'])\n",
    "plt.plot(history80.history['val_loss'])\n",
    "plt.title('model loss')\n",
    "plt.ylabel('loss')\n",
    "plt.xlabel('epoch')\n",
    "plt.legend(['train', 'test'], loc='upper right')\n",
    "plt.show()"
   ]
  },
  {
   "cell_type": "markdown",
   "metadata": {
    "id": "eBrkUqtNT6Pn"
   },
   "source": [
    "## Model Prediction"
   ]
  },
  {
   "cell_type": "code",
   "execution_count": null,
   "metadata": {
    "id": "MP3kLZoPMvSu"
   },
   "outputs": [],
   "source": [
    "def predict(input_sentence):\n",
    "\n",
    "  batch_size = 1 \n",
    "  DECODER_SEQ_LEN = 25\n",
    "  predict_word_idx = np.zeros((1, 1))\n",
    "  predict_word_idx[0,0] = 1\n",
    "  predicted_sentence = ''\n",
    "\n",
    "  input_sequence=tokenizer_i.texts_to_sequences([input_sentence])\n",
    "  inputs=pad_sequences(input_sequence,maxlen=25,padding='post')\n",
    "  inputs=tf.convert_to_tensor(inputs)\n",
    "\n",
    "  enc_output, state_h, state_c = model.layers[0](inputs)\n",
    "\n",
    "  for i in range(DECODER_SEQ_LEN):\n",
    "      dec_output, state_h, state_c, attention_weights, context_vector = model.layers[1].one_step_decoder(predict_word_idx, enc_output, state_h, state_c)\n",
    "      predict_word_idx = np.reshape(np.argmax(dec_output), (1, 1))\n",
    "      predicted_sentence += ' ' + tokenizer_o.index_word[int(predict_word_idx)]\n",
    "\n",
    "      if tokenizer_o.word_index['<end>'] == predict_word_idx:\n",
    "          return predicted_sentence\n",
    "      dec_input = tf.expand_dims([predict_word_idx],0)\n",
    "  return predicted_sentence\n",
    "\n",
    "#----------------------------------------------------------------------------------------------------\n",
    "import nltk.translate.bleu_score as bleu\n",
    "\n",
    "def get_BLEU(model, train, test):\n",
    "    total_bleu=0\n",
    "    input_range = 100\n",
    "    for i in range(0,input_range):\n",
    "        output_sentence = ' '.join(train['output_text_out'].iloc[i].split()[:-1])\n",
    "        predicted_sentence = ' '.join(predict(train['input_text'].iloc[i]).split()[:-1])\n",
    "        output_sentence = [output_sentence.split()]\n",
    "        predicted_sentence = predicted_sentence.split()\n",
    "        bleu_score = bleu.sentence_bleu(output_sentence, predicted_sentence)\n",
    "        total_bleu += bleu_score\n",
    "    train_avg_bleu = total_bleu/input_range\n",
    "\n",
    "    total_bleu=0\n",
    "    input_range = 100\n",
    "    for i in range(0,input_range):\n",
    "        output_sentence = ' '.join(test['output_text_out'].iloc[i].split()[:-1])\n",
    "        predicted_sentence = ' '.join(predict(test['input_text'].iloc[i]).split()[:-1])\n",
    "        output_sentence = [output_sentence.split()]\n",
    "        predicted_sentence = predicted_sentence.split()\n",
    "        bleu_score = bleu.sentence_bleu(output_sentence, predicted_sentence)\n",
    "        total_bleu += bleu_score\n",
    "    test_avg_bleu = total_bleu/input_range\n",
    "\n",
    "    print('Train BLEU Score:', train_avg_bleu)\n",
    "    print('Test BLEU Score:', test_avg_bleu)"
   ]
  },
  {
   "cell_type": "code",
   "execution_count": null,
   "metadata": {
    "colab": {
     "base_uri": "https://localhost:8080/"
    },
    "id": "ureFzDMo6H21",
    "outputId": "e3c0fc36-2e44-4a0d-960a-dae2de995821"
   },
   "outputs": [
    {
     "name": "stdout",
     "output_type": "stream",
     "text": [
      "SUMMARY OF AVERAGE BLEU SCORE AT EPOCHS\n",
      "--------------------------------------------------\n",
      "Epoch 20\n",
      "Train BLEU Score: 0.5977507594441497\n",
      "Test BLEU Score: 0.5272503142879935\n",
      "==================================================\n",
      "Epoch 40\n",
      "Train BLEU Score: 0.6531866895704914\n",
      "Test BLEU Score: 0.5364951870842876\n",
      "==================================================\n",
      "Epoch 50\n",
      "Train BLEU Score: 0.6990811048274511\n",
      "Test BLEU Score: 0.5288988522961307\n",
      "==================================================\n",
      "Epoch 60\n",
      "Train BLEU Score: 0.7337227482270912\n",
      "Test BLEU Score: 0.5107392055893459\n",
      "==================================================\n",
      "Epoch 70\n",
      "Train BLEU Score: 0.7974770521009844\n",
      "Test BLEU Score: 0.5122925014452935\n",
      "==================================================\n",
      "Epoch 80\n",
      "Train BLEU Score: 0.8401762114031729\n",
      "Test BLEU Score: 0.5047640179793668\n",
      "==================================================\n"
     ]
    }
   ],
   "source": [
    "print('SUMMARY OF AVERAGE BLEU SCORE AT EPOCHS')\n",
    "print('-'*50)\n",
    "\n",
    "print('Epoch 20')\n",
    "model.load_weights(model_path + 'att20/' + 'attention20')\n",
    "get_BLEU(model, train, test)\n",
    "print('='*50)\n",
    "\n",
    "print('Epoch 40')\n",
    "model.load_weights(model_path + 'att40/' + 'attention40')\n",
    "get_BLEU(model, train, test)\n",
    "print('='*50)\n",
    "\n",
    "print('Epoch 50')\n",
    "model.load_weights(model_path + 'att50/' + 'attention50')\n",
    "get_BLEU(model, train, test)\n",
    "print('='*50)\n",
    "\n",
    "print('Epoch 60')\n",
    "model.load_weights(model_path + 'att60/' + 'attention60')\n",
    "get_BLEU(model, train, test)\n",
    "print('='*50)\n",
    "\n",
    "print('Epoch 70')\n",
    "model.load_weights(model_path + 'att70/' + 'attention70')\n",
    "get_BLEU(model, train, test)\n",
    "print('='*50)\n",
    "\n",
    "print('Epoch 80')\n",
    "model.load_weights(model_path + 'att80/' + 'attention80')\n",
    "get_BLEU(model, train, test)\n",
    "print('='*50)"
   ]
  },
  {
   "cell_type": "code",
   "execution_count": null,
   "metadata": {
    "colab": {
     "base_uri": "https://localhost:8080/"
    },
    "id": "oNbzWLlgALn1",
    "outputId": "f941136c-c28d-4d0f-c346-99f490fb77d2"
   },
   "outputs": [
    {
     "data": {
      "text/plain": [
       "<tensorflow.python.training.tracking.util.CheckpointLoadStatus at 0x7f5382b4c450>"
      ]
     },
     "execution_count": 50,
     "metadata": {
      "tags": []
     },
     "output_type": "execute_result"
    }
   ],
   "source": [
    "model.load_weights(model_path + 'att50/' + 'attention50')"
   ]
  },
  {
   "cell_type": "markdown",
   "metadata": {
    "id": "NHO__os32v-V"
   },
   "source": [
    "Train"
   ]
  },
  {
   "cell_type": "code",
   "execution_count": null,
   "metadata": {
    "colab": {
     "base_uri": "https://localhost:8080/"
    },
    "id": "lYk3c97G2xjz",
    "outputId": "7e270478-c01f-4602-aec1-a6b3572a8a76"
   },
   "outputs": [
    {
     "name": "stdout",
     "output_type": "stream",
     "text": [
      "Input Text: At the party , the member has variety job .\n",
      "Output Text: At the party , the members have a variety of jobs .\n",
      "Predicted Text: At the party , the members have a variety of jobs .\n",
      "====================================================================================================\n",
      "Input Text: Thank you NY .\n",
      "Output Text: Thank you , NY !\n",
      "Predicted Text: Thank you , NY .\n",
      "====================================================================================================\n",
      "Input Text: Few last days have been strange .\n",
      "Output Text: The last few days have been strange .\n",
      "Predicted Text: A few days have been strange .\n",
      "====================================================================================================\n",
      "Input Text: I 've started feeling lately that I have n't figured out what kind of relationships I 'm seeking for with people around me .\n",
      "Output Text: I 've started feeling lately that I have n't figured out what kind of relationships I 'm seeking with the people around me .\n",
      "Predicted Text: I 've started feeling lately that I have n't figured out what kind of relationships I 'm seeking forward to the people around me\n",
      "====================================================================================================\n",
      "Input Text: We also often listen to the CD which includes the conversation amongst native speakers .\n",
      "Output Text: We also often listened to the CD which includes conversation amongst native speakers .\n",
      "Predicted Text: We also often listened to the CD which includes the conversation amongst native speakers .\n",
      "====================================================================================================\n"
     ]
    }
   ],
   "source": [
    "for i in range(len(train[:5])):\n",
    "    print(\"Input Text:\", train['input_text'].iloc[i])\n",
    "    print(\"Output Text:\", ' '.join(train['output_text_out'].iloc[i].split()[:-1]))\n",
    "    print(\"Predicted Text:\", ' '.join(predict(train['input_text'].iloc[i]).split()[:-1]))\n",
    "    print('='*100)"
   ]
  },
  {
   "cell_type": "markdown",
   "metadata": {
    "id": "xfdi0T3hYraI"
   },
   "source": [
    "Test"
   ]
  },
  {
   "cell_type": "code",
   "execution_count": null,
   "metadata": {
    "colab": {
     "base_uri": "https://localhost:8080/"
    },
    "id": "qT56tjoEU0ek",
    "outputId": "d849f2c6-5d77-4e5e-caf6-23b15188142e"
   },
   "outputs": [
    {
     "name": "stdout",
     "output_type": "stream",
     "text": [
      "Input Text: Have you ever over the wall of school ?\n",
      "Output Text: Have you ever climbed over the wall at school ?\n",
      "Predicted Text: Have you ever over the wall of school ?\n",
      "====================================================================================================\n",
      "Input Text: It is so narrow that I have to keep my body very fit everytime .\n",
      "Output Text: It is so narrow that I have to keep my body very fit all the time .\n",
      "Predicted Text: It is so narrow that I have to keep my body very strong .\n",
      "====================================================================================================\n",
      "Input Text: You can check the maintenance is finished or not at twitter .\n",
      "Output Text: You can check whether the maintenance is finished or not on twitter .\n",
      "Predicted Text: You can check the maintenance is finished or not on Twitter .\n",
      "====================================================================================================\n",
      "Input Text: Anyone who gets higher than  scores can pass it .\n",
      "Output Text: Anyone who gets higher than a , passes it or passes the exam .\n",
      "Predicted Text: Anyone who gets higher than score can pass it .\n",
      "====================================================================================================\n",
      "Input Text: I talked with Rie about our job , but it was a short time .\n",
      "Output Text: I talked with Rie about our job , but it was just for a short time .\n",
      "Predicted Text: I talked with art for our job , but it was a short time .\n",
      "====================================================================================================\n"
     ]
    }
   ],
   "source": [
    "for i in range(len(test[:5])):\n",
    "    print(\"Input Text:\", test['input_text'].iloc[i])\n",
    "    print(\"Output Text:\", ' '.join(test['output_text_out'].iloc[i].split()[:-1]))\n",
    "    print(\"Predicted Text:\", ' '.join(predict(test['input_text'].iloc[i]).split()[:-1]))\n",
    "    print('='*100)"
   ]
  }
 ],
 "metadata": {
  "accelerator": "GPU",
  "colab": {
   "collapsed_sections": [],
   "name": "4_5_Attention_BiLSTM_&_Fasttext_Embed_(W).ipynb",
   "provenance": [],
   "toc_visible": true
  },
  "kernelspec": {
   "display_name": "Python 3",
   "language": "python",
   "name": "python3"
  },
  "language_info": {
   "codemirror_mode": {
    "name": "ipython",
    "version": 3
   },
   "file_extension": ".py",
   "mimetype": "text/x-python",
   "name": "python",
   "nbconvert_exporter": "python",
   "pygments_lexer": "ipython3",
   "version": "3.8.8"
  }
 },
 "nbformat": 4,
 "nbformat_minor": 1
}
